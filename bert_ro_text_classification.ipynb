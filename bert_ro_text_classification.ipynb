{
 "cells": [
  {
   "cell_type": "code",
   "execution_count": 13,
   "id": "bc655c6a-04db-4518-beae-2834666330ce",
   "metadata": {},
   "outputs": [],
   "source": [
    "import tensorflow as tf\n",
    "import tensorflow_hub as hub\n",
    "import tensorflow_text as text\n",
    "import numpy as np\n",
    "import pandas as pd\n",
    "import matplotlib.pyplot as plt\n",
    "import json\n",
    "import os\n",
    "from sklearn.metrics import precision_score, accuracy_score, recall_score, f1_score, confusion_matrix\n",
    "import seaborn as sns"
   ]
  },
  {
   "cell_type": "code",
   "execution_count": 14,
   "id": "adadda7b-f501-4580-bf08-ec53f1a7d960",
   "metadata": {},
   "outputs": [
    {
     "name": "stdout",
     "output_type": "stream",
     "text": [
      "Tensorflow version:  2.9.1\n",
      "[PhysicalDevice(name='/physical_device:GPU:0', device_type='GPU')]\n"
     ]
    }
   ],
   "source": [
    "print(\"Tensorflow version: \", tf.__version__)\n",
    "print(tf.config.list_physical_devices(\"GPU\"))"
   ]
  },
  {
   "cell_type": "code",
   "execution_count": 15,
   "id": "d9378bca-5a2b-4ef4-a9f6-119bdc627dc6",
   "metadata": {},
   "outputs": [
    {
     "data": {
      "text/html": [
       "<div>\n",
       "<style scoped>\n",
       "    .dataframe tbody tr th:only-of-type {\n",
       "        vertical-align: middle;\n",
       "    }\n",
       "\n",
       "    .dataframe tbody tr th {\n",
       "        vertical-align: top;\n",
       "    }\n",
       "\n",
       "    .dataframe thead th {\n",
       "        text-align: right;\n",
       "    }\n",
       "</style>\n",
       "<table border=\"1\" class=\"dataframe\">\n",
       "  <thead>\n",
       "    <tr style=\"text-align: right;\">\n",
       "      <th></th>\n",
       "      <th>text</th>\n",
       "      <th>label</th>\n",
       "    </tr>\n",
       "  </thead>\n",
       "  <tbody>\n",
       "    <tr>\n",
       "      <th>0</th>\n",
       "      <td>A aparut ceva nou in simptomatologia dumneavoa...</td>\n",
       "      <td>symptoms_changes</td>\n",
       "    </tr>\n",
       "    <tr>\n",
       "      <th>1</th>\n",
       "      <td>Alte probleme de sanatate ati avut</td>\n",
       "      <td>diseases_personal</td>\n",
       "    </tr>\n",
       "    <tr>\n",
       "      <th>2</th>\n",
       "      <td>Ati avut frisoane de curand</td>\n",
       "      <td>fever_symptoms</td>\n",
       "    </tr>\n",
       "    <tr>\n",
       "      <th>3</th>\n",
       "      <td>Ati avut o interventie chirurgicala</td>\n",
       "      <td>surgeries</td>\n",
       "    </tr>\n",
       "    <tr>\n",
       "      <th>4</th>\n",
       "      <td>Ati avut tuse cu sputa</td>\n",
       "      <td>cough_symptoms</td>\n",
       "    </tr>\n",
       "    <tr>\n",
       "      <th>...</th>\n",
       "      <td>...</td>\n",
       "      <td>...</td>\n",
       "    </tr>\n",
       "    <tr>\n",
       "      <th>186</th>\n",
       "      <td>și tu de vreo boală de care suferă tatăl dumne...</td>\n",
       "      <td>diseases_parents</td>\n",
       "    </tr>\n",
       "    <tr>\n",
       "      <th>187</th>\n",
       "      <td>știi tu de vreo boala de care suferă tatăl tău</td>\n",
       "      <td>diseases_parents</td>\n",
       "    </tr>\n",
       "    <tr>\n",
       "      <th>188</th>\n",
       "      <td>știți de vreo boală de care suferă mama dumnea...</td>\n",
       "      <td>diseases_parents</td>\n",
       "    </tr>\n",
       "    <tr>\n",
       "      <th>189</th>\n",
       "      <td>știți de vreo boală de care suferă mama sau ta...</td>\n",
       "      <td>diseases_parents</td>\n",
       "    </tr>\n",
       "    <tr>\n",
       "      <th>190</th>\n",
       "      <td>știți de vreo boală de care suferă mama voastră</td>\n",
       "      <td>diseases_parents</td>\n",
       "    </tr>\n",
       "  </tbody>\n",
       "</table>\n",
       "<p>191 rows × 2 columns</p>\n",
       "</div>"
      ],
      "text/plain": [
       "                                                  text              label\n",
       "0    A aparut ceva nou in simptomatologia dumneavoa...   symptoms_changes\n",
       "1                   Alte probleme de sanatate ati avut  diseases_personal\n",
       "2                          Ati avut frisoane de curand     fever_symptoms\n",
       "3                  Ati avut o interventie chirurgicala          surgeries\n",
       "4                               Ati avut tuse cu sputa     cough_symptoms\n",
       "..                                                 ...                ...\n",
       "186  și tu de vreo boală de care suferă tatăl dumne...   diseases_parents\n",
       "187     știi tu de vreo boala de care suferă tatăl tău   diseases_parents\n",
       "188  știți de vreo boală de care suferă mama dumnea...   diseases_parents\n",
       "189  știți de vreo boală de care suferă mama sau ta...   diseases_parents\n",
       "190    știți de vreo boală de care suferă mama voastră   diseases_parents\n",
       "\n",
       "[191 rows x 2 columns]"
      ]
     },
     "execution_count": 15,
     "metadata": {},
     "output_type": "execute_result"
    }
   ],
   "source": [
    "dir_path = os.path.join(\"database\", \"text_classification\")\n",
    "\n",
    "with open (os.path.join(dir_path, \"ro.json\")) as f:\n",
    "    data = json.load(f)\n",
    "    df = pd.DataFrame(data)\n",
    "\n",
    "df"
   ]
  },
  {
   "cell_type": "code",
   "execution_count": 16,
   "id": "0f755ece-5987-446e-a953-b1230e3be5cb",
   "metadata": {},
   "outputs": [
    {
     "data": {
      "text/html": [
       "<div>\n",
       "<style scoped>\n",
       "    .dataframe tbody tr th:only-of-type {\n",
       "        vertical-align: middle;\n",
       "    }\n",
       "\n",
       "    .dataframe tbody tr th {\n",
       "        vertical-align: top;\n",
       "    }\n",
       "\n",
       "    .dataframe thead th {\n",
       "        text-align: right;\n",
       "    }\n",
       "</style>\n",
       "<table border=\"1\" class=\"dataframe\">\n",
       "  <thead>\n",
       "    <tr style=\"text-align: right;\">\n",
       "      <th></th>\n",
       "      <th>text</th>\n",
       "      <th>label</th>\n",
       "    </tr>\n",
       "  </thead>\n",
       "  <tbody>\n",
       "    <tr>\n",
       "      <th>0</th>\n",
       "      <td>A aparut ceva nou in simptomatologia dumneavoa...</td>\n",
       "      <td>symptoms_changes</td>\n",
       "    </tr>\n",
       "    <tr>\n",
       "      <th>1</th>\n",
       "      <td>Alte probleme de sanatate ati avut</td>\n",
       "      <td>diseases_personal</td>\n",
       "    </tr>\n",
       "    <tr>\n",
       "      <th>2</th>\n",
       "      <td>Ati avut frisoane de curand</td>\n",
       "      <td>fever_symptoms</td>\n",
       "    </tr>\n",
       "    <tr>\n",
       "      <th>3</th>\n",
       "      <td>Ati avut o interventie chirurgicala</td>\n",
       "      <td>surgeries</td>\n",
       "    </tr>\n",
       "    <tr>\n",
       "      <th>4</th>\n",
       "      <td>Ati avut tuse cu sputa</td>\n",
       "      <td>cough_symptoms</td>\n",
       "    </tr>\n",
       "    <tr>\n",
       "      <th>...</th>\n",
       "      <td>...</td>\n",
       "      <td>...</td>\n",
       "    </tr>\n",
       "    <tr>\n",
       "      <th>186</th>\n",
       "      <td>și tu de vreo boală de care suferă tatăl dumne...</td>\n",
       "      <td>diseases_parents</td>\n",
       "    </tr>\n",
       "    <tr>\n",
       "      <th>187</th>\n",
       "      <td>știi tu de vreo boala de care suferă tatăl tău</td>\n",
       "      <td>diseases_parents</td>\n",
       "    </tr>\n",
       "    <tr>\n",
       "      <th>188</th>\n",
       "      <td>știți de vreo boală de care suferă mama dumnea...</td>\n",
       "      <td>diseases_parents</td>\n",
       "    </tr>\n",
       "    <tr>\n",
       "      <th>189</th>\n",
       "      <td>știți de vreo boală de care suferă mama sau ta...</td>\n",
       "      <td>diseases_parents</td>\n",
       "    </tr>\n",
       "    <tr>\n",
       "      <th>190</th>\n",
       "      <td>știți de vreo boală de care suferă mama voastră</td>\n",
       "      <td>diseases_parents</td>\n",
       "    </tr>\n",
       "  </tbody>\n",
       "</table>\n",
       "<p>191 rows × 2 columns</p>\n",
       "</div>"
      ],
      "text/plain": [
       "                                                  text              label\n",
       "0    A aparut ceva nou in simptomatologia dumneavoa...   symptoms_changes\n",
       "1                   Alte probleme de sanatate ati avut  diseases_personal\n",
       "2                          Ati avut frisoane de curand     fever_symptoms\n",
       "3                  Ati avut o interventie chirurgicala          surgeries\n",
       "4                               Ati avut tuse cu sputa     cough_symptoms\n",
       "..                                                 ...                ...\n",
       "186  și tu de vreo boală de care suferă tatăl dumne...   diseases_parents\n",
       "187     știi tu de vreo boala de care suferă tatăl tău   diseases_parents\n",
       "188  știți de vreo boală de care suferă mama dumnea...   diseases_parents\n",
       "189  știți de vreo boală de care suferă mama sau ta...   diseases_parents\n",
       "190    știți de vreo boală de care suferă mama voastră   diseases_parents\n",
       "\n",
       "[191 rows x 2 columns]"
      ]
     },
     "execution_count": 16,
     "metadata": {},
     "output_type": "execute_result"
    }
   ],
   "source": [
    "df.drop_duplicates([\"text\"], ignore_index=True)"
   ]
  },
  {
   "cell_type": "code",
   "execution_count": 17,
   "id": "3b3e28c6-c04e-491f-81ee-e3f33ae0fb81",
   "metadata": {},
   "outputs": [
    {
     "data": {
      "text/plain": [
       "visit_reason              40\n",
       "symptoms_start            18\n",
       "diseases_parents          18\n",
       "fainting_symptoms         16\n",
       "chronic_treatment         15\n",
       "symptoms_circumstances    13\n",
       "symptoms_changes          12\n",
       "fever_symptoms            12\n",
       "palpitations_symptoms     12\n",
       "diseases_personal         10\n",
       "greetings                  8\n",
       "cough_symptoms             7\n",
       "surgeries                  5\n",
       "chest_pain                 5\n",
       "Name: label, dtype: int64"
      ]
     },
     "execution_count": 17,
     "metadata": {},
     "output_type": "execute_result"
    }
   ],
   "source": [
    "df[\"label\"].value_counts()"
   ]
  },
  {
   "cell_type": "code",
   "execution_count": 18,
   "id": "5a7a72d5-cc1f-4767-ae24-035d7f24a48d",
   "metadata": {},
   "outputs": [
    {
     "data": {
      "text/html": [
       "<div>\n",
       "<style scoped>\n",
       "    .dataframe tbody tr th:only-of-type {\n",
       "        vertical-align: middle;\n",
       "    }\n",
       "\n",
       "    .dataframe tbody tr th {\n",
       "        vertical-align: top;\n",
       "    }\n",
       "\n",
       "    .dataframe thead th {\n",
       "        text-align: right;\n",
       "    }\n",
       "</style>\n",
       "<table border=\"1\" class=\"dataframe\">\n",
       "  <thead>\n",
       "    <tr style=\"text-align: right;\">\n",
       "      <th></th>\n",
       "      <th>text</th>\n",
       "      <th>label</th>\n",
       "    </tr>\n",
       "  </thead>\n",
       "  <tbody>\n",
       "    <tr>\n",
       "      <th>0</th>\n",
       "      <td>Care este motivul prezentarii la spital?</td>\n",
       "      <td>visit_reason</td>\n",
       "    </tr>\n",
       "    <tr>\n",
       "      <th>1</th>\n",
       "      <td>Cand a debutat simptomatologia?</td>\n",
       "      <td>symptoms_start</td>\n",
       "    </tr>\n",
       "    <tr>\n",
       "      <th>2</th>\n",
       "      <td>Care sunt circumstantele aparitiei simptomatol...</td>\n",
       "      <td>symptoms_circumstances</td>\n",
       "    </tr>\n",
       "    <tr>\n",
       "      <th>3</th>\n",
       "      <td>Au exisat modificari in simptomatologie de la ...</td>\n",
       "      <td>symptoms_changes</td>\n",
       "    </tr>\n",
       "    <tr>\n",
       "      <th>4</th>\n",
       "      <td>Stiti vreo boala de care sufera mama sau tatal...</td>\n",
       "      <td>diseases_parents</td>\n",
       "    </tr>\n",
       "  </tbody>\n",
       "</table>\n",
       "</div>"
      ],
      "text/plain": [
       "                                                text                   label\n",
       "0           Care este motivul prezentarii la spital?            visit_reason\n",
       "1                    Cand a debutat simptomatologia?          symptoms_start\n",
       "2  Care sunt circumstantele aparitiei simptomatol...  symptoms_circumstances\n",
       "3  Au exisat modificari in simptomatologie de la ...        symptoms_changes\n",
       "4  Stiti vreo boala de care sufera mama sau tatal...        diseases_parents"
      ]
     },
     "execution_count": 18,
     "metadata": {},
     "output_type": "execute_result"
    }
   ],
   "source": [
    "dir_path = os.path.join(\"database\", \"personas\")\n",
    "\n",
    "with open(os.path.join(dir_path, \"ro_personas.json\")) as f:\n",
    "    data = json.load(f)\n",
    "    texts = []\n",
    "    labels = []\n",
    "    for persona in data:\n",
    "        for dialog_entity in persona[\"dialog\"]:\n",
    "            if not \"questions\" in dialog_entity:\n",
    "                print(dialog_entity)\n",
    "            \n",
    "            for question in dialog_entity[\"questions\"]:\n",
    "                texts.append(question)\n",
    "                labels.append(dialog_entity[\"label\"])\n",
    "    df_persona = pd.DataFrame(\n",
    "        {\n",
    "            \"text\": texts,\n",
    "            \"label\": labels\n",
    "        }\n",
    "    )\n",
    "df_persona.head()"
   ]
  },
  {
   "cell_type": "code",
   "execution_count": 19,
   "id": "544df4ed-cda3-4de9-8795-03596d4316c1",
   "metadata": {},
   "outputs": [],
   "source": [
    "df_persona = df_persona.drop_duplicates([\"text\"], ignore_index=True)"
   ]
  },
  {
   "cell_type": "code",
   "execution_count": 20,
   "id": "8748fbf2-6928-49af-9801-bb8f12ccdbcf",
   "metadata": {},
   "outputs": [
    {
     "data": {
      "text/plain": [
       "{'symptoms_changes': 0,\n",
       " 'diseases_personal': 1,\n",
       " 'fever_symptoms': 2,\n",
       " 'surgeries': 3,\n",
       " 'cough_symptoms': 4,\n",
       " 'fainting_symptoms': 5,\n",
       " 'palpitations_symptoms': 6,\n",
       " 'greetings': 7,\n",
       " 'symptoms_start': 8,\n",
       " 'visit_reason': 9,\n",
       " 'chronic_treatment': 10,\n",
       " 'symptoms_circumstances': 11,\n",
       " 'chest_pain': 12,\n",
       " 'diseases_parents': 13}"
      ]
     },
     "execution_count": 20,
     "metadata": {},
     "output_type": "execute_result"
    }
   ],
   "source": [
    "df_combined = pd.concat([df, df_persona], ignore_index=True)\n",
    "label_to_idx = {label: idx for idx, label in enumerate(df_combined[\"label\"].unique())}\n",
    "label_to_idx"
   ]
  },
  {
   "cell_type": "code",
   "execution_count": 21,
   "id": "3cc6c9a5-3678-4d82-8379-81b4f5c36a90",
   "metadata": {},
   "outputs": [
    {
     "data": {
      "text/html": [
       "<div>\n",
       "<style scoped>\n",
       "    .dataframe tbody tr th:only-of-type {\n",
       "        vertical-align: middle;\n",
       "    }\n",
       "\n",
       "    .dataframe tbody tr th {\n",
       "        vertical-align: top;\n",
       "    }\n",
       "\n",
       "    .dataframe thead th {\n",
       "        text-align: right;\n",
       "    }\n",
       "</style>\n",
       "<table border=\"1\" class=\"dataframe\">\n",
       "  <thead>\n",
       "    <tr style=\"text-align: right;\">\n",
       "      <th></th>\n",
       "      <th>text</th>\n",
       "      <th>label</th>\n",
       "      <th>label_id</th>\n",
       "    </tr>\n",
       "  </thead>\n",
       "  <tbody>\n",
       "    <tr>\n",
       "      <th>0</th>\n",
       "      <td>A aparut ceva nou in simptomatologia dumneavoa...</td>\n",
       "      <td>symptoms_changes</td>\n",
       "      <td>0</td>\n",
       "    </tr>\n",
       "    <tr>\n",
       "      <th>1</th>\n",
       "      <td>Alte probleme de sanatate ati avut</td>\n",
       "      <td>diseases_personal</td>\n",
       "      <td>1</td>\n",
       "    </tr>\n",
       "    <tr>\n",
       "      <th>2</th>\n",
       "      <td>Ati avut frisoane de curand</td>\n",
       "      <td>fever_symptoms</td>\n",
       "      <td>2</td>\n",
       "    </tr>\n",
       "    <tr>\n",
       "      <th>3</th>\n",
       "      <td>Ati avut o interventie chirurgicala</td>\n",
       "      <td>surgeries</td>\n",
       "      <td>3</td>\n",
       "    </tr>\n",
       "    <tr>\n",
       "      <th>4</th>\n",
       "      <td>Ati avut tuse cu sputa</td>\n",
       "      <td>cough_symptoms</td>\n",
       "      <td>4</td>\n",
       "    </tr>\n",
       "  </tbody>\n",
       "</table>\n",
       "</div>"
      ],
      "text/plain": [
       "                                                text              label  \\\n",
       "0  A aparut ceva nou in simptomatologia dumneavoa...   symptoms_changes   \n",
       "1                 Alte probleme de sanatate ati avut  diseases_personal   \n",
       "2                        Ati avut frisoane de curand     fever_symptoms   \n",
       "3                Ati avut o interventie chirurgicala          surgeries   \n",
       "4                             Ati avut tuse cu sputa     cough_symptoms   \n",
       "\n",
       "   label_id  \n",
       "0         0  \n",
       "1         1  \n",
       "2         2  \n",
       "3         3  \n",
       "4         4  "
      ]
     },
     "execution_count": 21,
     "metadata": {},
     "output_type": "execute_result"
    }
   ],
   "source": [
    "df_combined[\"label_id\"] = df_combined[\"label\"].apply(lambda s: label_to_idx[s])\n",
    "df_combined.head()"
   ]
  },
  {
   "cell_type": "code",
   "execution_count": 22,
   "id": "82e11398-c5c0-43a7-8ef7-243a6fd642e8",
   "metadata": {},
   "outputs": [],
   "source": [
    "train_df = df_combined.groupby(\"label\").sample(frac=0.8, random_state=42)\n",
    "valid_df = df_combined.drop(train_df.index)"
   ]
  },
  {
   "cell_type": "code",
   "execution_count": 23,
   "id": "8d60d481-3461-43bf-b876-5e72cd4ffe8d",
   "metadata": {},
   "outputs": [
    {
     "data": {
      "text/plain": [
       "((171, 3), (44, 3))"
      ]
     },
     "execution_count": 23,
     "metadata": {},
     "output_type": "execute_result"
    }
   ],
   "source": [
    "train_df.shape, valid_df.shape"
   ]
  },
  {
   "cell_type": "code",
   "execution_count": 24,
   "id": "c63caaf6-93e0-4cd0-be8c-3bb8bcffe38f",
   "metadata": {},
   "outputs": [],
   "source": [
    "batch_size = 12\n",
    "\n",
    "train_dataset = (tf.data.Dataset\n",
    "                 .from_tensor_slices((train_df[\"text\"], train_df[\"label_id\"]))\n",
    "                 .batch(batch_size))\n",
    "\n",
    "valid_dataset = (tf.data.Dataset\n",
    "                 .from_tensor_slices((valid_df[\"text\"], valid_df[\"label_id\"]))\n",
    "                 .batch(batch_size))"
   ]
  },
  {
   "cell_type": "code",
   "execution_count": 25,
   "id": "b84676e4-f7f5-4ca6-9839-0f64b09a7e1e",
   "metadata": {},
   "outputs": [
    {
     "name": "stdout",
     "output_type": "stream",
     "text": [
      "Model: \"model\"\n",
      "__________________________________________________________________________________________________\n",
      " Layer (type)                   Output Shape         Param #     Connected to                     \n",
      "==================================================================================================\n",
      " input_1 (InputLayer)           [(None,)]            0           []                               \n",
      "                                                                                                  \n",
      " keras_layer (KerasLayer)       {'input_word_ids':   0           ['input_1[0][0]']                \n",
      "                                (None, 128),                                                      \n",
      "                                 'input_type_ids':                                                \n",
      "                                (None, 128),                                                      \n",
      "                                 'input_mask': (Non                                               \n",
      "                                e, 128)}                                                          \n",
      "                                                                                                  \n",
      " keras_layer_1 (KerasLayer)     {'encoder_outputs':  11170561    ['keras_layer[0][0]',            \n",
      "                                 [(None, 128, 256),               'keras_layer[0][1]',            \n",
      "                                 (None, 128, 256),                'keras_layer[0][2]']            \n",
      "                                 (None, 128, 256),                                                \n",
      "                                 (None, 128, 256)],                                               \n",
      "                                 'sequence_output':                                               \n",
      "                                 (None, 128, 256),                                                \n",
      "                                 'default': (None,                                                \n",
      "                                256),                                                             \n",
      "                                 'pooled_output': (                                               \n",
      "                                None, 256)}                                                       \n",
      "                                                                                                  \n",
      " dense (Dense)                  (None, 14)           3598        ['keras_layer_1[0][5]']          \n",
      "                                                                                                  \n",
      "==================================================================================================\n",
      "Total params: 11,174,159\n",
      "Trainable params: 11,174,158\n",
      "Non-trainable params: 1\n",
      "__________________________________________________________________________________________________\n"
     ]
    }
   ],
   "source": [
    "text_input = tf.keras.layers.Input(shape=(), dtype=tf.string)\n",
    "preprocessor = hub.KerasLayer(\n",
    "    \"https://tfhub.dev/tensorflow/bert_en_uncased_preprocess/3\")\n",
    "encoder_inputs = preprocessor(text_input)\n",
    "\n",
    "encoder = hub.KerasLayer(\n",
    "    \"https://tfhub.dev/tensorflow/small_bert/bert_en_uncased_L-4_H-256_A-4/2\",\n",
    "    trainable=True)\n",
    "\n",
    "# encoder = hub.KerasLayer(\n",
    "#     \"https://tfhub.dev/tensorflow/small_bert/bert_en_uncased_L-8_H-256_A-4/2\",\n",
    "#     trainable=True)\n",
    "\n",
    "# encoder = hub.KerasLayer(\n",
    "#     \"https://tfhub.dev/tensorflow/small_bert/bert_en_uncased_L-10_H-512_A-8/2\",\n",
    "#     trainable=True)\n",
    "\n",
    "encoder_outputs = encoder(encoder_inputs)\n",
    "outputs = tf.keras.layers.Dense(len(label_to_idx), name=\"class_output\")(encoder_outputs[\"pooled_output\"])\n",
    "\n",
    "model = tf.keras.Model(inputs=text_input, outputs=[outputs, encoder_outputs[\"pooled_output\"]])\n",
    "model.summary()"
   ]
  },
  {
   "cell_type": "code",
   "execution_count": 26,
   "id": "0996683b-7740-42ac-9907-dad13dc406ad",
   "metadata": {},
   "outputs": [],
   "source": [
    "model.compile(\n",
    "    optimizer=tf.keras.optimizers.Adam(1e-5),\n",
    "    loss={\n",
    "        \"class_output\": tf.keras.losses.SparseCategoricalCrossentropy(from_logits=True)\n",
    "    },\n",
    "    metrics={\n",
    "        \"class_output\": [tf.keras.metrics.SparseCategoricalAccuracy()]\n",
    "    }\n",
    ")"
   ]
  },
  {
   "cell_type": "code",
   "execution_count": 27,
   "id": "dc72c6e5-a00f-45d1-9b64-e76adf5bcf06",
   "metadata": {
    "collapsed": true,
    "jupyter": {
     "outputs_hidden": true
    },
    "tags": []
   },
   "outputs": [
    {
     "name": "stdout",
     "output_type": "stream",
     "text": [
      "Epoch 1/100\n",
      "15/15 [==============================] - 13s 356ms/step - loss: 3.0357 - sparse_categorical_accuracy: 0.0409 - val_loss: 2.7391 - val_sparse_categorical_accuracy: 0.0909\n",
      "Epoch 2/100\n",
      "15/15 [==============================] - 4s 279ms/step - loss: 2.7686 - sparse_categorical_accuracy: 0.0819 - val_loss: 2.6007 - val_sparse_categorical_accuracy: 0.1136\n",
      "Epoch 3/100\n",
      "15/15 [==============================] - 5s 322ms/step - loss: 2.6579 - sparse_categorical_accuracy: 0.1111 - val_loss: 2.4913 - val_sparse_categorical_accuracy: 0.2727\n",
      "Epoch 4/100\n",
      "15/15 [==============================] - 5s 329ms/step - loss: 2.5538 - sparse_categorical_accuracy: 0.2105 - val_loss: 2.4207 - val_sparse_categorical_accuracy: 0.3182\n",
      "Epoch 5/100\n",
      "15/15 [==============================] - 5s 353ms/step - loss: 2.5353 - sparse_categorical_accuracy: 0.1871 - val_loss: 2.3690 - val_sparse_categorical_accuracy: 0.2955\n",
      "Epoch 6/100\n",
      "15/15 [==============================] - 5s 329ms/step - loss: 2.5122 - sparse_categorical_accuracy: 0.2281 - val_loss: 2.3249 - val_sparse_categorical_accuracy: 0.2727\n",
      "Epoch 7/100\n",
      "15/15 [==============================] - 5s 329ms/step - loss: 2.4201 - sparse_categorical_accuracy: 0.2515 - val_loss: 2.2908 - val_sparse_categorical_accuracy: 0.3182\n",
      "Epoch 8/100\n",
      "15/15 [==============================] - 4s 296ms/step - loss: 2.3255 - sparse_categorical_accuracy: 0.2632 - val_loss: 2.2482 - val_sparse_categorical_accuracy: 0.3409\n",
      "Epoch 9/100\n",
      "15/15 [==============================] - 4s 287ms/step - loss: 2.3665 - sparse_categorical_accuracy: 0.2222 - val_loss: 2.2057 - val_sparse_categorical_accuracy: 0.3636\n",
      "Epoch 10/100\n",
      "15/15 [==============================] - 4s 289ms/step - loss: 2.3090 - sparse_categorical_accuracy: 0.2690 - val_loss: 2.1633 - val_sparse_categorical_accuracy: 0.3864\n",
      "Epoch 11/100\n",
      "15/15 [==============================] - 4s 280ms/step - loss: 2.2341 - sparse_categorical_accuracy: 0.2807 - val_loss: 2.1102 - val_sparse_categorical_accuracy: 0.3864\n",
      "Epoch 12/100\n",
      "15/15 [==============================] - 4s 281ms/step - loss: 2.1735 - sparse_categorical_accuracy: 0.3041 - val_loss: 2.0625 - val_sparse_categorical_accuracy: 0.3864\n",
      "Epoch 13/100\n",
      "15/15 [==============================] - 4s 278ms/step - loss: 2.1118 - sparse_categorical_accuracy: 0.3684 - val_loss: 2.0101 - val_sparse_categorical_accuracy: 0.3864\n",
      "Epoch 14/100\n",
      "15/15 [==============================] - 4s 282ms/step - loss: 2.0636 - sparse_categorical_accuracy: 0.3743 - val_loss: 1.9453 - val_sparse_categorical_accuracy: 0.3864\n",
      "Epoch 15/100\n",
      "15/15 [==============================] - 4s 286ms/step - loss: 1.9953 - sparse_categorical_accuracy: 0.4094 - val_loss: 1.8971 - val_sparse_categorical_accuracy: 0.4091\n",
      "Epoch 16/100\n",
      "15/15 [==============================] - 4s 287ms/step - loss: 1.9288 - sparse_categorical_accuracy: 0.4211 - val_loss: 1.8320 - val_sparse_categorical_accuracy: 0.4091\n",
      "Epoch 17/100\n",
      "15/15 [==============================] - 4s 287ms/step - loss: 1.8501 - sparse_categorical_accuracy: 0.4327 - val_loss: 1.7627 - val_sparse_categorical_accuracy: 0.4545\n",
      "Epoch 18/100\n",
      "15/15 [==============================] - 4s 290ms/step - loss: 1.7330 - sparse_categorical_accuracy: 0.5263 - val_loss: 1.6931 - val_sparse_categorical_accuracy: 0.4773\n",
      "Epoch 19/100\n",
      "15/15 [==============================] - 4s 289ms/step - loss: 1.7247 - sparse_categorical_accuracy: 0.5263 - val_loss: 1.6411 - val_sparse_categorical_accuracy: 0.5455\n",
      "Epoch 20/100\n",
      "15/15 [==============================] - 4s 288ms/step - loss: 1.6525 - sparse_categorical_accuracy: 0.5614 - val_loss: 1.5762 - val_sparse_categorical_accuracy: 0.5455\n",
      "Epoch 21/100\n",
      "15/15 [==============================] - 4s 285ms/step - loss: 1.5391 - sparse_categorical_accuracy: 0.6316 - val_loss: 1.5112 - val_sparse_categorical_accuracy: 0.5682\n",
      "Epoch 22/100\n",
      "15/15 [==============================] - 4s 285ms/step - loss: 1.5337 - sparse_categorical_accuracy: 0.6023 - val_loss: 1.4655 - val_sparse_categorical_accuracy: 0.5909\n",
      "Epoch 23/100\n",
      "15/15 [==============================] - 4s 285ms/step - loss: 1.4504 - sparse_categorical_accuracy: 0.6491 - val_loss: 1.4211 - val_sparse_categorical_accuracy: 0.5682\n",
      "Epoch 24/100\n",
      "15/15 [==============================] - 4s 285ms/step - loss: 1.4033 - sparse_categorical_accuracy: 0.6725 - val_loss: 1.3545 - val_sparse_categorical_accuracy: 0.5909\n",
      "Epoch 25/100\n",
      "15/15 [==============================] - 4s 283ms/step - loss: 1.3233 - sparse_categorical_accuracy: 0.7076 - val_loss: 1.3105 - val_sparse_categorical_accuracy: 0.6136\n",
      "Epoch 26/100\n",
      "15/15 [==============================] - 4s 283ms/step - loss: 1.2602 - sparse_categorical_accuracy: 0.7427 - val_loss: 1.2713 - val_sparse_categorical_accuracy: 0.6591\n",
      "Epoch 27/100\n",
      "15/15 [==============================] - 4s 283ms/step - loss: 1.1628 - sparse_categorical_accuracy: 0.7427 - val_loss: 1.2193 - val_sparse_categorical_accuracy: 0.6364\n",
      "Epoch 28/100\n",
      "15/15 [==============================] - 4s 283ms/step - loss: 1.1247 - sparse_categorical_accuracy: 0.7661 - val_loss: 1.1753 - val_sparse_categorical_accuracy: 0.6818\n",
      "Epoch 29/100\n",
      "15/15 [==============================] - 4s 284ms/step - loss: 1.0848 - sparse_categorical_accuracy: 0.8012 - val_loss: 1.1429 - val_sparse_categorical_accuracy: 0.7045\n",
      "Epoch 30/100\n",
      "15/15 [==============================] - 4s 286ms/step - loss: 1.0517 - sparse_categorical_accuracy: 0.7895 - val_loss: 1.0949 - val_sparse_categorical_accuracy: 0.7045\n",
      "Epoch 31/100\n",
      "15/15 [==============================] - 4s 292ms/step - loss: 0.9794 - sparse_categorical_accuracy: 0.8480 - val_loss: 1.0419 - val_sparse_categorical_accuracy: 0.7273\n",
      "Epoch 32/100\n",
      "15/15 [==============================] - 4s 292ms/step - loss: 0.9493 - sparse_categorical_accuracy: 0.8421 - val_loss: 1.0064 - val_sparse_categorical_accuracy: 0.7273\n",
      "Epoch 33/100\n",
      "15/15 [==============================] - 4s 295ms/step - loss: 0.8955 - sparse_categorical_accuracy: 0.8889 - val_loss: 0.9626 - val_sparse_categorical_accuracy: 0.7500\n",
      "Epoch 34/100\n",
      "15/15 [==============================] - 8s 535ms/step - loss: 0.8743 - sparse_categorical_accuracy: 0.8713 - val_loss: 0.9089 - val_sparse_categorical_accuracy: 0.7955\n",
      "Epoch 35/100\n",
      "15/15 [==============================] - 8s 535ms/step - loss: 0.8250 - sparse_categorical_accuracy: 0.8772 - val_loss: 0.8886 - val_sparse_categorical_accuracy: 0.8182\n",
      "Epoch 36/100\n",
      "15/15 [==============================] - 8s 535ms/step - loss: 0.7896 - sparse_categorical_accuracy: 0.8830 - val_loss: 0.8396 - val_sparse_categorical_accuracy: 0.8182\n",
      "Epoch 37/100\n",
      "15/15 [==============================] - 8s 538ms/step - loss: 0.7619 - sparse_categorical_accuracy: 0.9006 - val_loss: 0.8194 - val_sparse_categorical_accuracy: 0.8409\n",
      "Epoch 38/100\n",
      "15/15 [==============================] - 8s 533ms/step - loss: 0.7111 - sparse_categorical_accuracy: 0.9298 - val_loss: 0.7832 - val_sparse_categorical_accuracy: 0.8636\n",
      "Epoch 39/100\n",
      "15/15 [==============================] - 8s 533ms/step - loss: 0.6707 - sparse_categorical_accuracy: 0.9357 - val_loss: 0.7325 - val_sparse_categorical_accuracy: 0.8409\n",
      "Epoch 40/100\n",
      "15/15 [==============================] - 8s 535ms/step - loss: 0.6758 - sparse_categorical_accuracy: 0.9181 - val_loss: 0.7064 - val_sparse_categorical_accuracy: 0.8409\n",
      "Epoch 41/100\n",
      "15/15 [==============================] - 8s 538ms/step - loss: 0.6335 - sparse_categorical_accuracy: 0.9181 - val_loss: 0.7020 - val_sparse_categorical_accuracy: 0.8636\n",
      "Epoch 42/100\n",
      "15/15 [==============================] - 8s 534ms/step - loss: 0.6176 - sparse_categorical_accuracy: 0.9357 - val_loss: 0.6656 - val_sparse_categorical_accuracy: 0.8636\n",
      "Epoch 43/100\n",
      "15/15 [==============================] - 8s 517ms/step - loss: 0.5729 - sparse_categorical_accuracy: 0.9474 - val_loss: 0.6406 - val_sparse_categorical_accuracy: 0.8636\n",
      "Epoch 44/100\n",
      "15/15 [==============================] - 4s 291ms/step - loss: 0.5514 - sparse_categorical_accuracy: 0.9649 - val_loss: 0.6386 - val_sparse_categorical_accuracy: 0.8864\n",
      "Epoch 45/100\n",
      "15/15 [==============================] - 4s 291ms/step - loss: 0.5002 - sparse_categorical_accuracy: 0.9708 - val_loss: 0.6157 - val_sparse_categorical_accuracy: 0.8636\n",
      "Epoch 46/100\n",
      "15/15 [==============================] - 4s 294ms/step - loss: 0.5206 - sparse_categorical_accuracy: 0.9532 - val_loss: 0.5850 - val_sparse_categorical_accuracy: 0.8636\n",
      "Epoch 47/100\n",
      "15/15 [==============================] - 8s 526ms/step - loss: 0.4905 - sparse_categorical_accuracy: 0.9474 - val_loss: 0.5496 - val_sparse_categorical_accuracy: 0.8864\n",
      "Epoch 48/100\n",
      "15/15 [==============================] - 9s 586ms/step - loss: 0.4736 - sparse_categorical_accuracy: 0.9532 - val_loss: 0.5262 - val_sparse_categorical_accuracy: 0.9318\n",
      "Epoch 49/100\n",
      "15/15 [==============================] - 8s 555ms/step - loss: 0.4513 - sparse_categorical_accuracy: 0.9825 - val_loss: 0.5031 - val_sparse_categorical_accuracy: 0.9091\n",
      "Epoch 50/100\n",
      "15/15 [==============================] - 8s 550ms/step - loss: 0.4306 - sparse_categorical_accuracy: 0.9766 - val_loss: 0.4835 - val_sparse_categorical_accuracy: 0.9545\n",
      "Epoch 51/100\n",
      "15/15 [==============================] - 8s 536ms/step - loss: 0.4236 - sparse_categorical_accuracy: 0.9708 - val_loss: 0.4578 - val_sparse_categorical_accuracy: 0.9318\n",
      "Epoch 52/100\n",
      "15/15 [==============================] - 8s 532ms/step - loss: 0.4088 - sparse_categorical_accuracy: 0.9649 - val_loss: 0.4545 - val_sparse_categorical_accuracy: 0.9545\n",
      "Epoch 53/100\n",
      "15/15 [==============================] - 8s 531ms/step - loss: 0.3720 - sparse_categorical_accuracy: 0.9766 - val_loss: 0.4364 - val_sparse_categorical_accuracy: 0.9545\n",
      "Epoch 54/100\n",
      "15/15 [==============================] - 8s 531ms/step - loss: 0.3666 - sparse_categorical_accuracy: 0.9883 - val_loss: 0.4197 - val_sparse_categorical_accuracy: 0.9773\n",
      "Epoch 55/100\n",
      "15/15 [==============================] - 8s 534ms/step - loss: 0.3471 - sparse_categorical_accuracy: 0.9883 - val_loss: 0.4070 - val_sparse_categorical_accuracy: 0.9545\n",
      "Epoch 56/100\n",
      "15/15 [==============================] - 8s 554ms/step - loss: 0.3606 - sparse_categorical_accuracy: 0.9883 - val_loss: 0.3953 - val_sparse_categorical_accuracy: 0.9318\n",
      "Epoch 57/100\n",
      "15/15 [==============================] - 8s 533ms/step - loss: 0.3316 - sparse_categorical_accuracy: 0.9825 - val_loss: 0.3790 - val_sparse_categorical_accuracy: 0.9545\n",
      "Epoch 58/100\n",
      "15/15 [==============================] - 8s 535ms/step - loss: 0.3110 - sparse_categorical_accuracy: 0.9883 - val_loss: 0.3740 - val_sparse_categorical_accuracy: 0.9545\n",
      "Epoch 59/100\n",
      "15/15 [==============================] - 8s 534ms/step - loss: 0.3086 - sparse_categorical_accuracy: 0.9766 - val_loss: 0.3514 - val_sparse_categorical_accuracy: 0.9545\n",
      "Epoch 60/100\n",
      "15/15 [==============================] - 8s 534ms/step - loss: 0.2869 - sparse_categorical_accuracy: 0.9825 - val_loss: 0.3441 - val_sparse_categorical_accuracy: 0.9318\n",
      "Epoch 61/100\n",
      "15/15 [==============================] - 8s 539ms/step - loss: 0.2938 - sparse_categorical_accuracy: 0.9883 - val_loss: 0.3350 - val_sparse_categorical_accuracy: 0.9318\n",
      "Epoch 62/100\n",
      "15/15 [==============================] - 8s 540ms/step - loss: 0.2799 - sparse_categorical_accuracy: 0.9883 - val_loss: 0.3271 - val_sparse_categorical_accuracy: 0.9773\n",
      "Epoch 63/100\n",
      "15/15 [==============================] - 8s 537ms/step - loss: 0.2582 - sparse_categorical_accuracy: 1.0000 - val_loss: 0.3177 - val_sparse_categorical_accuracy: 0.9773\n",
      "Epoch 64/100\n",
      "15/15 [==============================] - 8s 534ms/step - loss: 0.2749 - sparse_categorical_accuracy: 0.9883 - val_loss: 0.3017 - val_sparse_categorical_accuracy: 0.9773\n",
      "Epoch 65/100\n",
      "15/15 [==============================] - 8s 530ms/step - loss: 0.2582 - sparse_categorical_accuracy: 0.9883 - val_loss: 0.2850 - val_sparse_categorical_accuracy: 0.9773\n",
      "Epoch 66/100\n",
      "15/15 [==============================] - 8s 531ms/step - loss: 0.2326 - sparse_categorical_accuracy: 1.0000 - val_loss: 0.2820 - val_sparse_categorical_accuracy: 0.9773\n",
      "Epoch 67/100\n",
      "15/15 [==============================] - 8s 531ms/step - loss: 0.2409 - sparse_categorical_accuracy: 0.9942 - val_loss: 0.2795 - val_sparse_categorical_accuracy: 0.9773\n",
      "Epoch 68/100\n",
      "15/15 [==============================] - 8s 539ms/step - loss: 0.2392 - sparse_categorical_accuracy: 0.9883 - val_loss: 0.2684 - val_sparse_categorical_accuracy: 0.9773\n",
      "Epoch 69/100\n",
      "15/15 [==============================] - 8s 553ms/step - loss: 0.2351 - sparse_categorical_accuracy: 0.9942 - val_loss: 0.2619 - val_sparse_categorical_accuracy: 0.9773\n",
      "Epoch 70/100\n",
      "15/15 [==============================] - 8s 566ms/step - loss: 0.2121 - sparse_categorical_accuracy: 1.0000 - val_loss: 0.2530 - val_sparse_categorical_accuracy: 0.9773\n",
      "Epoch 71/100\n",
      "15/15 [==============================] - 8s 539ms/step - loss: 0.1975 - sparse_categorical_accuracy: 0.9942 - val_loss: 0.2530 - val_sparse_categorical_accuracy: 0.9773\n",
      "Epoch 72/100\n",
      "15/15 [==============================] - 8s 530ms/step - loss: 0.2141 - sparse_categorical_accuracy: 0.9942 - val_loss: 0.2442 - val_sparse_categorical_accuracy: 0.9773\n",
      "Epoch 73/100\n",
      "15/15 [==============================] - 8s 544ms/step - loss: 0.2085 - sparse_categorical_accuracy: 0.9942 - val_loss: 0.2379 - val_sparse_categorical_accuracy: 0.9773\n",
      "Epoch 74/100\n",
      "15/15 [==============================] - 8s 543ms/step - loss: 0.2159 - sparse_categorical_accuracy: 0.9825 - val_loss: 0.2334 - val_sparse_categorical_accuracy: 0.9773\n",
      "Epoch 75/100\n",
      "15/15 [==============================] - 8s 540ms/step - loss: 0.1826 - sparse_categorical_accuracy: 0.9942 - val_loss: 0.2236 - val_sparse_categorical_accuracy: 0.9773\n",
      "Epoch 76/100\n",
      "15/15 [==============================] - 8s 535ms/step - loss: 0.1670 - sparse_categorical_accuracy: 1.0000 - val_loss: 0.2163 - val_sparse_categorical_accuracy: 0.9773\n",
      "Epoch 77/100\n",
      "15/15 [==============================] - 8s 534ms/step - loss: 0.1658 - sparse_categorical_accuracy: 0.9942 - val_loss: 0.2182 - val_sparse_categorical_accuracy: 0.9773\n",
      "Epoch 78/100\n",
      "15/15 [==============================] - 8s 538ms/step - loss: 0.1737 - sparse_categorical_accuracy: 1.0000 - val_loss: 0.2151 - val_sparse_categorical_accuracy: 0.9773\n",
      "Epoch 79/100\n",
      "15/15 [==============================] - 8s 534ms/step - loss: 0.1658 - sparse_categorical_accuracy: 1.0000 - val_loss: 0.2036 - val_sparse_categorical_accuracy: 0.9773\n",
      "Epoch 80/100\n",
      "15/15 [==============================] - 8s 533ms/step - loss: 0.1513 - sparse_categorical_accuracy: 1.0000 - val_loss: 0.1980 - val_sparse_categorical_accuracy: 0.9773\n",
      "Epoch 81/100\n",
      "15/15 [==============================] - 8s 534ms/step - loss: 0.1544 - sparse_categorical_accuracy: 1.0000 - val_loss: 0.1974 - val_sparse_categorical_accuracy: 0.9773\n",
      "Epoch 82/100\n",
      "15/15 [==============================] - 8s 533ms/step - loss: 0.1611 - sparse_categorical_accuracy: 0.9942 - val_loss: 0.1939 - val_sparse_categorical_accuracy: 0.9773\n",
      "Epoch 83/100\n",
      "15/15 [==============================] - 8s 532ms/step - loss: 0.1524 - sparse_categorical_accuracy: 1.0000 - val_loss: 0.1974 - val_sparse_categorical_accuracy: 0.9773\n",
      "Epoch 84/100\n",
      "15/15 [==============================] - 8s 531ms/step - loss: 0.1439 - sparse_categorical_accuracy: 1.0000 - val_loss: 0.1932 - val_sparse_categorical_accuracy: 0.9773\n",
      "Epoch 85/100\n",
      "15/15 [==============================] - 8s 535ms/step - loss: 0.1554 - sparse_categorical_accuracy: 0.9942 - val_loss: 0.1806 - val_sparse_categorical_accuracy: 0.9773\n",
      "Epoch 86/100\n",
      "15/15 [==============================] - 8s 551ms/step - loss: 0.1377 - sparse_categorical_accuracy: 1.0000 - val_loss: 0.1784 - val_sparse_categorical_accuracy: 0.9773\n",
      "Epoch 87/100\n",
      "15/15 [==============================] - 8s 540ms/step - loss: 0.1315 - sparse_categorical_accuracy: 1.0000 - val_loss: 0.1806 - val_sparse_categorical_accuracy: 0.9773\n",
      "Epoch 88/100\n",
      "15/15 [==============================] - 8s 534ms/step - loss: 0.1262 - sparse_categorical_accuracy: 1.0000 - val_loss: 0.1743 - val_sparse_categorical_accuracy: 0.9773\n",
      "Epoch 89/100\n",
      "15/15 [==============================] - 8s 543ms/step - loss: 0.1383 - sparse_categorical_accuracy: 1.0000 - val_loss: 0.1737 - val_sparse_categorical_accuracy: 0.9773\n",
      "Epoch 90/100\n",
      "15/15 [==============================] - 8s 535ms/step - loss: 0.1250 - sparse_categorical_accuracy: 1.0000 - val_loss: 0.1734 - val_sparse_categorical_accuracy: 0.9773\n",
      "Epoch 91/100\n",
      "15/15 [==============================] - 8s 536ms/step - loss: 0.1307 - sparse_categorical_accuracy: 1.0000 - val_loss: 0.1654 - val_sparse_categorical_accuracy: 0.9773\n",
      "Epoch 92/100\n",
      "15/15 [==============================] - 8s 534ms/step - loss: 0.1197 - sparse_categorical_accuracy: 0.9942 - val_loss: 0.1614 - val_sparse_categorical_accuracy: 0.9773\n",
      "Epoch 93/100\n",
      "15/15 [==============================] - 8s 534ms/step - loss: 0.1099 - sparse_categorical_accuracy: 1.0000 - val_loss: 0.1624 - val_sparse_categorical_accuracy: 0.9773\n",
      "Epoch 94/100\n",
      "15/15 [==============================] - 8s 533ms/step - loss: 0.1012 - sparse_categorical_accuracy: 1.0000 - val_loss: 0.1619 - val_sparse_categorical_accuracy: 0.9773\n",
      "Epoch 95/100\n",
      "15/15 [==============================] - 8s 538ms/step - loss: 0.1060 - sparse_categorical_accuracy: 1.0000 - val_loss: 0.1555 - val_sparse_categorical_accuracy: 0.9773\n",
      "Epoch 96/100\n",
      "15/15 [==============================] - 8s 534ms/step - loss: 0.1033 - sparse_categorical_accuracy: 1.0000 - val_loss: 0.1550 - val_sparse_categorical_accuracy: 0.9773\n",
      "Epoch 97/100\n",
      "15/15 [==============================] - 8s 534ms/step - loss: 0.1081 - sparse_categorical_accuracy: 1.0000 - val_loss: 0.1477 - val_sparse_categorical_accuracy: 0.9773\n",
      "Epoch 98/100\n",
      "15/15 [==============================] - 8s 536ms/step - loss: 0.1041 - sparse_categorical_accuracy: 1.0000 - val_loss: 0.1513 - val_sparse_categorical_accuracy: 0.9773\n",
      "Epoch 99/100\n",
      "15/15 [==============================] - 8s 537ms/step - loss: 0.1120 - sparse_categorical_accuracy: 1.0000 - val_loss: 0.1524 - val_sparse_categorical_accuracy: 0.9773\n",
      "Epoch 100/100\n",
      "15/15 [==============================] - 8s 533ms/step - loss: 0.1117 - sparse_categorical_accuracy: 1.0000 - val_loss: 0.1466 - val_sparse_categorical_accuracy: 0.9773\n"
     ]
    }
   ],
   "source": [
    "epochs = 100\n",
    "\n",
    "history = model.fit(\n",
    "    train_dataset,\n",
    "    epochs=epochs,\n",
    "    validation_data=valid_dataset\n",
    ")"
   ]
  },
  {
   "cell_type": "code",
   "execution_count": 34,
   "id": "8fdb9507-f6ad-4047-986a-a82377ef528a",
   "metadata": {},
   "outputs": [
    {
     "data": {
      "image/png": "[encoded data removed]",
      "text/plain": [
       "<Figure size 720x432 with 1 Axes>"
      ]
     },
     "metadata": {
      "needs_background": "light"
     },
     "output_type": "display_data"
    }
   ],
   "source": [
    "fig, ax = plt.subplots(figsize=(10, 6), constrained_layout=True)\n",
    "ax.plot(history.history[\"loss\"], label=\"Training loss\")\n",
    "ax.plot(history.history[\"val_loss\"], label=\"Validation loss\")\n",
    "ax.set_xlabel(\"Epcohs\")\n",
    "ax.set_ylabel(\"Loss\")\n",
    "ax.set_xticks(np.arange(0, len(history.history[\"loss\"]) + 1, 10))\n",
    "ax.legend()\n",
    "plt.savefig(\"loss.png\")"
   ]
  },
  {
   "cell_type": "code",
   "execution_count": 29,
   "id": "cc37b96b-8abf-4e46-a615-f74b61f0d833",
   "metadata": {},
   "outputs": [
    {
     "data": {
      "image/png": "[encoded data removed]",
      "text/plain": [
       "<Figure size 720x432 with 1 Axes>"
      ]
     },
     "metadata": {
      "needs_background": "light"
     },
     "output_type": "display_data"
    }
   ],
   "source": [
    "fig, ax = plt.subplots(figsize=(10, 6), constrained_layout=True)\n",
    "ax.plot(history.history[\"class_output_sparse_categorical_accuracy\"], label=\"Training accuracy\")\n",
    "ax.plot(history.history[\"val_class_output_sparse_categorical_accuracy\"], label=\"Validation accuracy\")\n",
    "ax.set_xlabel(\"Epcohs\")\n",
    "ax.set_ylabel(\"Accuracy\")\n",
    "ax.set_xticks(np.arange(0, len(history.history[\"class_output_sparse_categorical_accuracy\"]) + 1, 10))\n",
    "ax.legend()\n",
    "fig.savefig(\"accuracy.png\")"
   ]
  },
  {
   "cell_type": "code",
   "execution_count": 30,
   "id": "c02d94e6-77b2-4f90-8c28-9f18fb0afb94",
   "metadata": {},
   "outputs": [
    {
     "name": "stdout",
     "output_type": "stream",
     "text": [
      "7/7 [==============================] - 2s 315ms/step - loss: 0.0602 - sparse_categorical_accuracy: 0.9953\n",
      "loss    : 0.0602\n",
      "sparse_categorical_accuracy: 0.9953\n"
     ]
    }
   ],
   "source": [
    "metrics = model.evaluate(\n",
    "    df_combined[\"text\"].to_numpy(),\n",
    "    df_combined[\"label_id\"].to_numpy()\n",
    ")\n",
    "\n",
    "for metric_name, metric in zip(model.metrics_names, metrics):\n",
    "    print(f\"{metric_name:<8s}: {metric:.4f}\")"
   ]
  },
  {
   "cell_type": "code",
   "execution_count": 31,
   "id": "59235fe6-65d9-4537-a0a3-f44ec045fa20",
   "metadata": {},
   "outputs": [
    {
     "name": "stdout",
     "output_type": "stream",
     "text": [
      "7/7 [==============================] - 3s 346ms/step\n",
      "accuracy : 0.9953\n",
      "precision: 0.9984\n",
      "recall   : 0.9984\n",
      "F1       : 0.9965\n"
     ]
    }
   ],
   "source": [
    "predictions_probabilities = model.predict(df_combined[\"text\"])\n",
    "predictions = np.argmax(predictions_probabilities, axis=1)\n",
    "\n",
    "y_true = df_combined[\"label_id\"].to_numpy()\n",
    "accuracy = accuracy_score(y_true, predictions)\n",
    "precision = precision_score(y_true, predictions, average=\"macro\")\n",
    "recall = precision_score(y_true, predictions, average=\"macro\")\n",
    "f1score = f1_score(y_true, predictions, average=\"macro\")\n",
    "\n",
    "print(f\"accuracy : {accuracy:.4f}\")\n",
    "print(f\"precision: {precision:.4f}\")\n",
    "print(f\"recall   : {recall:.4f}\")\n",
    "print(f\"F1       : {f1score:.4f}\")"
   ]
  },
  {
   "cell_type": "code",
   "execution_count": 32,
   "id": "bff112a2-4a41-44fc-94b5-08ab717799fc",
   "metadata": {},
   "outputs": [
    {
     "data": {
      "image/png": "[encoded data removed]",
      "text/plain": [
       "<Figure size 720x504 with 2 Axes>"
      ]
     },
     "metadata": {
      "needs_background": "light"
     },
     "output_type": "display_data"
    }
   ],
   "source": [
    "matrix = confusion_matrix(y_true, predictions)\n",
    "index = label_to_idx.keys()\n",
    "df = pd.DataFrame(matrix, index=index, columns=index)\n",
    "plt.figure(figsize=(10, 7))\n",
    "sns.heatmap(df, annot=True, fmt=\"d\")\n",
    "plt.savefig(\"confusion_matrix.png\")"
   ]
  },
  {
   "cell_type": "code",
   "execution_count": 33,
   "id": "28a6c9c4-214a-4326-afc5-f90cce5c5bdf",
   "metadata": {},
   "outputs": [
    {
     "name": "stderr",
     "output_type": "stream",
     "text": [
      "WARNING:absl:Found untraced functions such as restored_function_body, restored_function_body, restored_function_body, restored_function_body, restored_function_body while saving (showing 5 of 126). These functions will not be directly callable after loading.\n"
     ]
    },
    {
     "name": "stdout",
     "output_type": "stream",
     "text": [
      "INFO:tensorflow:Assets written to: bert_classification\\assets\n"
     ]
    },
    {
     "name": "stderr",
     "output_type": "stream",
     "text": [
      "INFO:tensorflow:Assets written to: bert_classification\\assets\n"
     ]
    }
   ],
   "source": [
    "model.save(\"bert_classification\")"
   ]
  }
 ],
 "metadata": {
  "kernelspec": {
   "display_name": "licenta",
   "language": "python",
   "name": "licenta"
  },
  "language_info": {
   "codemirror_mode": {
    "name": "ipython",
    "version": 3
   },
   "file_extension": ".py",
   "mimetype": "text/x-python",
   "name": "python",
   "nbconvert_exporter": "python",
   "pygments_lexer": "ipython3",
   "version": "3.8.13"
  }
 },
 "nbformat": 4,
 "nbformat_minor": 5
}
