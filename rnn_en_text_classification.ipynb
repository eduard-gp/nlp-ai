{
 "cells": [
  {
   "cell_type": "code",
   "execution_count": 1,
   "id": "6ad4a861-4c1b-4671-89f2-73c9e533d838",
   "metadata": {},
   "outputs": [],
   "source": [
    "import tensorflow as tf\n",
    "import numpy as np\n",
    "import pandas as pd\n",
    "import matplotlib.pyplot as plt\n",
    "import json\n",
    "import os\n",
    "from sklearn.metrics import precision_score, accuracy_score, recall_score, f1_score, confusion_matrix\n",
    "import seaborn as sns"
   ]
  },
  {
   "cell_type": "code",
   "execution_count": 2,
   "id": "d7f325fa-5a3e-4ef2-b00f-cf13baa77510",
   "metadata": {},
   "outputs": [
    {
     "data": {
      "text/html": [
       "<div>\n",
       "<style scoped>\n",
       "    .dataframe tbody tr th:only-of-type {\n",
       "        vertical-align: middle;\n",
       "    }\n",
       "\n",
       "    .dataframe tbody tr th {\n",
       "        vertical-align: top;\n",
       "    }\n",
       "\n",
       "    .dataframe thead th {\n",
       "        text-align: right;\n",
       "    }\n",
       "</style>\n",
       "<table border=\"1\" class=\"dataframe\">\n",
       "  <thead>\n",
       "    <tr style=\"text-align: right;\">\n",
       "      <th></th>\n",
       "      <th>text</th>\n",
       "      <th>label</th>\n",
       "    </tr>\n",
       "  </thead>\n",
       "  <tbody>\n",
       "    <tr>\n",
       "      <th>0</th>\n",
       "      <td>Did a pain in the center of the chest ever occ...</td>\n",
       "      <td>chest_pain</td>\n",
       "    </tr>\n",
       "    <tr>\n",
       "      <th>1</th>\n",
       "      <td>Did those symptoms changes?</td>\n",
       "      <td>symptoms_changes</td>\n",
       "    </tr>\n",
       "    <tr>\n",
       "      <th>2</th>\n",
       "      <td>Did you experienced fainting?</td>\n",
       "      <td>fainting_symptoms</td>\n",
       "    </tr>\n",
       "    <tr>\n",
       "      <th>3</th>\n",
       "      <td>Did you faint?</td>\n",
       "      <td>fainting_symptoms</td>\n",
       "    </tr>\n",
       "    <tr>\n",
       "      <th>4</th>\n",
       "      <td>Did you had a cough with sputum?</td>\n",
       "      <td>cough_symptoms</td>\n",
       "    </tr>\n",
       "  </tbody>\n",
       "</table>\n",
       "</div>"
      ],
      "text/plain": [
       "                                                text              label\n",
       "0  Did a pain in the center of the chest ever occ...         chest_pain\n",
       "1                        Did those symptoms changes?   symptoms_changes\n",
       "2                      Did you experienced fainting?  fainting_symptoms\n",
       "3                                     Did you faint?  fainting_symptoms\n",
       "4                   Did you had a cough with sputum?     cough_symptoms"
      ]
     },
     "execution_count": 2,
     "metadata": {},
     "output_type": "execute_result"
    }
   ],
   "source": [
    "dir_path = os.path.join(\"database\", \"text_classification\")\n",
    "\n",
    "with open (os.path.join(dir_path, \"en.json\")) as f:\n",
    "    data = json.load(f)\n",
    "    df = pd.DataFrame(data)\n",
    "\n",
    "df.head()"
   ]
  },
  {
   "cell_type": "code",
   "execution_count": 3,
   "id": "83d65dcc-e709-409b-8280-94458079a869",
   "metadata": {},
   "outputs": [
    {
     "data": {
      "text/plain": [
       "visit_reason              12\n",
       "symptoms_start             9\n",
       "greetings                  8\n",
       "fever_symptoms             6\n",
       "diseases_parents           6\n",
       "surgeries                  5\n",
       "symptoms_circumstances     5\n",
       "chest_pain                 4\n",
       "symptoms_changes           4\n",
       "fainting_symptoms          4\n",
       "diseases_personal          4\n",
       "cough_symptoms             3\n",
       "palpitations_symptoms      3\n",
       "chronic_treatment          3\n",
       "Name: label, dtype: int64"
      ]
     },
     "execution_count": 3,
     "metadata": {},
     "output_type": "execute_result"
    }
   ],
   "source": [
    "df[\"label\"].value_counts()"
   ]
  },
  {
   "cell_type": "code",
   "execution_count": 4,
   "id": "bb58534b-d17e-4f95-89da-9ddecd46b0c5",
   "metadata": {},
   "outputs": [
    {
     "data": {
      "text/html": [
       "<div>\n",
       "<style scoped>\n",
       "    .dataframe tbody tr th:only-of-type {\n",
       "        vertical-align: middle;\n",
       "    }\n",
       "\n",
       "    .dataframe tbody tr th {\n",
       "        vertical-align: top;\n",
       "    }\n",
       "\n",
       "    .dataframe thead th {\n",
       "        text-align: right;\n",
       "    }\n",
       "</style>\n",
       "<table border=\"1\" class=\"dataframe\">\n",
       "  <thead>\n",
       "    <tr style=\"text-align: right;\">\n",
       "      <th></th>\n",
       "      <th>text</th>\n",
       "      <th>label</th>\n",
       "    </tr>\n",
       "  </thead>\n",
       "  <tbody>\n",
       "    <tr>\n",
       "      <th>0</th>\n",
       "      <td>What is the reason for the presentation at the...</td>\n",
       "      <td>visit_reason</td>\n",
       "    </tr>\n",
       "    <tr>\n",
       "      <th>1</th>\n",
       "      <td>When did the symptoms start?</td>\n",
       "      <td>symptoms_start</td>\n",
       "    </tr>\n",
       "    <tr>\n",
       "      <th>2</th>\n",
       "      <td>What are the circumstances of the onset of sym...</td>\n",
       "      <td>symptoms_circumstances</td>\n",
       "    </tr>\n",
       "    <tr>\n",
       "      <th>3</th>\n",
       "      <td>Were there any changes in symptoms from onset ...</td>\n",
       "      <td>symptoms_changes</td>\n",
       "    </tr>\n",
       "    <tr>\n",
       "      <th>4</th>\n",
       "      <td>Do you know of any illness that your mother or...</td>\n",
       "      <td>diseases_parents</td>\n",
       "    </tr>\n",
       "  </tbody>\n",
       "</table>\n",
       "</div>"
      ],
      "text/plain": [
       "                                                text                   label\n",
       "0  What is the reason for the presentation at the...            visit_reason\n",
       "1                       When did the symptoms start?          symptoms_start\n",
       "2  What are the circumstances of the onset of sym...  symptoms_circumstances\n",
       "3  Were there any changes in symptoms from onset ...        symptoms_changes\n",
       "4  Do you know of any illness that your mother or...        diseases_parents"
      ]
     },
     "execution_count": 4,
     "metadata": {},
     "output_type": "execute_result"
    }
   ],
   "source": [
    "dir_path = os.path.join(\"database\", \"personas\")\n",
    "\n",
    "with open(os.path.join(dir_path, \"en_personas.json\")) as f:\n",
    "    data = json.load(f)\n",
    "    texts = []\n",
    "    labels = []\n",
    "    for persona in data:\n",
    "        for dialog_entity in persona[\"dialog\"]:\n",
    "            if not \"questions\" in dialog_entity:\n",
    "                print(dialog_entity)\n",
    "            \n",
    "            for question in dialog_entity[\"questions\"]:\n",
    "                texts.append(question)\n",
    "                labels.append(dialog_entity[\"label\"])\n",
    "    df_persona = pd.DataFrame(\n",
    "        {\n",
    "            \"text\": texts,\n",
    "            \"label\": labels\n",
    "        }\n",
    "    )\n",
    "df_persona.head()"
   ]
  },
  {
   "cell_type": "code",
   "execution_count": 5,
   "id": "0bf5ba26-e4bd-4121-90f7-2ff5d71c3339",
   "metadata": {},
   "outputs": [
    {
     "data": {
      "text/plain": [
       "greetings                 90\n",
       "diseases_personal         18\n",
       "chronic_treatment         16\n",
       "visit_reason              15\n",
       "symptoms_start            15\n",
       "symptoms_circumstances    15\n",
       "symptoms_changes          15\n",
       "diseases_parents          15\n",
       "surgeries                 15\n",
       "chest_pain                15\n",
       "fainting_symptoms         15\n",
       "palpitations_symptoms     15\n",
       "cough_symptoms            15\n",
       "fever_symptoms            15\n",
       "Name: label, dtype: int64"
      ]
     },
     "execution_count": 5,
     "metadata": {},
     "output_type": "execute_result"
    }
   ],
   "source": [
    "counts = df_persona[\"label\"].value_counts()\n",
    "counts"
   ]
  },
  {
   "cell_type": "code",
   "execution_count": 6,
   "id": "d3e79d7e-63ac-4674-aa57-e66ae5343871",
   "metadata": {},
   "outputs": [
    {
     "data": {
      "text/plain": [
       "{'chest_pain': 0,\n",
       " 'symptoms_changes': 1,\n",
       " 'fainting_symptoms': 2,\n",
       " 'cough_symptoms': 3,\n",
       " 'surgeries': 4,\n",
       " 'fever_symptoms': 5,\n",
       " 'palpitations_symptoms': 6,\n",
       " 'chronic_treatment': 7,\n",
       " 'diseases_parents': 8,\n",
       " 'diseases_personal': 9,\n",
       " 'greetings': 10,\n",
       " 'symptoms_start': 11,\n",
       " 'symptoms_circumstances': 12,\n",
       " 'visit_reason': 13}"
      ]
     },
     "execution_count": 6,
     "metadata": {},
     "output_type": "execute_result"
    }
   ],
   "source": [
    "df_combined = pd.concat([df, df_persona], ignore_index=True)\n",
    "label_to_idx = {label: idx for idx, label in enumerate(df_combined[\"label\"].unique())}\n",
    "label_to_idx"
   ]
  },
  {
   "cell_type": "code",
   "execution_count": 7,
   "id": "4091664f-3d2f-4667-b133-3a6a2e73abcb",
   "metadata": {},
   "outputs": [
    {
     "data": {
      "text/html": [
       "<div>\n",
       "<style scoped>\n",
       "    .dataframe tbody tr th:only-of-type {\n",
       "        vertical-align: middle;\n",
       "    }\n",
       "\n",
       "    .dataframe tbody tr th {\n",
       "        vertical-align: top;\n",
       "    }\n",
       "\n",
       "    .dataframe thead th {\n",
       "        text-align: right;\n",
       "    }\n",
       "</style>\n",
       "<table border=\"1\" class=\"dataframe\">\n",
       "  <thead>\n",
       "    <tr style=\"text-align: right;\">\n",
       "      <th></th>\n",
       "      <th>text</th>\n",
       "      <th>label</th>\n",
       "      <th>label_id</th>\n",
       "    </tr>\n",
       "  </thead>\n",
       "  <tbody>\n",
       "    <tr>\n",
       "      <th>0</th>\n",
       "      <td>Did a pain in the center of the chest ever occ...</td>\n",
       "      <td>chest_pain</td>\n",
       "      <td>0</td>\n",
       "    </tr>\n",
       "    <tr>\n",
       "      <th>1</th>\n",
       "      <td>Did those symptoms changes?</td>\n",
       "      <td>symptoms_changes</td>\n",
       "      <td>1</td>\n",
       "    </tr>\n",
       "    <tr>\n",
       "      <th>2</th>\n",
       "      <td>Did you experienced fainting?</td>\n",
       "      <td>fainting_symptoms</td>\n",
       "      <td>2</td>\n",
       "    </tr>\n",
       "    <tr>\n",
       "      <th>3</th>\n",
       "      <td>Did you faint?</td>\n",
       "      <td>fainting_symptoms</td>\n",
       "      <td>2</td>\n",
       "    </tr>\n",
       "    <tr>\n",
       "      <th>4</th>\n",
       "      <td>Did you had a cough with sputum?</td>\n",
       "      <td>cough_symptoms</td>\n",
       "      <td>3</td>\n",
       "    </tr>\n",
       "  </tbody>\n",
       "</table>\n",
       "</div>"
      ],
      "text/plain": [
       "                                                text              label  \\\n",
       "0  Did a pain in the center of the chest ever occ...         chest_pain   \n",
       "1                        Did those symptoms changes?   symptoms_changes   \n",
       "2                      Did you experienced fainting?  fainting_symptoms   \n",
       "3                                     Did you faint?  fainting_symptoms   \n",
       "4                   Did you had a cough with sputum?     cough_symptoms   \n",
       "\n",
       "   label_id  \n",
       "0         0  \n",
       "1         1  \n",
       "2         2  \n",
       "3         2  \n",
       "4         3  "
      ]
     },
     "execution_count": 7,
     "metadata": {},
     "output_type": "execute_result"
    }
   ],
   "source": [
    "df_combined[\"label_id\"] = df_combined[\"label\"].apply(lambda s: label_to_idx[s])\n",
    "df_combined.head()"
   ]
  },
  {
   "cell_type": "code",
   "execution_count": 8,
   "id": "dcc9e506-7921-4eb0-bc86-32e10223b2e3",
   "metadata": {},
   "outputs": [],
   "source": [
    "train_df = df_combined.groupby(\"label\").sample(10, random_state=42)\n",
    "valid_df = df_combined.drop(train_df.index)"
   ]
  },
  {
   "cell_type": "code",
   "execution_count": 9,
   "id": "be84065f-0a1e-4bcb-8b44-cd57821ab594",
   "metadata": {},
   "outputs": [],
   "source": [
    "batch_size = 12\n",
    "\n",
    "train_dataset = (tf.data.Dataset\n",
    "                 .from_tensor_slices((train_df[\"text\"], train_df[\"label_id\"]))\n",
    "                 .batch(batch_size))\n",
    "\n",
    "valid_dataset = (tf.data.Dataset\n",
    "                 .from_tensor_slices((valid_df[\"text\"], valid_df[\"label_id\"]))\n",
    "                 .batch(batch_size))"
   ]
  },
  {
   "cell_type": "code",
   "execution_count": 10,
   "id": "835ef4c9-5b52-44e3-ba0d-c96e7b233455",
   "metadata": {},
   "outputs": [],
   "source": [
    "VOCAB_SIZE = 10_000\n",
    "encoder = tf.keras.layers.TextVectorization(\n",
    "    max_tokens=VOCAB_SIZE\n",
    ")\n",
    "encoder.adapt(df_combined[\"text\"])"
   ]
  },
  {
   "cell_type": "code",
   "execution_count": 11,
   "id": "a4651934-961c-4c0b-8f64-e63233bb71b7",
   "metadata": {},
   "outputs": [
    {
     "data": {
      "text/plain": [
       "<tf.Tensor: shape=(4, 11), dtype=int64, numpy=\n",
       "array([[ 19,  10,  39,   4,   2,  52,   5,   2,  34,  40,  43],\n",
       "       [ 19,  98,   9,  41,   0,   0,   0,   0,   0,   0,   0],\n",
       "       [ 19,   3, 120,  47,   0,   0,   0,   0,   0,   0,   0],\n",
       "       [ 19,   3, 119,   0,   0,   0,   0,   0,   0,   0,   0]],\n",
       "      dtype=int64)>"
      ]
     },
     "execution_count": 11,
     "metadata": {},
     "output_type": "execute_result"
    }
   ],
   "source": [
    "encoder(df_combined.loc[:3, \"text\"])"
   ]
  },
  {
   "cell_type": "code",
   "execution_count": 12,
   "id": "61d7cbf5-1791-4fd6-9e7f-39806462d237",
   "metadata": {},
   "outputs": [
    {
     "name": "stdout",
     "output_type": "stream",
     "text": [
      "Model: \"sequential\"\n",
      "_________________________________________________________________\n",
      " Layer (type)                Output Shape              Param #   \n",
      "=================================================================\n",
      " text_vectorization (TextVec  (None, None)             0         \n",
      " torization)                                                     \n",
      "                                                                 \n",
      " embedding (Embedding)       (None, None, 64)          8512      \n",
      "                                                                 \n",
      " bidirectional (Bidirectiona  (None, None, 128)        66048     \n",
      " l)                                                              \n",
      "                                                                 \n",
      " bidirectional_1 (Bidirectio  (None, 128)              98816     \n",
      " nal)                                                            \n",
      "                                                                 \n",
      " dense (Dense)               (None, 14)                1806      \n",
      "                                                                 \n",
      "=================================================================\n",
      "Total params: 175,182\n",
      "Trainable params: 175,182\n",
      "Non-trainable params: 0\n",
      "_________________________________________________________________\n"
     ]
    }
   ],
   "source": [
    "output_dim = 64\n",
    "units = 64\n",
    "\n",
    "model = tf.keras.Sequential([\n",
    "    tf.keras.layers.Input(shape=(), dtype=tf.string),\n",
    "    encoder,\n",
    "    tf.keras.layers.Embedding(\n",
    "        input_dim=len(encoder.get_vocabulary()),\n",
    "        output_dim=output_dim,\n",
    "        # Use masking to handle the variable sequence lengths\n",
    "        mask_zero=True),\n",
    "    tf.keras.layers.Bidirectional(tf.keras.layers.LSTM(units, return_sequences=True)),\n",
    "    tf.keras.layers.Bidirectional(tf.keras.layers.LSTM(units)),\n",
    "    tf.keras.layers.Dense(len(label_to_idx)),\n",
    "])\n",
    "\n",
    "model.summary()"
   ]
  },
  {
   "cell_type": "code",
   "execution_count": 13,
   "id": "e02c0545-51e3-4b7f-97f9-4499501fca1c",
   "metadata": {},
   "outputs": [
    {
     "name": "stdout",
     "output_type": "stream",
     "text": [
      "[False, True, True, True, True]\n"
     ]
    }
   ],
   "source": [
    "print([layer.supports_masking for layer in model.layers])"
   ]
  },
  {
   "cell_type": "code",
   "execution_count": 14,
   "id": "3cf6bd42-f95a-40e6-899a-375b1e26d3e9",
   "metadata": {},
   "outputs": [],
   "source": [
    "model.compile(\n",
    "    optimizer=tf.keras.optimizers.Adam(1e-4),\n",
    "    loss=tf.keras.losses.SparseCategoricalCrossentropy(from_logits=True),\n",
    "    metrics=[tf.keras.metrics.SparseCategoricalAccuracy()]\n",
    ")"
   ]
  },
  {
   "cell_type": "code",
   "execution_count": 15,
   "id": "ccc5512b-8bf8-412b-9ff1-62ec7ffca4c6",
   "metadata": {
    "collapsed": true,
    "jupyter": {
     "outputs_hidden": true
    },
    "tags": []
   },
   "outputs": [
    {
     "name": "stdout",
     "output_type": "stream",
     "text": [
      "Epoch 1/100\n",
      "12/12 [==============================] - 18s 474ms/step - loss: 2.6406 - sparse_categorical_accuracy: 0.0429 - val_loss: 2.6380 - val_sparse_categorical_accuracy: 0.1956\n",
      "Epoch 2/100\n",
      "12/12 [==============================] - 1s 85ms/step - loss: 2.6368 - sparse_categorical_accuracy: 0.1857 - val_loss: 2.6366 - val_sparse_categorical_accuracy: 0.1600\n",
      "Epoch 3/100\n",
      "12/12 [==============================] - 1s 82ms/step - loss: 2.6344 - sparse_categorical_accuracy: 0.2286 - val_loss: 2.6354 - val_sparse_categorical_accuracy: 0.1911\n",
      "Epoch 4/100\n",
      "12/12 [==============================] - 1s 80ms/step - loss: 2.6321 - sparse_categorical_accuracy: 0.2857 - val_loss: 2.6342 - val_sparse_categorical_accuracy: 0.2178\n",
      "Epoch 5/100\n",
      "12/12 [==============================] - 1s 79ms/step - loss: 2.6297 - sparse_categorical_accuracy: 0.3357 - val_loss: 2.6325 - val_sparse_categorical_accuracy: 0.3111\n",
      "Epoch 6/100\n",
      "12/12 [==============================] - 1s 79ms/step - loss: 2.6271 - sparse_categorical_accuracy: 0.3714 - val_loss: 2.6313 - val_sparse_categorical_accuracy: 0.3244\n",
      "Epoch 7/100\n",
      "12/12 [==============================] - 1s 79ms/step - loss: 2.6244 - sparse_categorical_accuracy: 0.4857 - val_loss: 2.6297 - val_sparse_categorical_accuracy: 0.3778\n",
      "Epoch 8/100\n",
      "12/12 [==============================] - 1s 88ms/step - loss: 2.6215 - sparse_categorical_accuracy: 0.5286 - val_loss: 2.6274 - val_sparse_categorical_accuracy: 0.3822\n",
      "Epoch 9/100\n",
      "12/12 [==============================] - 1s 90ms/step - loss: 2.6184 - sparse_categorical_accuracy: 0.5643 - val_loss: 2.6260 - val_sparse_categorical_accuracy: 0.3733\n",
      "Epoch 10/100\n",
      "12/12 [==============================] - 1s 88ms/step - loss: 2.6149 - sparse_categorical_accuracy: 0.5571 - val_loss: 2.6229 - val_sparse_categorical_accuracy: 0.3911\n",
      "Epoch 11/100\n",
      "12/12 [==============================] - 1s 88ms/step - loss: 2.6111 - sparse_categorical_accuracy: 0.5643 - val_loss: 2.6208 - val_sparse_categorical_accuracy: 0.3867\n",
      "Epoch 12/100\n",
      "12/12 [==============================] - 1s 89ms/step - loss: 2.6067 - sparse_categorical_accuracy: 0.5643 - val_loss: 2.6178 - val_sparse_categorical_accuracy: 0.3911\n",
      "Epoch 13/100\n",
      "12/12 [==============================] - 1s 87ms/step - loss: 2.6018 - sparse_categorical_accuracy: 0.5214 - val_loss: 2.6153 - val_sparse_categorical_accuracy: 0.3867\n",
      "Epoch 14/100\n",
      "12/12 [==============================] - 1s 88ms/step - loss: 2.5961 - sparse_categorical_accuracy: 0.5214 - val_loss: 2.6107 - val_sparse_categorical_accuracy: 0.3867\n",
      "Epoch 15/100\n",
      "12/12 [==============================] - 1s 89ms/step - loss: 2.5894 - sparse_categorical_accuracy: 0.5214 - val_loss: 2.6080 - val_sparse_categorical_accuracy: 0.3778\n",
      "Epoch 16/100\n",
      "12/12 [==============================] - 1s 87ms/step - loss: 2.5816 - sparse_categorical_accuracy: 0.5214 - val_loss: 2.6015 - val_sparse_categorical_accuracy: 0.3556\n",
      "Epoch 17/100\n",
      "12/12 [==============================] - 1s 90ms/step - loss: 2.5721 - sparse_categorical_accuracy: 0.5214 - val_loss: 2.5961 - val_sparse_categorical_accuracy: 0.3333\n",
      "Epoch 18/100\n",
      "12/12 [==============================] - 1s 88ms/step - loss: 2.5606 - sparse_categorical_accuracy: 0.5143 - val_loss: 2.5870 - val_sparse_categorical_accuracy: 0.3422\n",
      "Epoch 19/100\n",
      "12/12 [==============================] - 1s 88ms/step - loss: 2.5460 - sparse_categorical_accuracy: 0.5071 - val_loss: 2.5782 - val_sparse_categorical_accuracy: 0.3422\n",
      "Epoch 20/100\n",
      "12/12 [==============================] - 1s 88ms/step - loss: 2.5272 - sparse_categorical_accuracy: 0.5071 - val_loss: 2.5619 - val_sparse_categorical_accuracy: 0.3111\n",
      "Epoch 21/100\n",
      "12/12 [==============================] - 1s 90ms/step - loss: 2.5023 - sparse_categorical_accuracy: 0.4714 - val_loss: 2.5436 - val_sparse_categorical_accuracy: 0.2756\n",
      "Epoch 22/100\n",
      "12/12 [==============================] - 1s 88ms/step - loss: 2.4682 - sparse_categorical_accuracy: 0.4143 - val_loss: 2.5250 - val_sparse_categorical_accuracy: 0.2133\n",
      "Epoch 23/100\n",
      "12/12 [==============================] - 1s 93ms/step - loss: 2.4216 - sparse_categorical_accuracy: 0.3500 - val_loss: 2.4845 - val_sparse_categorical_accuracy: 0.2356\n",
      "Epoch 24/100\n",
      "12/12 [==============================] - 1s 89ms/step - loss: 2.3624 - sparse_categorical_accuracy: 0.2857 - val_loss: 2.4529 - val_sparse_categorical_accuracy: 0.1911\n",
      "Epoch 25/100\n",
      "12/12 [==============================] - 1s 91ms/step - loss: 2.3008 - sparse_categorical_accuracy: 0.2857 - val_loss: 2.4130 - val_sparse_categorical_accuracy: 0.2000\n",
      "Epoch 26/100\n",
      "12/12 [==============================] - 1s 95ms/step - loss: 2.2453 - sparse_categorical_accuracy: 0.3000 - val_loss: 2.3851 - val_sparse_categorical_accuracy: 0.2356\n",
      "Epoch 27/100\n",
      "12/12 [==============================] - 1s 94ms/step - loss: 2.1931 - sparse_categorical_accuracy: 0.3643 - val_loss: 2.3509 - val_sparse_categorical_accuracy: 0.2800\n",
      "Epoch 28/100\n",
      "12/12 [==============================] - 1s 94ms/step - loss: 2.1427 - sparse_categorical_accuracy: 0.4429 - val_loss: 2.3281 - val_sparse_categorical_accuracy: 0.3200\n",
      "Epoch 29/100\n",
      "12/12 [==============================] - 1s 94ms/step - loss: 2.0948 - sparse_categorical_accuracy: 0.4929 - val_loss: 2.2923 - val_sparse_categorical_accuracy: 0.3733\n",
      "Epoch 30/100\n",
      "12/12 [==============================] - 1s 91ms/step - loss: 2.0480 - sparse_categorical_accuracy: 0.5429 - val_loss: 2.2774 - val_sparse_categorical_accuracy: 0.3733\n",
      "Epoch 31/100\n",
      "12/12 [==============================] - 1s 89ms/step - loss: 2.0013 - sparse_categorical_accuracy: 0.5500 - val_loss: 2.2436 - val_sparse_categorical_accuracy: 0.3822\n",
      "Epoch 32/100\n",
      "12/12 [==============================] - 1s 90ms/step - loss: 1.9559 - sparse_categorical_accuracy: 0.5500 - val_loss: 2.2166 - val_sparse_categorical_accuracy: 0.3733\n",
      "Epoch 33/100\n",
      "12/12 [==============================] - 1s 91ms/step - loss: 1.9136 - sparse_categorical_accuracy: 0.5500 - val_loss: 2.1900 - val_sparse_categorical_accuracy: 0.3911\n",
      "Epoch 34/100\n",
      "12/12 [==============================] - 1s 93ms/step - loss: 1.8760 - sparse_categorical_accuracy: 0.5500 - val_loss: 2.1707 - val_sparse_categorical_accuracy: 0.4133\n",
      "Epoch 35/100\n",
      "12/12 [==============================] - 1s 91ms/step - loss: 1.8434 - sparse_categorical_accuracy: 0.5500 - val_loss: 2.1345 - val_sparse_categorical_accuracy: 0.4400\n",
      "Epoch 36/100\n",
      "12/12 [==============================] - 1s 93ms/step - loss: 1.8151 - sparse_categorical_accuracy: 0.5500 - val_loss: 2.1254 - val_sparse_categorical_accuracy: 0.4267\n",
      "Epoch 37/100\n",
      "12/12 [==============================] - 1s 91ms/step - loss: 1.7901 - sparse_categorical_accuracy: 0.5357 - val_loss: 2.1226 - val_sparse_categorical_accuracy: 0.3822\n",
      "Epoch 38/100\n",
      "12/12 [==============================] - 1s 91ms/step - loss: 1.7673 - sparse_categorical_accuracy: 0.5857 - val_loss: 2.0866 - val_sparse_categorical_accuracy: 0.3956\n",
      "Epoch 39/100\n",
      "12/12 [==============================] - 1s 91ms/step - loss: 1.7460 - sparse_categorical_accuracy: 0.5857 - val_loss: 2.0726 - val_sparse_categorical_accuracy: 0.3956\n",
      "Epoch 40/100\n",
      "12/12 [==============================] - 1s 90ms/step - loss: 1.7253 - sparse_categorical_accuracy: 0.5929 - val_loss: 2.0588 - val_sparse_categorical_accuracy: 0.3956\n",
      "Epoch 41/100\n",
      "12/12 [==============================] - 1s 91ms/step - loss: 1.7050 - sparse_categorical_accuracy: 0.5929 - val_loss: 2.0455 - val_sparse_categorical_accuracy: 0.4000\n",
      "Epoch 42/100\n",
      "12/12 [==============================] - 1s 91ms/step - loss: 1.6846 - sparse_categorical_accuracy: 0.5929 - val_loss: 2.0524 - val_sparse_categorical_accuracy: 0.3778\n",
      "Epoch 43/100\n",
      "12/12 [==============================] - 1s 90ms/step - loss: 1.6639 - sparse_categorical_accuracy: 0.5929 - val_loss: 2.0180 - val_sparse_categorical_accuracy: 0.4311\n",
      "Epoch 44/100\n",
      "12/12 [==============================] - 1s 90ms/step - loss: 1.6427 - sparse_categorical_accuracy: 0.6429 - val_loss: 2.0123 - val_sparse_categorical_accuracy: 0.4311\n",
      "Epoch 45/100\n",
      "12/12 [==============================] - 1s 90ms/step - loss: 1.6209 - sparse_categorical_accuracy: 0.6643 - val_loss: 1.9904 - val_sparse_categorical_accuracy: 0.4356\n",
      "Epoch 46/100\n",
      "12/12 [==============================] - 1s 97ms/step - loss: 1.5982 - sparse_categorical_accuracy: 0.6786 - val_loss: 1.9714 - val_sparse_categorical_accuracy: 0.4356\n",
      "Epoch 47/100\n",
      "12/12 [==============================] - 1s 95ms/step - loss: 1.5744 - sparse_categorical_accuracy: 0.6786 - val_loss: 1.9652 - val_sparse_categorical_accuracy: 0.4178\n",
      "Epoch 48/100\n",
      "12/12 [==============================] - 1s 96ms/step - loss: 1.5493 - sparse_categorical_accuracy: 0.6786 - val_loss: 1.9574 - val_sparse_categorical_accuracy: 0.4133\n",
      "Epoch 49/100\n",
      "12/12 [==============================] - 1s 95ms/step - loss: 1.5227 - sparse_categorical_accuracy: 0.6786 - val_loss: 1.9401 - val_sparse_categorical_accuracy: 0.4178\n",
      "Epoch 50/100\n",
      "12/12 [==============================] - 1s 95ms/step - loss: 1.4945 - sparse_categorical_accuracy: 0.6786 - val_loss: 1.9144 - val_sparse_categorical_accuracy: 0.4311\n",
      "Epoch 51/100\n",
      "12/12 [==============================] - 1s 92ms/step - loss: 1.4646 - sparse_categorical_accuracy: 0.6857 - val_loss: 1.9087 - val_sparse_categorical_accuracy: 0.4222\n",
      "Epoch 52/100\n",
      "12/12 [==============================] - 1s 91ms/step - loss: 1.4332 - sparse_categorical_accuracy: 0.6786 - val_loss: 1.8606 - val_sparse_categorical_accuracy: 0.4356\n",
      "Epoch 53/100\n",
      "12/12 [==============================] - 1s 91ms/step - loss: 1.4006 - sparse_categorical_accuracy: 0.6786 - val_loss: 1.8340 - val_sparse_categorical_accuracy: 0.4356\n",
      "Epoch 54/100\n",
      "12/12 [==============================] - 1s 91ms/step - loss: 1.3673 - sparse_categorical_accuracy: 0.6786 - val_loss: 1.8308 - val_sparse_categorical_accuracy: 0.4400\n",
      "Epoch 55/100\n",
      "12/12 [==============================] - 1s 91ms/step - loss: 1.3340 - sparse_categorical_accuracy: 0.6786 - val_loss: 1.8040 - val_sparse_categorical_accuracy: 0.4133\n",
      "Epoch 56/100\n",
      "12/12 [==============================] - 1s 93ms/step - loss: 1.3016 - sparse_categorical_accuracy: 0.6214 - val_loss: 1.7771 - val_sparse_categorical_accuracy: 0.4044\n",
      "Epoch 57/100\n",
      "12/12 [==============================] - 1s 102ms/step - loss: 1.2706 - sparse_categorical_accuracy: 0.6214 - val_loss: 1.7680 - val_sparse_categorical_accuracy: 0.4222\n",
      "Epoch 58/100\n",
      "12/12 [==============================] - 1s 100ms/step - loss: 1.2411 - sparse_categorical_accuracy: 0.6214 - val_loss: 1.7268 - val_sparse_categorical_accuracy: 0.4533\n",
      "Epoch 59/100\n",
      "12/12 [==============================] - 1s 93ms/step - loss: 1.2133 - sparse_categorical_accuracy: 0.6714 - val_loss: 1.7418 - val_sparse_categorical_accuracy: 0.4533\n",
      "Epoch 60/100\n",
      "12/12 [==============================] - 1s 94ms/step - loss: 1.1870 - sparse_categorical_accuracy: 0.6714 - val_loss: 1.7129 - val_sparse_categorical_accuracy: 0.4533\n",
      "Epoch 61/100\n",
      "12/12 [==============================] - 1s 93ms/step - loss: 1.1620 - sparse_categorical_accuracy: 0.6714 - val_loss: 1.7070 - val_sparse_categorical_accuracy: 0.4711\n",
      "Epoch 62/100\n",
      "12/12 [==============================] - 1s 93ms/step - loss: 1.1381 - sparse_categorical_accuracy: 0.7286 - val_loss: 1.6706 - val_sparse_categorical_accuracy: 0.4800\n",
      "Epoch 63/100\n",
      "12/12 [==============================] - 1s 93ms/step - loss: 1.1151 - sparse_categorical_accuracy: 0.7286 - val_loss: 1.6464 - val_sparse_categorical_accuracy: 0.4800\n",
      "Epoch 64/100\n",
      "12/12 [==============================] - 1s 93ms/step - loss: 1.0929 - sparse_categorical_accuracy: 0.7429 - val_loss: 1.6461 - val_sparse_categorical_accuracy: 0.4844\n",
      "Epoch 65/100\n",
      "12/12 [==============================] - 1s 93ms/step - loss: 1.0713 - sparse_categorical_accuracy: 0.7429 - val_loss: 1.6169 - val_sparse_categorical_accuracy: 0.4800\n",
      "Epoch 66/100\n",
      "12/12 [==============================] - 1s 91ms/step - loss: 1.0501 - sparse_categorical_accuracy: 0.7429 - val_loss: 1.6045 - val_sparse_categorical_accuracy: 0.4800\n",
      "Epoch 67/100\n",
      "12/12 [==============================] - 1s 93ms/step - loss: 1.0294 - sparse_categorical_accuracy: 0.7571 - val_loss: 1.5857 - val_sparse_categorical_accuracy: 0.4800\n",
      "Epoch 68/100\n",
      "12/12 [==============================] - 1s 91ms/step - loss: 1.0091 - sparse_categorical_accuracy: 0.7571 - val_loss: 1.5721 - val_sparse_categorical_accuracy: 0.4800\n",
      "Epoch 69/100\n",
      "12/12 [==============================] - 1s 92ms/step - loss: 0.9890 - sparse_categorical_accuracy: 0.7571 - val_loss: 1.5628 - val_sparse_categorical_accuracy: 0.5067\n",
      "Epoch 70/100\n",
      "12/12 [==============================] - 1s 91ms/step - loss: 0.9693 - sparse_categorical_accuracy: 0.8143 - val_loss: 1.5453 - val_sparse_categorical_accuracy: 0.5111\n",
      "Epoch 71/100\n",
      "12/12 [==============================] - 1s 93ms/step - loss: 0.9498 - sparse_categorical_accuracy: 0.8143 - val_loss: 1.5481 - val_sparse_categorical_accuracy: 0.5111\n",
      "Epoch 72/100\n",
      "12/12 [==============================] - 1s 93ms/step - loss: 0.9307 - sparse_categorical_accuracy: 0.8143 - val_loss: 1.5208 - val_sparse_categorical_accuracy: 0.5156\n",
      "Epoch 73/100\n",
      "12/12 [==============================] - 1s 95ms/step - loss: 0.9118 - sparse_categorical_accuracy: 0.8143 - val_loss: 1.5564 - val_sparse_categorical_accuracy: 0.5067\n",
      "Epoch 74/100\n",
      "12/12 [==============================] - 1s 93ms/step - loss: 0.8932 - sparse_categorical_accuracy: 0.8214 - val_loss: 1.5249 - val_sparse_categorical_accuracy: 0.5111\n",
      "Epoch 75/100\n",
      "12/12 [==============================] - 1s 93ms/step - loss: 0.8749 - sparse_categorical_accuracy: 0.8286 - val_loss: 1.4963 - val_sparse_categorical_accuracy: 0.5111\n",
      "Epoch 76/100\n",
      "12/12 [==============================] - 1s 94ms/step - loss: 0.8570 - sparse_categorical_accuracy: 0.8357 - val_loss: 1.5288 - val_sparse_categorical_accuracy: 0.5067\n",
      "Epoch 77/100\n",
      "12/12 [==============================] - 1s 91ms/step - loss: 0.8394 - sparse_categorical_accuracy: 0.8357 - val_loss: 1.4766 - val_sparse_categorical_accuracy: 0.5200\n",
      "Epoch 78/100\n",
      "12/12 [==============================] - 1s 93ms/step - loss: 0.8222 - sparse_categorical_accuracy: 0.8357 - val_loss: 1.4711 - val_sparse_categorical_accuracy: 0.5156\n",
      "Epoch 79/100\n",
      "12/12 [==============================] - 1s 93ms/step - loss: 0.8054 - sparse_categorical_accuracy: 0.8357 - val_loss: 1.4658 - val_sparse_categorical_accuracy: 0.5200\n",
      "Epoch 80/100\n",
      "12/12 [==============================] - 1s 93ms/step - loss: 0.7890 - sparse_categorical_accuracy: 0.8357 - val_loss: 1.4577 - val_sparse_categorical_accuracy: 0.5200\n",
      "Epoch 81/100\n",
      "12/12 [==============================] - 1s 91ms/step - loss: 0.7730 - sparse_categorical_accuracy: 0.8357 - val_loss: 1.4352 - val_sparse_categorical_accuracy: 0.5289\n",
      "Epoch 82/100\n",
      "12/12 [==============================] - 1s 95ms/step - loss: 0.7576 - sparse_categorical_accuracy: 0.8357 - val_loss: 1.4408 - val_sparse_categorical_accuracy: 0.5156\n",
      "Epoch 83/100\n",
      "12/12 [==============================] - 1s 91ms/step - loss: 0.7426 - sparse_categorical_accuracy: 0.8357 - val_loss: 1.3973 - val_sparse_categorical_accuracy: 0.5244\n",
      "Epoch 84/100\n",
      "12/12 [==============================] - 1s 91ms/step - loss: 0.7281 - sparse_categorical_accuracy: 0.8357 - val_loss: 1.4015 - val_sparse_categorical_accuracy: 0.5244\n",
      "Epoch 85/100\n",
      "12/12 [==============================] - 1s 93ms/step - loss: 0.7141 - sparse_categorical_accuracy: 0.8357 - val_loss: 1.3921 - val_sparse_categorical_accuracy: 0.5244\n",
      "Epoch 86/100\n",
      "12/12 [==============================] - 1s 100ms/step - loss: 0.7007 - sparse_categorical_accuracy: 0.8357 - val_loss: 1.4044 - val_sparse_categorical_accuracy: 0.5111\n",
      "Epoch 87/100\n",
      "12/12 [==============================] - 1s 93ms/step - loss: 0.6877 - sparse_categorical_accuracy: 0.8429 - val_loss: 1.3639 - val_sparse_categorical_accuracy: 0.5200\n",
      "Epoch 88/100\n",
      "12/12 [==============================] - 1s 93ms/step - loss: 0.6753 - sparse_categorical_accuracy: 0.8429 - val_loss: 1.3764 - val_sparse_categorical_accuracy: 0.5156\n",
      "Epoch 89/100\n",
      "12/12 [==============================] - 1s 90ms/step - loss: 0.6634 - sparse_categorical_accuracy: 0.8429 - val_loss: 1.3446 - val_sparse_categorical_accuracy: 0.5244\n",
      "Epoch 90/100\n",
      "12/12 [==============================] - 1s 93ms/step - loss: 0.6520 - sparse_categorical_accuracy: 0.8429 - val_loss: 1.3567 - val_sparse_categorical_accuracy: 0.5156\n",
      "Epoch 91/100\n",
      "12/12 [==============================] - 1s 91ms/step - loss: 0.6410 - sparse_categorical_accuracy: 0.8429 - val_loss: 1.3427 - val_sparse_categorical_accuracy: 0.5244\n",
      "Epoch 92/100\n",
      "12/12 [==============================] - 1s 97ms/step - loss: 0.6305 - sparse_categorical_accuracy: 0.8429 - val_loss: 1.3205 - val_sparse_categorical_accuracy: 0.5244\n",
      "Epoch 93/100\n",
      "12/12 [==============================] - 1s 95ms/step - loss: 0.6204 - sparse_categorical_accuracy: 0.8429 - val_loss: 1.3218 - val_sparse_categorical_accuracy: 0.5200\n",
      "Epoch 94/100\n",
      "12/12 [==============================] - 1s 94ms/step - loss: 0.6108 - sparse_categorical_accuracy: 0.8429 - val_loss: 1.3347 - val_sparse_categorical_accuracy: 0.5200\n",
      "Epoch 95/100\n",
      "12/12 [==============================] - 1s 97ms/step - loss: 0.6015 - sparse_categorical_accuracy: 0.8429 - val_loss: 1.3162 - val_sparse_categorical_accuracy: 0.5200\n",
      "Epoch 96/100\n",
      "12/12 [==============================] - 1s 95ms/step - loss: 0.5926 - sparse_categorical_accuracy: 0.8429 - val_loss: 1.3503 - val_sparse_categorical_accuracy: 0.5200\n",
      "Epoch 97/100\n",
      "12/12 [==============================] - 1s 99ms/step - loss: 0.5841 - sparse_categorical_accuracy: 0.8429 - val_loss: 1.3024 - val_sparse_categorical_accuracy: 0.5200\n",
      "Epoch 98/100\n",
      "12/12 [==============================] - 1s 96ms/step - loss: 0.5759 - sparse_categorical_accuracy: 0.8429 - val_loss: 1.2969 - val_sparse_categorical_accuracy: 0.5200\n",
      "Epoch 99/100\n",
      "12/12 [==============================] - 1s 97ms/step - loss: 0.5680 - sparse_categorical_accuracy: 0.8429 - val_loss: 1.2947 - val_sparse_categorical_accuracy: 0.5200\n",
      "Epoch 100/100\n",
      "12/12 [==============================] - 1s 99ms/step - loss: 0.5605 - sparse_categorical_accuracy: 0.8429 - val_loss: 1.2714 - val_sparse_categorical_accuracy: 0.5200\n"
     ]
    }
   ],
   "source": [
    "epochs = 100\n",
    "\n",
    "history = model.fit(\n",
    "    train_dataset,\n",
    "    epochs=epochs,\n",
    "    validation_data=valid_dataset\n",
    ")"
   ]
  },
  {
   "cell_type": "code",
   "execution_count": 16,
   "id": "b33b1706-ca8a-4f8f-917c-9eaeab0bea2b",
   "metadata": {},
   "outputs": [
    {
     "data": {
      "image/png": "[encoded data removed]",
      "text/plain": [
       "<Figure size 720x432 with 1 Axes>"
      ]
     },
     "metadata": {
      "needs_background": "light"
     },
     "output_type": "display_data"
    }
   ],
   "source": [
    "fig, ax = plt.subplots(figsize=(10, 6), constrained_layout=True)\n",
    "ax.plot(history.history[\"loss\"], label=\"Training loss\")\n",
    "ax.plot(history.history[\"val_loss\"], label=\"Validation loss\")\n",
    "ax.set_xlabel(\"Epcohs\")\n",
    "ax.set_ylabel(\"Loss\")\n",
    "ax.set_xticks(np.arange(0, len(history.history[\"loss\"]) + 1, 10))\n",
    "ax.legend()\n",
    "plt.savefig(\"loss.png\")"
   ]
  },
  {
   "cell_type": "code",
   "execution_count": 17,
   "id": "e0c04e00-08dd-42a0-9847-89883e1b7b6a",
   "metadata": {},
   "outputs": [
    {
     "data": {
      "image/png": "[encoded data removed]",
      "text/plain": [
       "<Figure size 720x432 with 1 Axes>"
      ]
     },
     "metadata": {
      "needs_background": "light"
     },
     "output_type": "display_data"
    }
   ],
   "source": [
    "fig, ax = plt.subplots(figsize=(10, 6), constrained_layout=True)\n",
    "ax.plot(history.history[\"sparse_categorical_accuracy\"], label=\"Training accuracy\")\n",
    "ax.plot(history.history[\"val_sparse_categorical_accuracy\"], label=\"Validation accuracy\")\n",
    "ax.set_xlabel(\"Epcohs\")\n",
    "ax.set_ylabel(\"Accuracy\")\n",
    "ax.set_xticks(np.arange(0, len(history.history[\"sparse_categorical_accuracy\"]) + 1, 10))\n",
    "ax.legend()\n",
    "fig.savefig(\"accuracy.png\")"
   ]
  },
  {
   "cell_type": "code",
   "execution_count": 18,
   "id": "1758b5a2-f38b-4744-a952-672db5b8adaa",
   "metadata": {},
   "outputs": [
    {
     "name": "stdout",
     "output_type": "stream",
     "text": [
      "12/12 [==============================] - 0s 31ms/step - loss: 0.9991 - sparse_categorical_accuracy: 0.6411\n",
      "loss    : 0.9991\n",
      "sparse_categorical_accuracy: 0.6411\n"
     ]
    }
   ],
   "source": [
    "metrics = model.evaluate(\n",
    "    df_combined[\"text\"].to_numpy(),\n",
    "    df_combined[\"label_id\"].to_numpy()\n",
    ")\n",
    "\n",
    "for metric_name, metric in zip(model.metrics_names, metrics):\n",
    "    print(f\"{metric_name:<8s}: {metric:.4f}\")"
   ]
  },
  {
   "cell_type": "code",
   "execution_count": 19,
   "id": "88358fcd-45fe-4ec3-b1f3-0da72173d10b",
   "metadata": {},
   "outputs": [
    {
     "name": "stdout",
     "output_type": "stream",
     "text": [
      "12/12 [==============================] - 5s 25ms/step\n",
      "accuracy : 0.6438\n",
      "precision: 0.7206\n",
      "recall   : 0.7206\n",
      "F1       : 0.7405\n"
     ]
    },
    {
     "name": "stderr",
     "output_type": "stream",
     "text": [
      "C:\\Users\\Eduard\\miniconda3\\envs\\licenta\\lib\\site-packages\\sklearn\\metrics\\_classification.py:1327: UndefinedMetricWarning: Precision is ill-defined and being set to 0.0 in labels with no predicted samples. Use `zero_division` parameter to control this behavior.\n",
      "  _warn_prf(average, modifier, msg_start, len(result))\n",
      "C:\\Users\\Eduard\\miniconda3\\envs\\licenta\\lib\\site-packages\\sklearn\\metrics\\_classification.py:1327: UndefinedMetricWarning: Precision is ill-defined and being set to 0.0 in labels with no predicted samples. Use `zero_division` parameter to control this behavior.\n",
      "  _warn_prf(average, modifier, msg_start, len(result))\n"
     ]
    }
   ],
   "source": [
    "predictions_probabilities = model.predict(df_combined[\"text\"])\n",
    "predictions = np.argmax(predictions_probabilities, axis=1)\n",
    "\n",
    "y_true = df_combined[\"label_id\"].to_numpy()\n",
    "accuracy = accuracy_score(y_true, predictions)\n",
    "precision = precision_score(y_true, predictions, average=\"macro\")\n",
    "recall = precision_score(y_true, predictions, average=\"macro\")\n",
    "f1score = f1_score(y_true, predictions, average=\"macro\")\n",
    "\n",
    "print(f\"accuracy : {accuracy:.4f}\")\n",
    "print(f\"precision: {precision:.4f}\")\n",
    "print(f\"recall   : {recall:.4f}\")\n",
    "print(f\"F1       : {f1score:.4f}\")"
   ]
  },
  {
   "cell_type": "code",
   "execution_count": 20,
   "id": "e05e20ae-0c80-4753-8582-06504910c210",
   "metadata": {},
   "outputs": [
    {
     "data": {
      "image/png": "[encoded data removed]",
      "text/plain": [
       "<Figure size 720x504 with 2 Axes>"
      ]
     },
     "metadata": {
      "needs_background": "light"
     },
     "output_type": "display_data"
    }
   ],
   "source": [
    "matrix = confusion_matrix(y_true, predictions)\n",
    "index = label_to_idx.keys()\n",
    "df = pd.DataFrame(matrix, index=index, columns=index)\n",
    "plt.figure(figsize=(10, 7))\n",
    "sns.heatmap(df, annot=True, fmt=\"d\")\n",
    "plt.savefig(\"confusion_matrix.png\")"
   ]
  },
  {
   "cell_type": "code",
   "execution_count": 21,
   "id": "a74df3d0-323d-4c49-96cb-363f6b3cec06",
   "metadata": {},
   "outputs": [
    {
     "name": "stderr",
     "output_type": "stream",
     "text": [
      "WARNING:absl:Found untraced functions such as lstm_cell_1_layer_call_fn, lstm_cell_1_layer_call_and_return_conditional_losses, lstm_cell_2_layer_call_fn, lstm_cell_2_layer_call_and_return_conditional_losses, lstm_cell_4_layer_call_fn while saving (showing 5 of 8). These functions will not be directly callable after loading.\n"
     ]
    },
    {
     "name": "stdout",
     "output_type": "stream",
     "text": [
      "INFO:tensorflow:Assets written to: rnn\\assets\n"
     ]
    },
    {
     "name": "stderr",
     "output_type": "stream",
     "text": [
      "INFO:tensorflow:Assets written to: rnn\\assets\n"
     ]
    }
   ],
   "source": [
    "model.save(\"rnn\")"
   ]
  },
  {
   "cell_type": "code",
   "execution_count": 22,
   "id": "46c061d0-b80b-4353-9241-e222c09bd2ac",
   "metadata": {},
   "outputs": [],
   "source": [
    "# with open(\"label_to_idx.json\", \"w\", encoding=\"utf-8\") as f:\n",
    "#     json.dump(label_to_idx, f)"
   ]
  }
 ],
 "metadata": {
  "kernelspec": {
   "display_name": "licenta",
   "language": "python",
   "name": "licenta"
  },
  "language_info": {
   "codemirror_mode": {
    "name": "ipython",
    "version": 3
   },
   "file_extension": ".py",
   "mimetype": "text/x-python",
   "name": "python",
   "nbconvert_exporter": "python",
   "pygments_lexer": "ipython3",
   "version": "3.8.13"
  }
 },
 "nbformat": 4,
 "nbformat_minor": 5
}
