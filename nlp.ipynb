{
 "cells": [
  {
   "cell_type": "code",
   "execution_count": 1,
   "id": "1d432c2e-5ae8-440b-af60-e654b936db5a",
   "metadata": {},
   "outputs": [],
   "source": [
    "import os\n",
    "import string\n",
    "import numpy as np\n",
    "import shutil\n",
    "import pandas as pd\n",
    "import matplotlib.pyplot as plt\n",
    "import preprocess_utils as prep\n",
    "\n",
    "import tensorflow as tf\n",
    "from tensorflow import keras\n",
    "from tensorflow.keras import layers\n",
    "import tensorflow_hub as hub\n",
    "import tensorflow_text as tftext"
   ]
  },
  {
   "cell_type": "code",
   "execution_count": 2,
   "id": "7d420dd0-fc47-425e-9d69-728849089066",
   "metadata": {},
   "outputs": [],
   "source": [
    "VOCAB_SIZE = 20_000\n",
    "MAX_SEQUENCE_LENGTH = 30"
   ]
  },
  {
   "cell_type": "code",
   "execution_count": 3,
   "id": "02499c0a-84e2-43ce-9ee5-bcd4fed964c3",
   "metadata": {},
   "outputs": [],
   "source": [
    "dir_path = os.path.join(\"datasets\", \"conll2003\")\n",
    "\n",
    "train_data = prep.read_iob_file(os.path.join(dir_path, \"train.txt\"))\n",
    "valid_data = prep.read_iob_file(os.path.join(dir_path, \"valid.txt\"))\n",
    "test_data = prep.read_iob_file(os.path.join(dir_path, \"test.txt\"))\n",
    "\n",
    "x_train, vocab = prep.preprocess_tokens(train_data[\"tokens\"], VOCAB_SIZE, MAX_SEQUENCE_LENGTH)\n",
    "y_train, class_names = prep.preprocess_entity_tags(train_data[\"entity_tags\"], MAX_SEQUENCE_LENGTH)\n",
    "\n",
    "x_valid, _ = prep.preprocess_tokens(valid_data[\"tokens\"], VOCAB_SIZE, MAX_SEQUENCE_LENGTH)\n",
    "y_valid, _ = prep.preprocess_entity_tags(valid_data[\"entity_tags\"], MAX_SEQUENCE_LENGTH)\n",
    "\n",
    "x_test, _ = prep.preprocess_tokens(test_data[\"tokens\"], VOCAB_SIZE, MAX_SEQUENCE_LENGTH)\n",
    "y_test, _ = prep.preprocess_entity_tags(test_data[\"entity_tags\"], MAX_SEQUENCE_LENGTH)"
   ]
  },
  {
   "cell_type": "code",
   "execution_count": 4,
   "id": "0362af88-c2cf-49ce-bf87-beb7cd2e66e6",
   "metadata": {},
   "outputs": [
    {
     "name": "stdout",
     "output_type": "stream",
     "text": [
      "Train examples:      14041, vocabulary length: 20000, classes: 9\n",
      "Validation examples: 3250\n",
      "Test examples:       3453\n"
     ]
    }
   ],
   "source": [
    "print(f\"Train examples:      {x_train.shape[0]}, vocabulary length: {len(vocab)}, classes: {len(class_names)}\")\n",
    "print(f\"Validation examples: {x_valid.shape[0]}\")\n",
    "print(f\"Test examples:       {x_test.shape[0]}\")"
   ]
  },
  {
   "cell_type": "code",
   "execution_count": 5,
   "id": "660d4cc4-8c5b-48f4-8035-109650f19be9",
   "metadata": {},
   "outputs": [],
   "source": [
    "class SparseCategoricalCrossentropyIgnorePaddingLoss(keras.losses.Loss):\n",
    "    def __init__(self, from_logits=False, **kwargs):\n",
    "        super().__init__(**kwargs)\n",
    "        self.loss_fn = keras.losses.SparseCategoricalCrossentropy(\n",
    "            from_logits=from_logits,\n",
    "            reduction=keras.losses.Reduction.NONE\n",
    "        )\n",
    "    \n",
    "    def call(self, y_true, y_pred):\n",
    "        loss = self.loss_fn(y_true, y_pred)\n",
    "        mask = tf.cast((y_true > 0), dtype=tf.dtypes.float32)\n",
    "        loss = loss * mask\n",
    "        return tf.reduce_sum(loss) / tf.reduce_sum(mask)\n",
    "        \n",
    "        "
   ]
  },
  {
   "cell_type": "code",
   "execution_count": 6,
   "id": "853d65dd-2aa0-4c8a-9ece-7dce9aad58e4",
   "metadata": {},
   "outputs": [
    {
     "name": "stdout",
     "output_type": "stream",
     "text": [
      "WARNING:tensorflow:Layer lstm will not use cuDNN kernels since it doesn't meet the criteria. It will use a generic GPU kernel as fallback when running on GPU.\n",
      "WARNING:tensorflow:Layer lstm will not use cuDNN kernels since it doesn't meet the criteria. It will use a generic GPU kernel as fallback when running on GPU.\n",
      "WARNING:tensorflow:Layer lstm will not use cuDNN kernels since it doesn't meet the criteria. It will use a generic GPU kernel as fallback when running on GPU.\n",
      "WARNING:tensorflow:Layer lstm_1 will not use cuDNN kernels since it doesn't meet the criteria. It will use a generic GPU kernel as fallback when running on GPU.\n",
      "WARNING:tensorflow:Layer lstm_1 will not use cuDNN kernels since it doesn't meet the criteria. It will use a generic GPU kernel as fallback when running on GPU.\n",
      "WARNING:tensorflow:Layer lstm_1 will not use cuDNN kernels since it doesn't meet the criteria. It will use a generic GPU kernel as fallback when running on GPU.\n",
      "WARNING:tensorflow:Layer lstm_2 will not use cuDNN kernels since it doesn't meet the criteria. It will use a generic GPU kernel as fallback when running on GPU.\n",
      "WARNING:tensorflow:Layer lstm_2 will not use cuDNN kernels since it doesn't meet the criteria. It will use a generic GPU kernel as fallback when running on GPU.\n",
      "WARNING:tensorflow:Layer lstm_2 will not use cuDNN kernels since it doesn't meet the criteria. It will use a generic GPU kernel as fallback when running on GPU.\n",
      "WARNING:tensorflow:Layer lstm_3 will not use cuDNN kernels since it doesn't meet the criteria. It will use a generic GPU kernel as fallback when running on GPU.\n",
      "WARNING:tensorflow:Layer lstm_3 will not use cuDNN kernels since it doesn't meet the criteria. It will use a generic GPU kernel as fallback when running on GPU.\n",
      "WARNING:tensorflow:Layer lstm_3 will not use cuDNN kernels since it doesn't meet the criteria. It will use a generic GPU kernel as fallback when running on GPU.\n"
     ]
    }
   ],
   "source": [
    "inputs = layers.Input(shape=(None,))\n",
    "x = layers.Embedding(VOCAB_SIZE, 64, mask_zero=True)(inputs)\n",
    "x = layers.Bidirectional(layers.LSTM(128, return_sequences=True, dropout=0.1, recurrent_dropout=0.1))(x)\n",
    "x = layers.Bidirectional(layers.LSTM(128, return_sequences=True, dropout=0.1, recurrent_dropout=0.1))(x)\n",
    "x = layers.Bidirectional(layers.LSTM(128, return_sequences=True, dropout=0.1, recurrent_dropout=0.1))(x)\n",
    "x = layers.Bidirectional(layers.LSTM(128, return_sequences=True, dropout=0.1, recurrent_dropout=0.1))(x)\n",
    "outputs = layers.TimeDistributed(layers.Dense(10))(x)\n",
    "\n",
    "model = keras.Model(inputs=inputs, outputs=outputs)"
   ]
  },
  {
   "cell_type": "code",
   "execution_count": 7,
   "id": "b500a5a8-9eeb-4719-bd2e-8d62dbae8e7f",
   "metadata": {},
   "outputs": [
    {
     "name": "stdout",
     "output_type": "stream",
     "text": [
      "Model: \"model\"\n",
      "_________________________________________________________________\n",
      " Layer (type)                Output Shape              Param #   \n",
      "=================================================================\n",
      " input_1 (InputLayer)        [(None, None)]            0         \n",
      "                                                                 \n",
      " embedding (Embedding)       (None, None, 64)          1280000   \n",
      "                                                                 \n",
      " bidirectional (Bidirectiona  (None, None, 256)        197632    \n",
      " l)                                                              \n",
      "                                                                 \n",
      " bidirectional_1 (Bidirectio  (None, None, 256)        394240    \n",
      " nal)                                                            \n",
      "                                                                 \n",
      " bidirectional_2 (Bidirectio  (None, None, 256)        394240    \n",
      " nal)                                                            \n",
      "                                                                 \n",
      " bidirectional_3 (Bidirectio  (None, None, 256)        394240    \n",
      " nal)                                                            \n",
      "                                                                 \n",
      " time_distributed (TimeDistr  (None, None, 10)         2570      \n",
      " ibuted)                                                         \n",
      "                                                                 \n",
      "=================================================================\n",
      "Total params: 2,662,922\n",
      "Trainable params: 2,662,922\n",
      "Non-trainable params: 0\n",
      "_________________________________________________________________\n"
     ]
    }
   ],
   "source": [
    "model.summary()"
   ]
  },
  {
   "cell_type": "code",
   "execution_count": 8,
   "id": "072ef561-d798-4656-b8d7-540422a6cb54",
   "metadata": {
    "tags": []
   },
   "outputs": [
    {
     "name": "stdout",
     "output_type": "stream",
     "text": [
      "Epoch 1/10\n",
      "220/220 [==============================] - 2015s 9s/step - loss: 0.3180 - sparse_categorical_accuracy: 0.8364 - val_loss: 0.2035 - val_sparse_categorical_accuracy: 0.8865\n",
      "Epoch 2/10\n",
      "220/220 [==============================] - 2329s 11s/step - loss: 0.1397 - sparse_categorical_accuracy: 0.8970 - val_loss: 0.1894 - val_sparse_categorical_accuracy: 0.8896\n",
      "Epoch 3/10\n",
      "220/220 [==============================] - 954s 4s/step - loss: 0.1125 - sparse_categorical_accuracy: 0.9148 - val_loss: 0.2163 - val_sparse_categorical_accuracy: 0.8820\n",
      "Epoch 4/10\n",
      "220/220 [==============================] - 940s 4s/step - loss: 0.0937 - sparse_categorical_accuracy: 0.9301 - val_loss: 0.2424 - val_sparse_categorical_accuracy: 0.8665\n",
      "Epoch 5/10\n",
      "220/220 [==============================] - 954s 4s/step - loss: 0.0780 - sparse_categorical_accuracy: 0.9430 - val_loss: 0.2604 - val_sparse_categorical_accuracy: 0.8610\n",
      "Epoch 6/10\n",
      "220/220 [==============================] - 983s 4s/step - loss: 0.0662 - sparse_categorical_accuracy: 0.9529 - val_loss: 0.2593 - val_sparse_categorical_accuracy: 0.8720\n",
      "Epoch 7/10\n",
      "220/220 [==============================] - 1010s 5s/step - loss: 0.0572 - sparse_categorical_accuracy: 0.9600 - val_loss: 0.2864 - val_sparse_categorical_accuracy: 0.8617\n",
      "Epoch 8/10\n",
      "220/220 [==============================] - 1022s 5s/step - loss: 0.0506 - sparse_categorical_accuracy: 0.9642 - val_loss: 0.2972 - val_sparse_categorical_accuracy: 0.8571\n",
      "Epoch 9/10\n",
      "220/220 [==============================] - 1026s 5s/step - loss: 0.0445 - sparse_categorical_accuracy: 0.9691 - val_loss: 0.3196 - val_sparse_categorical_accuracy: 0.8587\n",
      "Epoch 10/10\n",
      "220/220 [==============================] - 988s 4s/step - loss: 0.0399 - sparse_categorical_accuracy: 0.9725 - val_loss: 0.3542 - val_sparse_categorical_accuracy: 0.8500\n"
     ]
    }
   ],
   "source": [
    "model.compile(\n",
    "    optimizer=keras.optimizers.Adam(),\n",
    "    loss=SparseCategoricalCrossentropyIgnorePaddingLoss(from_logits=True),\n",
    "    metrics=[keras.metrics.SparseCategoricalAccuracy()]\n",
    ")\n",
    "\n",
    "history = model.fit(\n",
    "    x_train,\n",
    "    y_train,\n",
    "    epochs=10,\n",
    "    batch_size=64,\n",
    "    validation_data=(x_valid, y_valid)\n",
    ")"
   ]
  },
  {
   "cell_type": "code",
   "execution_count": 9,
   "id": "4a26f051-f359-48ec-8ef4-96af1672073f",
   "metadata": {
    "tags": []
   },
   "outputs": [
    {
     "data": {
      "image/png": "[encoded data removed]",
      "text/plain": [
       "<Figure size 864x432 with 1 Axes>"
      ]
     },
     "metadata": {
      "needs_background": "light"
     },
     "output_type": "display_data"
    }
   ],
   "source": [
    "fig, ax = plt.subplots(figsize=(12, 6), constrained_layout=True)\n",
    "ax.plot(history.history[\"loss\"], label=\"Loss\")\n",
    "ax.plot(history.history[\"val_loss\"], label=\"Validation Loss\")\n",
    "ax.set_xlabel(\"Epochs\", fontsize=14)\n",
    "ax.set_ylabel(\"Loss\", fontsize=14)\n",
    "ax.legend()\n",
    "plt.show()"
   ]
  },
  {
   "cell_type": "code",
   "execution_count": 10,
   "id": "6f883e12-d86c-4eac-ad22-93a643e550f5",
   "metadata": {
    "tags": []
   },
   "outputs": [
    {
     "data": {
      "image/png": "[encoded data removed]",
      "text/plain": [
       "<Figure size 864x432 with 1 Axes>"
      ]
     },
     "metadata": {
      "needs_background": "light"
     },
     "output_type": "display_data"
    }
   ],
   "source": [
    "fig, ax = plt.subplots(figsize=(12, 6), constrained_layout=True)\n",
    "ax.plot(history.history[\"sparse_categorical_accuracy\"], label=\"Accuracy\")\n",
    "ax.plot(history.history[\"val_sparse_categorical_accuracy\"], label=\"Validation Accuracy\")\n",
    "ax.set_xlabel(\"Epochs\")\n",
    "ax.set_ylabel(\"Accuracy\")\n",
    "ax.legend()\n",
    "plt.show()"
   ]
  },
  {
   "cell_type": "code",
   "execution_count": 11,
   "id": "a55a26ac-9de8-4ea8-88c0-045626a382c6",
   "metadata": {},
   "outputs": [
    {
     "name": "stdout",
     "output_type": "stream",
     "text": [
      "108/108 [==============================] - 28s 255ms/step - loss: 0.3397 - sparse_categorical_accuracy: 0.8328\n",
      "[0.33970823884010315, 0.8327686786651611]\n"
     ]
    }
   ],
   "source": [
    "results = model.evaluate(x_test, y_test)\n",
    "print(results)"
   ]
  },
  {
   "cell_type": "code",
   "execution_count": 12,
   "id": "6e70cdde-dedf-4452-b1ff-b08566842275",
   "metadata": {},
   "outputs": [
    {
     "ename": "NameError",
     "evalue": "name 'bert_preprocessor_url' is not defined",
     "output_type": "error",
     "traceback": [
      "\u001b[1;31m---------------------------------------------------------------------------\u001b[0m",
      "\u001b[1;31mNameError\u001b[0m                                 Traceback (most recent call last)",
      "Input \u001b[1;32mIn [12]\u001b[0m, in \u001b[0;36m<cell line: 4>\u001b[1;34m()\u001b[0m\n\u001b[0;32m      1\u001b[0m bert_model_url \u001b[38;5;241m=\u001b[39m \u001b[38;5;124m\"\u001b[39m\u001b[38;5;124mhttps://tfhub.dev/tensorflow/small_bert/bert_en_uncased_L-4_H-512_A-8/1\u001b[39m\u001b[38;5;124m\"\u001b[39m\n\u001b[0;32m      2\u001b[0m bert_preprocess_url \u001b[38;5;241m=\u001b[39m \u001b[38;5;124m\"\u001b[39m\u001b[38;5;124mhttps://tfhub.dev/tensorflow/bert_en_uncased_preprocess/3\u001b[39m\u001b[38;5;124m\"\u001b[39m\n\u001b[1;32m----> 4\u001b[0m bert_preprocess_model \u001b[38;5;241m=\u001b[39m hub\u001b[38;5;241m.\u001b[39mKerasLayer(\u001b[43mbert_preprocessor_url\u001b[49m)\n",
      "\u001b[1;31mNameError\u001b[0m: name 'bert_preprocessor_url' is not defined"
     ]
    }
   ],
   "source": [
    "bert_model_url = \"https://tfhub.dev/tensorflow/small_bert/bert_en_uncased_L-4_H-512_A-8/1\"\n",
    "bert_preprocess_url = \"https://tfhub.dev/tensorflow/bert_en_uncased_preprocess/3\"\n",
    "\n",
    "bert_preprocess_model = hub.KerasLayer(bert_preprocessor_url)"
   ]
  },
  {
   "cell_type": "code",
   "execution_count": null,
   "id": "096ccba5-6d45-4d92-b1a8-f7a899c5a7e4",
   "metadata": {},
   "outputs": [],
   "source": [
    "text_test = ['this is such an amazing movie!']\n",
    "text_preprocessed = bert_preprocess_model(text_test)\n",
    "\n",
    "print(f'Keys       : {list(text_preprocessed.keys())}')\n",
    "print(f'Shape      : {text_preprocessed[\"input_word_ids\"].shape}')\n",
    "print(f'Word Ids   : {text_preprocessed[\"input_word_ids\"][0, :12]}')\n",
    "print(f'Input Mask : {text_preprocessed[\"input_mask\"][0, :12]}')\n",
    "print(f'Type Ids   : {text_preprocessed[\"input_type_ids\"][0, :12]}')"
   ]
  },
  {
   "cell_type": "code",
   "execution_count": null,
   "id": "8af11902-f0e9-4f18-a14c-d817acff7ca2",
   "metadata": {},
   "outputs": [],
   "source": [
    "text_preprocessed = hub.KerasLayer(bert_model_url)"
   ]
  },
  {
   "cell_type": "code",
   "execution_count": null,
   "id": "2bb06011-51ef-4767-bb2f-2c9c5be91126",
   "metadata": {},
   "outputs": [],
   "source": [
    "bert_results = bert_model(text_preprocessed)\n",
    "\n",
    "print(f'Loaded BERT: {bert_model_url}')\n",
    "print(f'Pooled Outputs Shape:{bert_results[\"pooled_output\"].shape}')\n",
    "print(f'Pooled Outputs Values:{bert_results[\"pooled_output\"][0, :12]}')\n",
    "print(f'Sequence Outputs Shape:{bert_results[\"sequence_output\"].shape}')\n",
    "print(f'Sequence Outputs Values:{bert_results[\"sequence_output\"][0, :12]}')"
   ]
  },
  {
   "cell_type": "code",
   "execution_count": null,
   "id": "9fa8842d-47df-44c3-a71d-8ed56dc7e4a8",
   "metadata": {},
   "outputs": [],
   "source": [
    "bert_results.keys()"
   ]
  },
  {
   "cell_type": "code",
   "execution_count": null,
   "id": "5a13ce74-d39c-4e44-a336-b1ec285ab633",
   "metadata": {},
   "outputs": [],
   "source": [
    "text_input = layers.Input(shape=(), dtype=tf.string, name=\"text\")\n",
    "preprocessing_layer = hub.KerasLayer(bert_preprocess_url, name=\"preprocessing\")\n",
    "encoder_inputs = preprocessing_layer(text_input)\n",
    "encoder = hub.KerasLayer(bert_model_url, trainable=True, name=\"BERT_encoder\")\n",
    "outputs = encoder(encoder_inputs)\n",
    "net = outputs[\"pooled_output\"]\n",
    "net = layers.Dropout(0.1)(net)\n",
    "net = layers.Dense(1, activation=None, name=\"classifier\")(net)"
   ]
  },
  {
   "cell_type": "code",
   "execution_count": null,
   "id": "b6840497-7a55-4159-bcdc-623fe424f36c",
   "metadata": {},
   "outputs": [],
   "source": [
    "text_input = layers.Input(shape=(), dtype=tf.string, name=\"text\")\n",
    "preprocessing_layer = hub.KerasLayer(bert_preprocess_url, name=\"preprocessing\")\n",
    "encoder_inputs = preprocessing_layer(text_input)\n",
    "encoder = hub.KerasLayer(bert_model_url, trainable=True, name=\"BERT_encoder\")\n",
    "outputs = encoder(encoder_inputs)\n",
    "net = outputs[\"sequence_output\"]\n",
    "# net = layers.Dropout(0.1)(net)\n",
    "net = layers.TimeDistributed(layers.Dense(10, name=\"classifier\"))(net)\n",
    "model = keras.Model(inputs=text_input, outputs=net)"
   ]
  },
  {
   "cell_type": "code",
   "execution_count": null,
   "id": "d670c212-6a29-4327-b864-f9c2c6f614cc",
   "metadata": {},
   "outputs": [],
   "source": [
    "model.summary()"
   ]
  },
  {
   "cell_type": "code",
   "execution_count": null,
   "id": "6f891324-9553-4253-83f0-4f745399f367",
   "metadata": {},
   "outputs": [],
   "source": [
    "train_data.keys()"
   ]
  },
  {
   "cell_type": "code",
   "execution_count": null,
   "id": "ef6cf2f1-2747-4de3-95e3-c1884ed578e3",
   "metadata": {},
   "outputs": [],
   "source": [
    "pooled_output = outputs[\"pooled_output\"]      # [batch_size, 512].\n",
    "sequence_output = outputs[\"sequence_output\"]  # [batch_size, seq_length, 512]."
   ]
  }
 ],
 "metadata": {
  "kernelspec": {
   "display_name": "licenta",
   "language": "python",
   "name": "licenta"
  },
  "language_info": {
   "codemirror_mode": {
    "name": "ipython",
    "version": 3
   },
   "file_extension": ".py",
   "mimetype": "text/x-python",
   "name": "python",
   "nbconvert_exporter": "python",
   "pygments_lexer": "ipython3",
   "version": "3.8.13"
  }
 },
 "nbformat": 4,
 "nbformat_minor": 5
}
