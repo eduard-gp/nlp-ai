{
 "cells": [
  {
   "cell_type": "code",
   "execution_count": 12,
   "id": "1d432c2e-5ae8-440b-af60-e654b936db5a",
   "metadata": {},
   "outputs": [],
   "source": [
    "import os\n",
    "import string\n",
    "import numpy as np\n",
    "import shutil\n",
    "import pandas as pd\n",
    "import matplotlib.pyplot as plt\n",
    "import preprocess_utils as prep\n",
    "\n",
    "\n",
    "import tensorflow as tf\n",
    "from tensorflow import keras\n",
    "from tensorflow.keras import layers\n",
    "import tensorflow_hub as hub\n",
    "import tensorflow_text as tftext"
   ]
  },
  {
   "cell_type": "code",
   "execution_count": 2,
   "id": "7d420dd0-fc47-425e-9d69-728849089066",
   "metadata": {},
   "outputs": [],
   "source": [
    "VOCAB_SIZE = 20_000\n",
    "MAX_SEQUENCE_LENGTH = 50"
   ]
  },
  {
   "cell_type": "code",
   "execution_count": 3,
   "id": "02499c0a-84e2-43ce-9ee5-bcd4fed964c3",
   "metadata": {},
   "outputs": [],
   "source": [
    "dir_path = \"conll2003_data\"\n",
    "\n",
    "train_data = prep.read_iob_file(os.path.join(dir_path, \"train.txt\"))\n",
    "valid_data = prep.read_iob_file(os.path.join(dir_path, \"valid.txt\"))\n",
    "test_data = prep.read_iob_file(os.path.join(dir_path, \"test.txt\"))\n",
    "\n",
    "x_train, vocab = prep.preprocess_tokens(train_data[\"tokens\"], VOCAB_SIZE, MAX_SEQUENCE_LENGTH)\n",
    "y_train, class_names = prep.preprocess_entity_tags(train_data[\"entity_tags\"], MAX_SEQUENCE_LENGTH)\n",
    "\n",
    "x_valid, _ = prep.preprocess_tokens(valid_data[\"tokens\"], VOCAB_SIZE, MAX_SEQUENCE_LENGTH)\n",
    "y_valid, _ = prep.preprocess_entity_tags(valid_data[\"entity_tags\"], MAX_SEQUENCE_LENGTH)\n",
    "\n",
    "x_test, _ = prep.preprocess_tokens(test_data[\"tokens\"], VOCAB_SIZE, MAX_SEQUENCE_LENGTH)\n",
    "y_test, _ = prep.preprocess_entity_tags(test_data[\"entity_tags\"], MAX_SEQUENCE_LENGTH)"
   ]
  },
  {
   "cell_type": "code",
   "execution_count": 4,
   "id": "0362af88-c2cf-49ce-bf87-beb7cd2e66e6",
   "metadata": {},
   "outputs": [
    {
     "name": "stdout",
     "output_type": "stream",
     "text": [
      "Train examples:      14018, vocabulary length: 19998, classes: 9\n",
      "Validation examples: 3242\n",
      "Test examples:       3450\n"
     ]
    }
   ],
   "source": [
    "print(f\"Train examples:      {x_train.shape[0]}, vocabulary length: {len(vocab)}, classes: {len(class_names)}\")\n",
    "print(f\"Validation examples: {x_valid.shape[0]}\")\n",
    "print(f\"Test examples:       {x_test.shape[0]}\")"
   ]
  },
  {
   "cell_type": "code",
   "execution_count": 5,
   "id": "660d4cc4-8c5b-48f4-8035-109650f19be9",
   "metadata": {},
   "outputs": [],
   "source": [
    "class SparseCategoricalCrossentropyIgnorePaddingLoss(keras.losses.Loss):\n",
    "    def __init__(self, from_logits=False, **kwargs):\n",
    "        super().__init__(**kwargs)\n",
    "        self.loss_fn = keras.losses.SparseCategoricalCrossentropy(\n",
    "            from_logits=from_logits,\n",
    "            reduction=keras.losses.Reduction.NONE\n",
    "        )\n",
    "    \n",
    "    def call(self, y_true, y_pred):\n",
    "        loss = self.loss_fn(y_true, y_pred)\n",
    "        mask = tf.cast((y_true > 0), dtype=tf.dtypes.float32)\n",
    "        loss = loss * mask\n",
    "        return tf.reduce_sum(loss) / tf.reduce_sum(mask)\n",
    "        \n",
    "        "
   ]
  },
  {
   "cell_type": "code",
   "execution_count": 6,
   "id": "853d65dd-2aa0-4c8a-9ece-7dce9aad58e4",
   "metadata": {},
   "outputs": [],
   "source": [
    "inputs = layers.Input(shape=(None,))\n",
    "x = layers.Embedding(VOCAB_SIZE, 64, mask_zero=True)(inputs)\n",
    "x = layers.Bidirectional(layers.LSTM(128, return_sequences=True, dropout=0.1, recurrent_dropout=0.1))(x)\n",
    "x = layers.Bidirectional(layers.LSTM(128, return_sequences=True, dropout=0.1, recurrent_dropout=0.1))(x)\n",
    "x = layers.Bidirectional(layers.LSTM(128, return_sequences=True, dropout=0.1, recurrent_dropout=0.1))(x)\n",
    "x = layers.Bidirectional(layers.LSTM(128, return_sequences=True, dropout=0.1, recurrent_dropout=0.1))(x)\n",
    "outputs = layers.TimeDistributed(layers.Dense(10))(x)\n",
    "\n",
    "model = keras.Model(inputs=inputs, outputs=outputs)"
   ]
  },
  {
   "cell_type": "code",
   "execution_count": 14,
   "id": "b500a5a8-9eeb-4719-bd2e-8d62dbae8e7f",
   "metadata": {},
   "outputs": [
    {
     "name": "stdout",
     "output_type": "stream",
     "text": [
      "Model: \"model_1\"\n",
      "_________________________________________________________________\n",
      " Layer (type)                Output Shape              Param #   \n",
      "=================================================================\n",
      " input_3 (InputLayer)        [(None, None)]            0         \n",
      "                                                                 \n",
      " embedding_2 (Embedding)     (None, None, 64)          1280000   \n",
      "                                                                 \n",
      " bidirectional_4 (Bidirectio  (None, None, 256)        197632    \n",
      " nal)                                                            \n",
      "                                                                 \n",
      " bidirectional_5 (Bidirectio  (None, None, 256)        394240    \n",
      " nal)                                                            \n",
      "                                                                 \n",
      " bidirectional_6 (Bidirectio  (None, None, 256)        394240    \n",
      " nal)                                                            \n",
      "                                                                 \n",
      " bidirectional_7 (Bidirectio  (None, None, 256)        394240    \n",
      " nal)                                                            \n",
      "                                                                 \n",
      " time_distributed_1 (TimeDis  (None, None, 10)         2570      \n",
      " tributed)                                                       \n",
      "                                                                 \n",
      "=================================================================\n",
      "Total params: 2,662,922\n",
      "Trainable params: 2,662,922\n",
      "Non-trainable params: 0\n",
      "_________________________________________________________________\n"
     ]
    }
   ],
   "source": [
    "model.summary()"
   ]
  },
  {
   "cell_type": "code",
   "execution_count": 15,
   "id": "072ef561-d798-4656-b8d7-540422a6cb54",
   "metadata": {
    "tags": []
   },
   "outputs": [
    {
     "name": "stdout",
     "output_type": "stream",
     "text": [
      "Epoch 1/10\n",
      "220/220 [==============================] - 1274s 6s/step - loss: 0.2063 - sparse_categorical_accuracy: 0.8070 - val_loss: 0.2960 - val_sparse_categorical_accuracy: 0.7813\n",
      "Epoch 2/10\n",
      "220/220 [==============================] - 1314s 6s/step - loss: 0.0987 - sparse_categorical_accuracy: 0.8725 - val_loss: 0.4735 - val_sparse_categorical_accuracy: 0.7208\n",
      "Epoch 3/10\n",
      "220/220 [==============================] - 1461s 7s/step - loss: 0.0559 - sparse_categorical_accuracy: 0.9277 - val_loss: 0.5465 - val_sparse_categorical_accuracy: 0.7189\n",
      "Epoch 4/10\n",
      "220/220 [==============================] - 1479s 7s/step - loss: 0.0380 - sparse_categorical_accuracy: 0.9517 - val_loss: 0.5676 - val_sparse_categorical_accuracy: 0.7053\n",
      "Epoch 5/10\n",
      "220/220 [==============================] - 1500s 7s/step - loss: 0.0278 - sparse_categorical_accuracy: 0.9667 - val_loss: 0.5811 - val_sparse_categorical_accuracy: 0.7066\n",
      "Epoch 6/10\n",
      "220/220 [==============================] - 1480s 7s/step - loss: 0.0202 - sparse_categorical_accuracy: 0.9763 - val_loss: 0.6132 - val_sparse_categorical_accuracy: 0.7040\n",
      "Epoch 7/10\n",
      "220/220 [==============================] - 1450s 7s/step - loss: 0.0150 - sparse_categorical_accuracy: 0.9828 - val_loss: 0.6135 - val_sparse_categorical_accuracy: 0.7076\n",
      "Epoch 8/10\n",
      "220/220 [==============================] - 1541s 7s/step - loss: 0.0126 - sparse_categorical_accuracy: 0.9852 - val_loss: 0.6254 - val_sparse_categorical_accuracy: 0.7068\n",
      "Epoch 9/10\n",
      "220/220 [==============================] - 1489s 7s/step - loss: 0.0104 - sparse_categorical_accuracy: 0.9879 - val_loss: 0.6493 - val_sparse_categorical_accuracy: 0.7076\n",
      "Epoch 10/10\n",
      "220/220 [==============================] - 1599s 7s/step - loss: 0.0083 - sparse_categorical_accuracy: 0.9906 - val_loss: 0.6548 - val_sparse_categorical_accuracy: 0.6955\n"
     ]
    }
   ],
   "source": [
    "model.compile(\n",
    "    optimizer=keras.optimizers.Adam(),\n",
    "    loss=SparseCategoricalCrossentropyIgnorePaddingLoss(from_logits=True),\n",
    "    metrics=[keras.metrics.SparseCategoricalAccuracy()]\n",
    ")\n",
    "\n",
    "history = model.fit(\n",
    "    x_train,\n",
    "    y_train,\n",
    "    epochs=10,\n",
    "    batch_size=64,\n",
    "    validation_data=(x_valid, y_valid)\n",
    ")"
   ]
  },
  {
   "cell_type": "code",
   "execution_count": 16,
   "id": "4a26f051-f359-48ec-8ef4-96af1672073f",
   "metadata": {
    "tags": []
   },
   "outputs": [
    {
     "data": {
      "image/png": "[encoded data removed]",
      "text/plain": [
       "<Figure size 864x432 with 1 Axes>"
      ]
     },
     "metadata": {
      "needs_background": "light"
     },
     "output_type": "display_data"
    }
   ],
   "source": [
    "fig, ax = plt.subplots(figsize=(12, 6), constrained_layout=True)\n",
    "ax.plot(history.history[\"loss\"], label=\"Loss\")\n",
    "ax.plot(history.history[\"val_loss\"], label=\"Validation Loss\")\n",
    "ax.set_xlabel(\"Epochs\", fontsize=14)\n",
    "ax.set_ylabel(\"Loss\", fontsize=14)\n",
    "ax.legend()\n",
    "plt.show()"
   ]
  },
  {
   "cell_type": "code",
   "execution_count": 17,
   "id": "6f883e12-d86c-4eac-ad22-93a643e550f5",
   "metadata": {
    "tags": []
   },
   "outputs": [
    {
     "data": {
      "image/png": "[encoded data removed]",
      "text/plain": [
       "<Figure size 864x432 with 1 Axes>"
      ]
     },
     "metadata": {
      "needs_background": "light"
     },
     "output_type": "display_data"
    }
   ],
   "source": [
    "fig, ax = plt.subplots(figsize=(12, 6), constrained_layout=True)\n",
    "ax.plot(history.history[\"sparse_categorical_accuracy\"], label=\"Accuracy\")\n",
    "ax.plot(history.history[\"val_sparse_categorical_accuracy\"], label=\"Validation Accuracy\")\n",
    "ax.set_xlabel(\"Epochs\")\n",
    "ax.set_ylabel(\"Accuracy\")\n",
    "ax.legend()\n",
    "plt.show()"
   ]
  },
  {
   "cell_type": "code",
   "execution_count": 18,
   "id": "a55a26ac-9de8-4ea8-88c0-045626a382c6",
   "metadata": {},
   "outputs": [
    {
     "name": "stdout",
     "output_type": "stream",
     "text": [
      "108/108 [==============================] - 65s 599ms/step - loss: 0.5592 - sparse_categorical_accuracy: 0.6909\n",
      "[0.5592381954193115, 0.6908696889877319]\n"
     ]
    }
   ],
   "source": [
    "results = model.evaluate(x_test, y_test)\n",
    "print(results)"
   ]
  },
  {
   "cell_type": "code",
   "execution_count": 18,
   "id": "6e70cdde-dedf-4452-b1ff-b08566842275",
   "metadata": {},
   "outputs": [],
   "source": [
    "bert_model_url = \"https://tfhub.dev/tensorflow/small_bert/bert_en_uncased_L-4_H-512_A-8/1\"\n",
    "bert_preprocess_url = \"https://tfhub.dev/tensorflow/bert_en_uncased_preprocess/3\"\n",
    "\n",
    "bert_preprocess_model = hub.KerasLayer(bert_preprocessor_url)"
   ]
  },
  {
   "cell_type": "code",
   "execution_count": 34,
   "id": "096ccba5-6d45-4d92-b1a8-f7a899c5a7e4",
   "metadata": {},
   "outputs": [
    {
     "name": "stdout",
     "output_type": "stream",
     "text": [
      "Keys       : ['input_mask', 'input_word_ids', 'input_type_ids']\n",
      "Shape      : (1, 128)\n",
      "Word Ids   : [ 101 2023 2003 2107 2019 6429 3185  999  102    0    0    0]\n",
      "Input Mask : [1 1 1 1 1 1 1 1 1 0 0 0]\n",
      "Type Ids   : [0 0 0 0 0 0 0 0 0 0 0 0]\n"
     ]
    }
   ],
   "source": [
    "text_test = ['this is such an amazing movie!']\n",
    "text_preprocessed = bert_preprocess_model(text_test)\n",
    "\n",
    "print(f'Keys       : {list(text_preprocessed.keys())}')\n",
    "print(f'Shape      : {text_preprocessed[\"input_word_ids\"].shape}')\n",
    "print(f'Word Ids   : {text_preprocessed[\"input_word_ids\"][0, :12]}')\n",
    "print(f'Input Mask : {text_preprocessed[\"input_mask\"][0, :12]}')\n",
    "print(f'Type Ids   : {text_preprocessed[\"input_type_ids\"][0, :12]}')"
   ]
  },
  {
   "cell_type": "code",
   "execution_count": 33,
   "id": "8af11902-f0e9-4f18-a14c-d817acff7ca2",
   "metadata": {},
   "outputs": [],
   "source": [
    "text_preprocessed = hub.KerasLayer(bert_model_url)"
   ]
  },
  {
   "cell_type": "code",
   "execution_count": 35,
   "id": "2bb06011-51ef-4767-bb2f-2c9c5be91126",
   "metadata": {},
   "outputs": [
    {
     "name": "stdout",
     "output_type": "stream",
     "text": [
      "Loaded BERT: https://tfhub.dev/tensorflow/small_bert/bert_en_uncased_L-4_H-512_A-8/1\n",
      "Pooled Outputs Shape:(1, 512)\n",
      "Pooled Outputs Values:[ 0.76262873  0.9928099  -0.18611842  0.36673835  0.15233713  0.6550445\n",
      "  0.9681154  -0.94862705  0.00216199 -0.9877732   0.06842697 -0.97630596]\n",
      "Sequence Outputs Shape:(1, 128, 512)\n",
      "Sequence Outputs Values:[[-0.28946307  0.3432126   0.33231524 ...  0.21300834  0.71020776\n",
      "  -0.05771159]\n",
      " [-0.28742072  0.31980997 -0.23018596 ...  0.5845511  -0.21329741\n",
      "   0.7269215 ]\n",
      " [-0.66157013  0.6887673  -0.8743302  ...  0.10877225 -0.26173237\n",
      "   0.47855318]\n",
      " ...\n",
      " [-0.22561178 -0.2892561  -0.07064433 ...  0.4756602   0.83277094\n",
      "   0.4002539 ]\n",
      " [-0.29824233 -0.27473113 -0.05450515 ...  0.48849773  1.0955355\n",
      "   0.18163365]\n",
      " [-0.4437818   0.00930784  0.07223748 ...  0.17290097  1.183325\n",
      "   0.07897963]]\n"
     ]
    }
   ],
   "source": [
    "bert_results = bert_model(text_preprocessed)\n",
    "\n",
    "print(f'Loaded BERT: {bert_model_url}')\n",
    "print(f'Pooled Outputs Shape:{bert_results[\"pooled_output\"].shape}')\n",
    "print(f'Pooled Outputs Values:{bert_results[\"pooled_output\"][0, :12]}')\n",
    "print(f'Sequence Outputs Shape:{bert_results[\"sequence_output\"].shape}')\n",
    "print(f'Sequence Outputs Values:{bert_results[\"sequence_output\"][0, :12]}')"
   ]
  },
  {
   "cell_type": "code",
   "execution_count": 24,
   "id": "9fa8842d-47df-44c3-a71d-8ed56dc7e4a8",
   "metadata": {},
   "outputs": [
    {
     "data": {
      "text/plain": [
       "dict_keys(['pooled_output', 'encoder_outputs', 'sequence_output', 'default'])"
      ]
     },
     "execution_count": 24,
     "metadata": {},
     "output_type": "execute_result"
    }
   ],
   "source": [
    "bert_results.keys()"
   ]
  },
  {
   "cell_type": "code",
   "execution_count": 25,
   "id": "5a13ce74-d39c-4e44-a336-b1ec285ab633",
   "metadata": {},
   "outputs": [],
   "source": [
    "text_input = layers.Input(shape=(), dtype=tf.string, name=\"text\")\n",
    "preprocessing_layer = hub.KerasLayer(bert_preprocess_url, name=\"preprocessing\")\n",
    "encoder_inputs = preprocessing_layer(text_input)\n",
    "encoder = hub.KerasLayer(bert_model_url, trainable=True, name=\"BERT_encoder\")\n",
    "outputs = encoder(encoder_inputs)\n",
    "net = outputs[\"pooled_output\"]\n",
    "net = layers.Dropout(0.1)(net)\n",
    "net = layers.Dense(1, activation=None, name=\"classifier\")(net)"
   ]
  },
  {
   "cell_type": "code",
   "execution_count": 28,
   "id": "b6840497-7a55-4159-bcdc-623fe424f36c",
   "metadata": {},
   "outputs": [],
   "source": [
    "text_input = layers.Input(shape=(), dtype=tf.string, name=\"text\")\n",
    "preprocessing_layer = hub.KerasLayer(bert_preprocess_url, name=\"preprocessing\")\n",
    "encoder_inputs = preprocessing_layer(text_input)\n",
    "encoder = hub.KerasLayer(bert_model_url, trainable=True, name=\"BERT_encoder\")\n",
    "outputs = encoder(encoder_inputs)\n",
    "net = outputs[\"sequence_output\"]\n",
    "# net = layers.Dropout(0.1)(net)\n",
    "net = layers.TimeDistributed(layers.Dense(10, name=\"classifier\"))(net)\n",
    "model = keras.Model(inputs=text_input, outputs=net)"
   ]
  },
  {
   "cell_type": "code",
   "execution_count": 29,
   "id": "d670c212-6a29-4327-b864-f9c2c6f614cc",
   "metadata": {},
   "outputs": [
    {
     "name": "stdout",
     "output_type": "stream",
     "text": [
      "Model: \"model_1\"\n",
      "__________________________________________________________________________________________________\n",
      " Layer (type)                   Output Shape         Param #     Connected to                     \n",
      "==================================================================================================\n",
      " text (InputLayer)              [(None,)]            0           []                               \n",
      "                                                                                                  \n",
      " preprocessing (KerasLayer)     {'input_word_ids':   0           ['text[0][0]']                   \n",
      "                                (None, 128),                                                      \n",
      "                                 'input_type_ids':                                                \n",
      "                                (None, 128),                                                      \n",
      "                                 'input_mask': (Non                                               \n",
      "                                e, 128)}                                                          \n",
      "                                                                                                  \n",
      " BERT_encoder (KerasLayer)      {'sequence_output':  28763649    ['preprocessing[0][0]',          \n",
      "                                 (None, 128, 512),                'preprocessing[0][1]',          \n",
      "                                 'encoder_outputs':               'preprocessing[0][2]']          \n",
      "                                 [(None, 128, 512),                                               \n",
      "                                 (None, 128, 512),                                                \n",
      "                                 (None, 128, 512),                                                \n",
      "                                 (None, 128, 512)],                                               \n",
      "                                 'default': (None,                                                \n",
      "                                512),                                                             \n",
      "                                 'pooled_output': (                                               \n",
      "                                None, 512)}                                                       \n",
      "                                                                                                  \n",
      " time_distributed_1 (TimeDistri  (None, 128, 10)     5130        ['BERT_encoder[0][6]']           \n",
      " buted)                                                                                           \n",
      "                                                                                                  \n",
      "==================================================================================================\n",
      "Total params: 28,768,779\n",
      "Trainable params: 28,768,778\n",
      "Non-trainable params: 1\n",
      "__________________________________________________________________________________________________\n"
     ]
    }
   ],
   "source": [
    "model.summary()"
   ]
  },
  {
   "cell_type": "code",
   "execution_count": 30,
   "id": "6f891324-9553-4253-83f0-4f745399f367",
   "metadata": {},
   "outputs": [
    {
     "data": {
      "text/plain": [
       "dict_keys(['tokens', 'pos_tags', 'chunk_tags', 'entity_tags'])"
      ]
     },
     "execution_count": 30,
     "metadata": {},
     "output_type": "execute_result"
    }
   ],
   "source": [
    "train_data.keys()"
   ]
  },
  {
   "cell_type": "code",
   "execution_count": null,
   "id": "ef6cf2f1-2747-4de3-95e3-c1884ed578e3",
   "metadata": {},
   "outputs": [],
   "source": [
    "pooled_output = outputs[\"pooled_output\"]      # [batch_size, 512].\n",
    "sequence_output = outputs[\"sequence_output\"]  # [batch_size, seq_length, 512]."
   ]
  }
 ],
 "metadata": {
  "kernelspec": {
   "display_name": "licenta",
   "language": "python",
   "name": "licenta"
  },
  "language_info": {
   "codemirror_mode": {
    "name": "ipython",
    "version": 3
   },
   "file_extension": ".py",
   "mimetype": "text/x-python",
   "name": "python",
   "nbconvert_exporter": "python",
   "pygments_lexer": "ipython3",
   "version": "3.8.13"
  }
 },
 "nbformat": 4,
 "nbformat_minor": 5
}
