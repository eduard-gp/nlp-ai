{
 "cells": [
  {
   "cell_type": "code",
   "execution_count": 48,
   "id": "bc655c6a-04db-4518-beae-2834666330ce",
   "metadata": {},
   "outputs": [],
   "source": [
    "import tensorflow as tf\n",
    "import tensorflow_hub as hub\n",
    "import tensorflow_text as text\n",
    "import numpy as np\n",
    "import pandas as pd\n",
    "import matplotlib.pyplot as plt\n",
    "import json\n",
    "import os\n",
    "from sklearn.metrics import precision_score, accuracy_score, recall_score, f1_score, confusion_matrix\n",
    "import seaborn as sns"
   ]
  },
  {
   "cell_type": "code",
   "execution_count": 49,
   "id": "adadda7b-f501-4580-bf08-ec53f1a7d960",
   "metadata": {},
   "outputs": [
    {
     "name": "stdout",
     "output_type": "stream",
     "text": [
      "Tensorflow version:  2.9.1\n",
      "[PhysicalDevice(name='/physical_device:GPU:0', device_type='GPU')]\n"
     ]
    }
   ],
   "source": [
    "print(\"Tensorflow version: \", tf.__version__)\n",
    "print(tf.config.list_physical_devices(\"GPU\"))"
   ]
  },
  {
   "cell_type": "code",
   "execution_count": 50,
   "id": "d9378bca-5a2b-4ef4-a9f6-119bdc627dc6",
   "metadata": {},
   "outputs": [
    {
     "data": {
      "text/html": [
       "<div>\n",
       "<style scoped>\n",
       "    .dataframe tbody tr th:only-of-type {\n",
       "        vertical-align: middle;\n",
       "    }\n",
       "\n",
       "    .dataframe tbody tr th {\n",
       "        vertical-align: top;\n",
       "    }\n",
       "\n",
       "    .dataframe thead th {\n",
       "        text-align: right;\n",
       "    }\n",
       "</style>\n",
       "<table border=\"1\" class=\"dataframe\">\n",
       "  <thead>\n",
       "    <tr style=\"text-align: right;\">\n",
       "      <th></th>\n",
       "      <th>text</th>\n",
       "      <th>label</th>\n",
       "    </tr>\n",
       "  </thead>\n",
       "  <tbody>\n",
       "    <tr>\n",
       "      <th>0</th>\n",
       "      <td>Did a pain in the center of the chest ever occ...</td>\n",
       "      <td>chest_pain</td>\n",
       "    </tr>\n",
       "    <tr>\n",
       "      <th>1</th>\n",
       "      <td>Did those symptoms changes?</td>\n",
       "      <td>symptoms_changes</td>\n",
       "    </tr>\n",
       "    <tr>\n",
       "      <th>2</th>\n",
       "      <td>Did you experienced fainting?</td>\n",
       "      <td>fainting_symptoms</td>\n",
       "    </tr>\n",
       "    <tr>\n",
       "      <th>3</th>\n",
       "      <td>Did you faint?</td>\n",
       "      <td>fainting_symptoms</td>\n",
       "    </tr>\n",
       "    <tr>\n",
       "      <th>4</th>\n",
       "      <td>Did you had a cough with sputum?</td>\n",
       "      <td>cough_symptoms</td>\n",
       "    </tr>\n",
       "    <tr>\n",
       "      <th>...</th>\n",
       "      <td>...</td>\n",
       "      <td>...</td>\n",
       "    </tr>\n",
       "    <tr>\n",
       "      <th>71</th>\n",
       "      <td>visit reason</td>\n",
       "      <td>visit_reason</td>\n",
       "    </tr>\n",
       "    <tr>\n",
       "      <th>72</th>\n",
       "      <td>visit reason?</td>\n",
       "      <td>visit_reason</td>\n",
       "    </tr>\n",
       "    <tr>\n",
       "      <th>73</th>\n",
       "      <td>when did the symptoms start</td>\n",
       "      <td>symptoms_start</td>\n",
       "    </tr>\n",
       "    <tr>\n",
       "      <th>74</th>\n",
       "      <td>why are you in the hospital?</td>\n",
       "      <td>visit_reason</td>\n",
       "    </tr>\n",
       "    <tr>\n",
       "      <th>75</th>\n",
       "      <td>why are you visiting us?</td>\n",
       "      <td>visit_reason</td>\n",
       "    </tr>\n",
       "  </tbody>\n",
       "</table>\n",
       "<p>76 rows × 2 columns</p>\n",
       "</div>"
      ],
      "text/plain": [
       "                                                 text              label\n",
       "0   Did a pain in the center of the chest ever occ...         chest_pain\n",
       "1                         Did those symptoms changes?   symptoms_changes\n",
       "2                       Did you experienced fainting?  fainting_symptoms\n",
       "3                                      Did you faint?  fainting_symptoms\n",
       "4                    Did you had a cough with sputum?     cough_symptoms\n",
       "..                                                ...                ...\n",
       "71                                       visit reason       visit_reason\n",
       "72                                      visit reason?       visit_reason\n",
       "73                        when did the symptoms start     symptoms_start\n",
       "74                       why are you in the hospital?       visit_reason\n",
       "75                           why are you visiting us?       visit_reason\n",
       "\n",
       "[76 rows x 2 columns]"
      ]
     },
     "execution_count": 50,
     "metadata": {},
     "output_type": "execute_result"
    }
   ],
   "source": [
    "dir_path = os.path.join(\"database\", \"text_classification\")\n",
    "\n",
    "with open (os.path.join(dir_path, \"en.json\")) as f:\n",
    "    data = json.load(f)\n",
    "    df = pd.DataFrame(data)\n",
    "\n",
    "df"
   ]
  },
  {
   "cell_type": "code",
   "execution_count": 51,
   "id": "0f755ece-5987-446e-a953-b1230e3be5cb",
   "metadata": {},
   "outputs": [
    {
     "data": {
      "text/html": [
       "<div>\n",
       "<style scoped>\n",
       "    .dataframe tbody tr th:only-of-type {\n",
       "        vertical-align: middle;\n",
       "    }\n",
       "\n",
       "    .dataframe tbody tr th {\n",
       "        vertical-align: top;\n",
       "    }\n",
       "\n",
       "    .dataframe thead th {\n",
       "        text-align: right;\n",
       "    }\n",
       "</style>\n",
       "<table border=\"1\" class=\"dataframe\">\n",
       "  <thead>\n",
       "    <tr style=\"text-align: right;\">\n",
       "      <th></th>\n",
       "      <th>text</th>\n",
       "      <th>label</th>\n",
       "    </tr>\n",
       "  </thead>\n",
       "  <tbody>\n",
       "    <tr>\n",
       "      <th>0</th>\n",
       "      <td>Did a pain in the center of the chest ever occ...</td>\n",
       "      <td>chest_pain</td>\n",
       "    </tr>\n",
       "    <tr>\n",
       "      <th>1</th>\n",
       "      <td>Did those symptoms changes?</td>\n",
       "      <td>symptoms_changes</td>\n",
       "    </tr>\n",
       "    <tr>\n",
       "      <th>2</th>\n",
       "      <td>Did you experienced fainting?</td>\n",
       "      <td>fainting_symptoms</td>\n",
       "    </tr>\n",
       "    <tr>\n",
       "      <th>3</th>\n",
       "      <td>Did you faint?</td>\n",
       "      <td>fainting_symptoms</td>\n",
       "    </tr>\n",
       "    <tr>\n",
       "      <th>4</th>\n",
       "      <td>Did you had a cough with sputum?</td>\n",
       "      <td>cough_symptoms</td>\n",
       "    </tr>\n",
       "    <tr>\n",
       "      <th>...</th>\n",
       "      <td>...</td>\n",
       "      <td>...</td>\n",
       "    </tr>\n",
       "    <tr>\n",
       "      <th>71</th>\n",
       "      <td>visit reason</td>\n",
       "      <td>visit_reason</td>\n",
       "    </tr>\n",
       "    <tr>\n",
       "      <th>72</th>\n",
       "      <td>visit reason?</td>\n",
       "      <td>visit_reason</td>\n",
       "    </tr>\n",
       "    <tr>\n",
       "      <th>73</th>\n",
       "      <td>when did the symptoms start</td>\n",
       "      <td>symptoms_start</td>\n",
       "    </tr>\n",
       "    <tr>\n",
       "      <th>74</th>\n",
       "      <td>why are you in the hospital?</td>\n",
       "      <td>visit_reason</td>\n",
       "    </tr>\n",
       "    <tr>\n",
       "      <th>75</th>\n",
       "      <td>why are you visiting us?</td>\n",
       "      <td>visit_reason</td>\n",
       "    </tr>\n",
       "  </tbody>\n",
       "</table>\n",
       "<p>76 rows × 2 columns</p>\n",
       "</div>"
      ],
      "text/plain": [
       "                                                 text              label\n",
       "0   Did a pain in the center of the chest ever occ...         chest_pain\n",
       "1                         Did those symptoms changes?   symptoms_changes\n",
       "2                       Did you experienced fainting?  fainting_symptoms\n",
       "3                                      Did you faint?  fainting_symptoms\n",
       "4                    Did you had a cough with sputum?     cough_symptoms\n",
       "..                                                ...                ...\n",
       "71                                       visit reason       visit_reason\n",
       "72                                      visit reason?       visit_reason\n",
       "73                        when did the symptoms start     symptoms_start\n",
       "74                       why are you in the hospital?       visit_reason\n",
       "75                           why are you visiting us?       visit_reason\n",
       "\n",
       "[76 rows x 2 columns]"
      ]
     },
     "execution_count": 51,
     "metadata": {},
     "output_type": "execute_result"
    }
   ],
   "source": [
    "df.drop_duplicates([\"text\"], ignore_index=True)"
   ]
  },
  {
   "cell_type": "code",
   "execution_count": 52,
   "id": "3b3e28c6-c04e-491f-81ee-e3f33ae0fb81",
   "metadata": {},
   "outputs": [
    {
     "data": {
      "text/plain": [
       "visit_reason              12\n",
       "symptoms_start             9\n",
       "greetings                  8\n",
       "fever_symptoms             6\n",
       "diseases_parents           6\n",
       "surgeries                  5\n",
       "symptoms_circumstances     5\n",
       "chest_pain                 4\n",
       "symptoms_changes           4\n",
       "fainting_symptoms          4\n",
       "diseases_personal          4\n",
       "cough_symptoms             3\n",
       "palpitations_symptoms      3\n",
       "chronic_treatment          3\n",
       "Name: label, dtype: int64"
      ]
     },
     "execution_count": 52,
     "metadata": {},
     "output_type": "execute_result"
    }
   ],
   "source": [
    "df[\"label\"].value_counts()"
   ]
  },
  {
   "cell_type": "code",
   "execution_count": 53,
   "id": "5a7a72d5-cc1f-4767-ae24-035d7f24a48d",
   "metadata": {},
   "outputs": [
    {
     "data": {
      "text/html": [
       "<div>\n",
       "<style scoped>\n",
       "    .dataframe tbody tr th:only-of-type {\n",
       "        vertical-align: middle;\n",
       "    }\n",
       "\n",
       "    .dataframe tbody tr th {\n",
       "        vertical-align: top;\n",
       "    }\n",
       "\n",
       "    .dataframe thead th {\n",
       "        text-align: right;\n",
       "    }\n",
       "</style>\n",
       "<table border=\"1\" class=\"dataframe\">\n",
       "  <thead>\n",
       "    <tr style=\"text-align: right;\">\n",
       "      <th></th>\n",
       "      <th>text</th>\n",
       "      <th>label</th>\n",
       "    </tr>\n",
       "  </thead>\n",
       "  <tbody>\n",
       "    <tr>\n",
       "      <th>0</th>\n",
       "      <td>What is the reason for the presentation at the...</td>\n",
       "      <td>visit_reason</td>\n",
       "    </tr>\n",
       "    <tr>\n",
       "      <th>1</th>\n",
       "      <td>When did the symptoms start?</td>\n",
       "      <td>symptoms_start</td>\n",
       "    </tr>\n",
       "    <tr>\n",
       "      <th>2</th>\n",
       "      <td>What are the circumstances of the onset of sym...</td>\n",
       "      <td>symptoms_circumstances</td>\n",
       "    </tr>\n",
       "    <tr>\n",
       "      <th>3</th>\n",
       "      <td>Were there any changes in symptoms from onset ...</td>\n",
       "      <td>symptoms_changes</td>\n",
       "    </tr>\n",
       "    <tr>\n",
       "      <th>4</th>\n",
       "      <td>Do you know of any illness that your mother or...</td>\n",
       "      <td>diseases_parents</td>\n",
       "    </tr>\n",
       "  </tbody>\n",
       "</table>\n",
       "</div>"
      ],
      "text/plain": [
       "                                                text                   label\n",
       "0  What is the reason for the presentation at the...            visit_reason\n",
       "1                       When did the symptoms start?          symptoms_start\n",
       "2  What are the circumstances of the onset of sym...  symptoms_circumstances\n",
       "3  Were there any changes in symptoms from onset ...        symptoms_changes\n",
       "4  Do you know of any illness that your mother or...        diseases_parents"
      ]
     },
     "execution_count": 53,
     "metadata": {},
     "output_type": "execute_result"
    }
   ],
   "source": [
    "dir_path = os.path.join(\"database\", \"personas\")\n",
    "\n",
    "with open(os.path.join(dir_path, \"en_personas.json\")) as f:\n",
    "    data = json.load(f)\n",
    "    texts = []\n",
    "    labels = []\n",
    "    for persona in data:\n",
    "        for dialog_entity in persona[\"dialog\"]:\n",
    "            if not \"questions\" in dialog_entity:\n",
    "                print(dialog_entity)\n",
    "            \n",
    "            for question in dialog_entity[\"questions\"]:\n",
    "                texts.append(question)\n",
    "                labels.append(dialog_entity[\"label\"])\n",
    "    df_persona = pd.DataFrame(\n",
    "        {\n",
    "            \"text\": texts,\n",
    "            \"label\": labels\n",
    "        }\n",
    "    )\n",
    "df_persona.head()"
   ]
  },
  {
   "cell_type": "code",
   "execution_count": 54,
   "id": "544df4ed-cda3-4de9-8795-03596d4316c1",
   "metadata": {},
   "outputs": [],
   "source": [
    "df_persona = df_persona.drop_duplicates([\"text\"], ignore_index=True)"
   ]
  },
  {
   "cell_type": "code",
   "execution_count": 55,
   "id": "8748fbf2-6928-49af-9801-bb8f12ccdbcf",
   "metadata": {},
   "outputs": [
    {
     "data": {
      "text/plain": [
       "{'chest_pain': 0,\n",
       " 'symptoms_changes': 1,\n",
       " 'fainting_symptoms': 2,\n",
       " 'cough_symptoms': 3,\n",
       " 'surgeries': 4,\n",
       " 'fever_symptoms': 5,\n",
       " 'palpitations_symptoms': 6,\n",
       " 'chronic_treatment': 7,\n",
       " 'diseases_parents': 8,\n",
       " 'diseases_personal': 9,\n",
       " 'greetings': 10,\n",
       " 'symptoms_start': 11,\n",
       " 'symptoms_circumstances': 12,\n",
       " 'visit_reason': 13}"
      ]
     },
     "execution_count": 55,
     "metadata": {},
     "output_type": "execute_result"
    }
   ],
   "source": [
    "df_combined = pd.concat([df, df_persona], ignore_index=True)\n",
    "label_to_idx = {label: idx for idx, label in enumerate(sorted(df_combined[\"label\"].unique()))}\n",
    "label_to_idx"
   ]
  },
  {
   "cell_type": "code",
   "execution_count": 56,
   "id": "3cc6c9a5-3678-4d82-8379-81b4f5c36a90",
   "metadata": {},
   "outputs": [
    {
     "data": {
      "text/html": [
       "<div>\n",
       "<style scoped>\n",
       "    .dataframe tbody tr th:only-of-type {\n",
       "        vertical-align: middle;\n",
       "    }\n",
       "\n",
       "    .dataframe tbody tr th {\n",
       "        vertical-align: top;\n",
       "    }\n",
       "\n",
       "    .dataframe thead th {\n",
       "        text-align: right;\n",
       "    }\n",
       "</style>\n",
       "<table border=\"1\" class=\"dataframe\">\n",
       "  <thead>\n",
       "    <tr style=\"text-align: right;\">\n",
       "      <th></th>\n",
       "      <th>text</th>\n",
       "      <th>label</th>\n",
       "      <th>label_id</th>\n",
       "    </tr>\n",
       "  </thead>\n",
       "  <tbody>\n",
       "    <tr>\n",
       "      <th>0</th>\n",
       "      <td>Did a pain in the center of the chest ever occ...</td>\n",
       "      <td>chest_pain</td>\n",
       "      <td>0</td>\n",
       "    </tr>\n",
       "    <tr>\n",
       "      <th>1</th>\n",
       "      <td>Did those symptoms changes?</td>\n",
       "      <td>symptoms_changes</td>\n",
       "      <td>1</td>\n",
       "    </tr>\n",
       "    <tr>\n",
       "      <th>2</th>\n",
       "      <td>Did you experienced fainting?</td>\n",
       "      <td>fainting_symptoms</td>\n",
       "      <td>2</td>\n",
       "    </tr>\n",
       "    <tr>\n",
       "      <th>3</th>\n",
       "      <td>Did you faint?</td>\n",
       "      <td>fainting_symptoms</td>\n",
       "      <td>2</td>\n",
       "    </tr>\n",
       "    <tr>\n",
       "      <th>4</th>\n",
       "      <td>Did you had a cough with sputum?</td>\n",
       "      <td>cough_symptoms</td>\n",
       "      <td>3</td>\n",
       "    </tr>\n",
       "  </tbody>\n",
       "</table>\n",
       "</div>"
      ],
      "text/plain": [
       "                                                text              label  \\\n",
       "0  Did a pain in the center of the chest ever occ...         chest_pain   \n",
       "1                        Did those symptoms changes?   symptoms_changes   \n",
       "2                      Did you experienced fainting?  fainting_symptoms   \n",
       "3                                     Did you faint?  fainting_symptoms   \n",
       "4                   Did you had a cough with sputum?     cough_symptoms   \n",
       "\n",
       "   label_id  \n",
       "0         0  \n",
       "1         1  \n",
       "2         2  \n",
       "3         2  \n",
       "4         3  "
      ]
     },
     "execution_count": 56,
     "metadata": {},
     "output_type": "execute_result"
    }
   ],
   "source": [
    "df_combined[\"label_id\"] = df_combined[\"label\"].apply(lambda s: label_to_idx[s])\n",
    "df_combined.head()"
   ]
  },
  {
   "cell_type": "code",
   "execution_count": 57,
   "id": "82e11398-c5c0-43a7-8ef7-243a6fd642e8",
   "metadata": {},
   "outputs": [],
   "source": [
    "train_df = df_combined.groupby(\"label\").sample(frac=0.8, random_state=42)\n",
    "valid_df = df_combined.drop(train_df.index)"
   ]
  },
  {
   "cell_type": "code",
   "execution_count": 58,
   "id": "c63caaf6-93e0-4cd0-be8c-3bb8bcffe38f",
   "metadata": {},
   "outputs": [],
   "source": [
    "batch_size = 12\n",
    "\n",
    "train_dataset = (tf.data.Dataset\n",
    "                 .from_tensor_slices((train_df[\"text\"], train_df[\"label_id\"]))\n",
    "                 .batch(batch_size))\n",
    "\n",
    "valid_dataset = (tf.data.Dataset\n",
    "                 .from_tensor_slices((valid_df[\"text\"], valid_df[\"label_id\"]))\n",
    "                 .batch(batch_size))"
   ]
  },
  {
   "cell_type": "code",
   "execution_count": 59,
   "id": "b84676e4-f7f5-4ca6-9839-0f64b09a7e1e",
   "metadata": {},
   "outputs": [
    {
     "name": "stdout",
     "output_type": "stream",
     "text": [
      "Model: \"model_1\"\n",
      "__________________________________________________________________________________________________\n",
      " Layer (type)                   Output Shape         Param #     Connected to                     \n",
      "==================================================================================================\n",
      " input_2 (InputLayer)           [(None,)]            0           []                               \n",
      "                                                                                                  \n",
      " keras_layer_2 (KerasLayer)     {'input_word_ids':   0           ['input_2[0][0]']                \n",
      "                                (None, 128),                                                      \n",
      "                                 'input_type_ids':                                                \n",
      "                                (None, 128),                                                      \n",
      "                                 'input_mask': (Non                                               \n",
      "                                e, 128)}                                                          \n",
      "                                                                                                  \n",
      " keras_layer_3 (KerasLayer)     {'pooled_output': (  11170561    ['keras_layer_2[0][0]',          \n",
      "                                None, 256),                       'keras_layer_2[0][1]',          \n",
      "                                 'sequence_output':               'keras_layer_2[0][2]']          \n",
      "                                 (None, 128, 256),                                                \n",
      "                                 'encoder_outputs':                                               \n",
      "                                 [(None, 128, 256),                                               \n",
      "                                 (None, 128, 256),                                                \n",
      "                                 (None, 128, 256),                                                \n",
      "                                 (None, 128, 256)],                                               \n",
      "                                 'default': (None,                                                \n",
      "                                256)}                                                             \n",
      "                                                                                                  \n",
      " class_output (Dense)           (None, 14)           3598        ['keras_layer_3[0][5]']          \n",
      "                                                                                                  \n",
      "==================================================================================================\n",
      "Total params: 11,174,159\n",
      "Trainable params: 11,174,158\n",
      "Non-trainable params: 1\n",
      "__________________________________________________________________________________________________\n"
     ]
    }
   ],
   "source": [
    "text_input = tf.keras.layers.Input(shape=(), dtype=tf.string)\n",
    "preprocessor = hub.KerasLayer(\n",
    "    \"https://tfhub.dev/tensorflow/bert_en_uncased_preprocess/3\")\n",
    "encoder_inputs = preprocessor(text_input)\n",
    "\n",
    "encoder = hub.KerasLayer(\n",
    "    \"https://tfhub.dev/tensorflow/small_bert/bert_en_uncased_L-4_H-256_A-4/2\",\n",
    "    trainable=True)\n",
    "\n",
    "# encoder = hub.KerasLayer(\n",
    "#     \"https://tfhub.dev/tensorflow/small_bert/bert_en_uncased_L-8_H-256_A-4/2\",\n",
    "#     trainable=True)\n",
    "\n",
    "# encoder = hub.KerasLayer(\n",
    "#     \"https://tfhub.dev/tensorflow/small_bert/bert_en_uncased_L-10_H-512_A-8/2\",\n",
    "#     trainable=True)\n",
    "\n",
    "encoder_outputs = encoder(encoder_inputs)\n",
    "outputs = tf.keras.layers.Dense(len(label_to_idx), name=\"class_output\")(encoder_outputs[\"pooled_output\"])\n",
    "\n",
    "model = tf.keras.Model(inputs=text_input, outputs=[outputs, encoder_outputs[\"pooled_output\"]])\n",
    "model.summary()"
   ]
  },
  {
   "cell_type": "code",
   "execution_count": 60,
   "id": "0996683b-7740-42ac-9907-dad13dc406ad",
   "metadata": {},
   "outputs": [],
   "source": [
    "model.compile(\n",
    "    optimizer=tf.keras.optimizers.Adam(1e-5),\n",
    "    loss={\n",
    "        \"class_output\": tf.keras.losses.SparseCategoricalCrossentropy(from_logits=True)\n",
    "    },\n",
    "    metrics={\n",
    "        \"class_output\": [tf.keras.metrics.SparseCategoricalAccuracy()]\n",
    "    }\n",
    ")"
   ]
  },
  {
   "cell_type": "code",
   "execution_count": 61,
   "id": "dc72c6e5-a00f-45d1-9b64-e76adf5bcf06",
   "metadata": {
    "collapsed": true,
    "jupyter": {
     "outputs_hidden": true
    },
    "tags": []
   },
   "outputs": [
    {
     "name": "stdout",
     "output_type": "stream",
     "text": [
      "Epoch 1/100\n",
      "7/7 [==============================] - 20s 2s/step - loss: 2.9789 - class_output_loss: 2.9789 - class_output_sparse_categorical_accuracy: 0.0476 - val_loss: 2.8619 - val_class_output_loss: 2.8619 - val_class_output_sparse_categorical_accuracy: 0.1364\n",
      "Epoch 2/100\n",
      "7/7 [==============================] - 2s 327ms/step - loss: 2.8761 - class_output_loss: 2.8761 - class_output_sparse_categorical_accuracy: 0.0952 - val_loss: 2.7728 - val_class_output_loss: 2.7728 - val_class_output_sparse_categorical_accuracy: 0.1364\n",
      "Epoch 3/100\n",
      "7/7 [==============================] - 2s 318ms/step - loss: 2.7707 - class_output_loss: 2.7707 - class_output_sparse_categorical_accuracy: 0.1310 - val_loss: 2.6859 - val_class_output_loss: 2.6859 - val_class_output_sparse_categorical_accuracy: 0.1818\n",
      "Epoch 4/100\n",
      "7/7 [==============================] - 2s 308ms/step - loss: 2.6992 - class_output_loss: 2.6992 - class_output_sparse_categorical_accuracy: 0.1310 - val_loss: 2.6057 - val_class_output_loss: 2.6057 - val_class_output_sparse_categorical_accuracy: 0.1818\n",
      "Epoch 5/100\n",
      "7/7 [==============================] - 2s 314ms/step - loss: 2.6300 - class_output_loss: 2.6300 - class_output_sparse_categorical_accuracy: 0.1667 - val_loss: 2.5369 - val_class_output_loss: 2.5369 - val_class_output_sparse_categorical_accuracy: 0.2727\n",
      "Epoch 6/100\n",
      "7/7 [==============================] - 2s 322ms/step - loss: 2.5923 - class_output_loss: 2.5923 - class_output_sparse_categorical_accuracy: 0.1310 - val_loss: 2.4780 - val_class_output_loss: 2.4780 - val_class_output_sparse_categorical_accuracy: 0.2727\n",
      "Epoch 7/100\n",
      "7/7 [==============================] - 2s 305ms/step - loss: 2.4994 - class_output_loss: 2.4994 - class_output_sparse_categorical_accuracy: 0.2143 - val_loss: 2.4262 - val_class_output_loss: 2.4262 - val_class_output_sparse_categorical_accuracy: 0.2727\n",
      "Epoch 8/100\n",
      "7/7 [==============================] - 2s 324ms/step - loss: 2.4768 - class_output_loss: 2.4768 - class_output_sparse_categorical_accuracy: 0.2262 - val_loss: 2.3811 - val_class_output_loss: 2.3811 - val_class_output_sparse_categorical_accuracy: 0.3182\n",
      "Epoch 9/100\n",
      "7/7 [==============================] - 2s 317ms/step - loss: 2.3620 - class_output_loss: 2.3620 - class_output_sparse_categorical_accuracy: 0.2262 - val_loss: 2.3407 - val_class_output_loss: 2.3407 - val_class_output_sparse_categorical_accuracy: 0.3182\n",
      "Epoch 10/100\n",
      "7/7 [==============================] - 2s 315ms/step - loss: 2.4219 - class_output_loss: 2.4219 - class_output_sparse_categorical_accuracy: 0.2500 - val_loss: 2.3042 - val_class_output_loss: 2.3042 - val_class_output_sparse_categorical_accuracy: 0.3182\n",
      "Epoch 11/100\n",
      "7/7 [==============================] - 2s 341ms/step - loss: 2.3110 - class_output_loss: 2.3110 - class_output_sparse_categorical_accuracy: 0.2143 - val_loss: 2.2689 - val_class_output_loss: 2.2689 - val_class_output_sparse_categorical_accuracy: 0.3182\n",
      "Epoch 12/100\n",
      "7/7 [==============================] - 2s 325ms/step - loss: 2.3259 - class_output_loss: 2.3259 - class_output_sparse_categorical_accuracy: 0.2143 - val_loss: 2.2324 - val_class_output_loss: 2.2324 - val_class_output_sparse_categorical_accuracy: 0.4091\n",
      "Epoch 13/100\n",
      "7/7 [==============================] - 2s 307ms/step - loss: 2.2392 - class_output_loss: 2.2392 - class_output_sparse_categorical_accuracy: 0.2857 - val_loss: 2.1935 - val_class_output_loss: 2.1935 - val_class_output_sparse_categorical_accuracy: 0.4545\n",
      "Epoch 14/100\n",
      "7/7 [==============================] - 2s 300ms/step - loss: 2.1812 - class_output_loss: 2.1812 - class_output_sparse_categorical_accuracy: 0.3333 - val_loss: 2.1532 - val_class_output_loss: 2.1532 - val_class_output_sparse_categorical_accuracy: 0.5000\n",
      "Epoch 15/100\n",
      "7/7 [==============================] - 2s 313ms/step - loss: 2.1712 - class_output_loss: 2.1712 - class_output_sparse_categorical_accuracy: 0.3333 - val_loss: 2.1159 - val_class_output_loss: 2.1159 - val_class_output_sparse_categorical_accuracy: 0.5000\n",
      "Epoch 16/100\n",
      "7/7 [==============================] - 2s 346ms/step - loss: 2.0908 - class_output_loss: 2.0908 - class_output_sparse_categorical_accuracy: 0.3214 - val_loss: 2.0813 - val_class_output_loss: 2.0813 - val_class_output_sparse_categorical_accuracy: 0.5000\n",
      "Epoch 17/100\n",
      "7/7 [==============================] - 2s 306ms/step - loss: 2.0623 - class_output_loss: 2.0623 - class_output_sparse_categorical_accuracy: 0.3571 - val_loss: 2.0475 - val_class_output_loss: 2.0475 - val_class_output_sparse_categorical_accuracy: 0.5000\n",
      "Epoch 18/100\n",
      "7/7 [==============================] - 2s 304ms/step - loss: 1.9908 - class_output_loss: 1.9908 - class_output_sparse_categorical_accuracy: 0.4286 - val_loss: 2.0143 - val_class_output_loss: 2.0143 - val_class_output_sparse_categorical_accuracy: 0.5000\n",
      "Epoch 19/100\n",
      "7/7 [==============================] - 2s 307ms/step - loss: 1.9579 - class_output_loss: 1.9579 - class_output_sparse_categorical_accuracy: 0.4524 - val_loss: 1.9837 - val_class_output_loss: 1.9837 - val_class_output_sparse_categorical_accuracy: 0.5000\n",
      "Epoch 20/100\n",
      "7/7 [==============================] - 2s 308ms/step - loss: 1.9175 - class_output_loss: 1.9175 - class_output_sparse_categorical_accuracy: 0.4286 - val_loss: 1.9565 - val_class_output_loss: 1.9565 - val_class_output_sparse_categorical_accuracy: 0.5000\n",
      "Epoch 21/100\n",
      "7/7 [==============================] - 3s 492ms/step - loss: 1.8832 - class_output_loss: 1.8832 - class_output_sparse_categorical_accuracy: 0.4643 - val_loss: 1.9336 - val_class_output_loss: 1.9336 - val_class_output_sparse_categorical_accuracy: 0.5000\n",
      "Epoch 22/100\n",
      "7/7 [==============================] - 4s 580ms/step - loss: 1.8555 - class_output_loss: 1.8555 - class_output_sparse_categorical_accuracy: 0.4048 - val_loss: 1.9111 - val_class_output_loss: 1.9111 - val_class_output_sparse_categorical_accuracy: 0.4545\n",
      "Epoch 23/100\n",
      "7/7 [==============================] - 4s 567ms/step - loss: 1.8170 - class_output_loss: 1.8170 - class_output_sparse_categorical_accuracy: 0.4643 - val_loss: 1.8866 - val_class_output_loss: 1.8866 - val_class_output_sparse_categorical_accuracy: 0.5000\n",
      "Epoch 24/100\n",
      "7/7 [==============================] - 4s 560ms/step - loss: 1.7388 - class_output_loss: 1.7388 - class_output_sparse_categorical_accuracy: 0.5238 - val_loss: 1.8646 - val_class_output_loss: 1.8646 - val_class_output_sparse_categorical_accuracy: 0.5000\n",
      "Epoch 25/100\n",
      "7/7 [==============================] - 4s 564ms/step - loss: 1.6628 - class_output_loss: 1.6628 - class_output_sparse_categorical_accuracy: 0.5595 - val_loss: 1.8384 - val_class_output_loss: 1.8384 - val_class_output_sparse_categorical_accuracy: 0.5000\n",
      "Epoch 26/100\n",
      "7/7 [==============================] - 2s 310ms/step - loss: 1.6692 - class_output_loss: 1.6692 - class_output_sparse_categorical_accuracy: 0.6071 - val_loss: 1.8099 - val_class_output_loss: 1.8099 - val_class_output_sparse_categorical_accuracy: 0.5000\n",
      "Epoch 27/100\n",
      "7/7 [==============================] - 2s 307ms/step - loss: 1.6638 - class_output_loss: 1.6638 - class_output_sparse_categorical_accuracy: 0.5595 - val_loss: 1.7805 - val_class_output_loss: 1.7805 - val_class_output_sparse_categorical_accuracy: 0.5000\n",
      "Epoch 28/100\n",
      "7/7 [==============================] - 2s 306ms/step - loss: 1.6200 - class_output_loss: 1.6200 - class_output_sparse_categorical_accuracy: 0.6190 - val_loss: 1.7529 - val_class_output_loss: 1.7529 - val_class_output_sparse_categorical_accuracy: 0.5000\n",
      "Epoch 29/100\n",
      "7/7 [==============================] - 2s 307ms/step - loss: 1.5470 - class_output_loss: 1.5470 - class_output_sparse_categorical_accuracy: 0.6190 - val_loss: 1.7318 - val_class_output_loss: 1.7318 - val_class_output_sparse_categorical_accuracy: 0.5000\n",
      "Epoch 30/100\n",
      "7/7 [==============================] - 2s 310ms/step - loss: 1.5226 - class_output_loss: 1.5226 - class_output_sparse_categorical_accuracy: 0.6190 - val_loss: 1.7084 - val_class_output_loss: 1.7084 - val_class_output_sparse_categorical_accuracy: 0.5000\n",
      "Epoch 31/100\n",
      "7/7 [==============================] - 2s 312ms/step - loss: 1.4320 - class_output_loss: 1.4320 - class_output_sparse_categorical_accuracy: 0.7262 - val_loss: 1.6808 - val_class_output_loss: 1.6808 - val_class_output_sparse_categorical_accuracy: 0.5000\n",
      "Epoch 32/100\n",
      "7/7 [==============================] - 2s 303ms/step - loss: 1.4071 - class_output_loss: 1.4071 - class_output_sparse_categorical_accuracy: 0.6905 - val_loss: 1.6520 - val_class_output_loss: 1.6520 - val_class_output_sparse_categorical_accuracy: 0.5455\n",
      "Epoch 33/100\n",
      "7/7 [==============================] - 2s 307ms/step - loss: 1.4479 - class_output_loss: 1.4479 - class_output_sparse_categorical_accuracy: 0.6667 - val_loss: 1.6196 - val_class_output_loss: 1.6196 - val_class_output_sparse_categorical_accuracy: 0.5455\n",
      "Epoch 34/100\n",
      "7/7 [==============================] - 2s 308ms/step - loss: 1.3829 - class_output_loss: 1.3829 - class_output_sparse_categorical_accuracy: 0.7024 - val_loss: 1.5896 - val_class_output_loss: 1.5896 - val_class_output_sparse_categorical_accuracy: 0.5909\n",
      "Epoch 35/100\n",
      "7/7 [==============================] - 2s 308ms/step - loss: 1.3462 - class_output_loss: 1.3462 - class_output_sparse_categorical_accuracy: 0.7143 - val_loss: 1.5685 - val_class_output_loss: 1.5685 - val_class_output_sparse_categorical_accuracy: 0.5909\n",
      "Epoch 36/100\n",
      "7/7 [==============================] - 2s 308ms/step - loss: 1.2685 - class_output_loss: 1.2685 - class_output_sparse_categorical_accuracy: 0.7619 - val_loss: 1.5466 - val_class_output_loss: 1.5466 - val_class_output_sparse_categorical_accuracy: 0.5455\n",
      "Epoch 37/100\n",
      "7/7 [==============================] - 2s 307ms/step - loss: 1.2834 - class_output_loss: 1.2834 - class_output_sparse_categorical_accuracy: 0.7381 - val_loss: 1.5207 - val_class_output_loss: 1.5207 - val_class_output_sparse_categorical_accuracy: 0.5455\n",
      "Epoch 38/100\n",
      "7/7 [==============================] - 2s 306ms/step - loss: 1.2497 - class_output_loss: 1.2497 - class_output_sparse_categorical_accuracy: 0.7738 - val_loss: 1.4950 - val_class_output_loss: 1.4950 - val_class_output_sparse_categorical_accuracy: 0.5909\n",
      "Epoch 39/100\n",
      "7/7 [==============================] - 2s 310ms/step - loss: 1.1608 - class_output_loss: 1.1608 - class_output_sparse_categorical_accuracy: 0.8333 - val_loss: 1.4686 - val_class_output_loss: 1.4686 - val_class_output_sparse_categorical_accuracy: 0.5909\n",
      "Epoch 40/100\n",
      "7/7 [==============================] - 2s 327ms/step - loss: 1.1976 - class_output_loss: 1.1976 - class_output_sparse_categorical_accuracy: 0.7500 - val_loss: 1.4455 - val_class_output_loss: 1.4455 - val_class_output_sparse_categorical_accuracy: 0.5909\n",
      "Epoch 41/100\n",
      "7/7 [==============================] - 4s 560ms/step - loss: 1.1274 - class_output_loss: 1.1274 - class_output_sparse_categorical_accuracy: 0.7857 - val_loss: 1.4182 - val_class_output_loss: 1.4182 - val_class_output_sparse_categorical_accuracy: 0.5909\n",
      "Epoch 42/100\n",
      "7/7 [==============================] - 4s 565ms/step - loss: 1.1340 - class_output_loss: 1.1340 - class_output_sparse_categorical_accuracy: 0.8333 - val_loss: 1.3928 - val_class_output_loss: 1.3928 - val_class_output_sparse_categorical_accuracy: 0.6364\n",
      "Epoch 43/100\n",
      "7/7 [==============================] - 4s 563ms/step - loss: 1.0767 - class_output_loss: 1.0767 - class_output_sparse_categorical_accuracy: 0.8452 - val_loss: 1.3687 - val_class_output_loss: 1.3687 - val_class_output_sparse_categorical_accuracy: 0.6364\n",
      "Epoch 44/100\n",
      "7/7 [==============================] - 4s 561ms/step - loss: 1.0265 - class_output_loss: 1.0265 - class_output_sparse_categorical_accuracy: 0.8690 - val_loss: 1.3465 - val_class_output_loss: 1.3465 - val_class_output_sparse_categorical_accuracy: 0.6364\n",
      "Epoch 45/100\n",
      "7/7 [==============================] - 4s 565ms/step - loss: 1.0414 - class_output_loss: 1.0414 - class_output_sparse_categorical_accuracy: 0.8810 - val_loss: 1.3247 - val_class_output_loss: 1.3247 - val_class_output_sparse_categorical_accuracy: 0.6364\n",
      "Epoch 46/100\n",
      "7/7 [==============================] - 4s 562ms/step - loss: 1.0150 - class_output_loss: 1.0150 - class_output_sparse_categorical_accuracy: 0.8571 - val_loss: 1.3004 - val_class_output_loss: 1.3004 - val_class_output_sparse_categorical_accuracy: 0.6818\n",
      "Epoch 47/100\n",
      "7/7 [==============================] - 4s 565ms/step - loss: 0.9585 - class_output_loss: 0.9585 - class_output_sparse_categorical_accuracy: 0.8690 - val_loss: 1.2764 - val_class_output_loss: 1.2764 - val_class_output_sparse_categorical_accuracy: 0.6818\n",
      "Epoch 48/100\n",
      "7/7 [==============================] - 4s 564ms/step - loss: 0.9606 - class_output_loss: 0.9606 - class_output_sparse_categorical_accuracy: 0.8810 - val_loss: 1.2506 - val_class_output_loss: 1.2506 - val_class_output_sparse_categorical_accuracy: 0.7273\n",
      "Epoch 49/100\n",
      "7/7 [==============================] - 4s 563ms/step - loss: 0.9096 - class_output_loss: 0.9096 - class_output_sparse_categorical_accuracy: 0.8690 - val_loss: 1.2304 - val_class_output_loss: 1.2304 - val_class_output_sparse_categorical_accuracy: 0.7273\n",
      "Epoch 50/100\n",
      "7/7 [==============================] - 4s 563ms/step - loss: 0.9174 - class_output_loss: 0.9174 - class_output_sparse_categorical_accuracy: 0.8810 - val_loss: 1.2097 - val_class_output_loss: 1.2097 - val_class_output_sparse_categorical_accuracy: 0.7273\n",
      "Epoch 51/100\n",
      "7/7 [==============================] - 4s 566ms/step - loss: 0.8281 - class_output_loss: 0.8281 - class_output_sparse_categorical_accuracy: 0.9524 - val_loss: 1.1873 - val_class_output_loss: 1.1873 - val_class_output_sparse_categorical_accuracy: 0.7273\n",
      "Epoch 52/100\n",
      "7/7 [==============================] - 4s 563ms/step - loss: 0.8341 - class_output_loss: 0.8341 - class_output_sparse_categorical_accuracy: 0.9167 - val_loss: 1.1677 - val_class_output_loss: 1.1677 - val_class_output_sparse_categorical_accuracy: 0.7273\n",
      "Epoch 53/100\n",
      "7/7 [==============================] - 4s 561ms/step - loss: 0.8438 - class_output_loss: 0.8438 - class_output_sparse_categorical_accuracy: 0.8929 - val_loss: 1.1505 - val_class_output_loss: 1.1505 - val_class_output_sparse_categorical_accuracy: 0.7273\n",
      "Epoch 54/100\n",
      "7/7 [==============================] - 4s 562ms/step - loss: 0.8210 - class_output_loss: 0.8210 - class_output_sparse_categorical_accuracy: 0.8690 - val_loss: 1.1333 - val_class_output_loss: 1.1333 - val_class_output_sparse_categorical_accuracy: 0.7727\n",
      "Epoch 55/100\n",
      "7/7 [==============================] - 4s 560ms/step - loss: 0.7612 - class_output_loss: 0.7612 - class_output_sparse_categorical_accuracy: 0.9286 - val_loss: 1.1150 - val_class_output_loss: 1.1150 - val_class_output_sparse_categorical_accuracy: 0.7727\n",
      "Epoch 56/100\n",
      "7/7 [==============================] - 4s 563ms/step - loss: 0.7048 - class_output_loss: 0.7048 - class_output_sparse_categorical_accuracy: 0.9286 - val_loss: 1.0974 - val_class_output_loss: 1.0974 - val_class_output_sparse_categorical_accuracy: 0.7727\n",
      "Epoch 57/100\n",
      "7/7 [==============================] - 4s 563ms/step - loss: 0.7344 - class_output_loss: 0.7344 - class_output_sparse_categorical_accuracy: 0.9524 - val_loss: 1.0794 - val_class_output_loss: 1.0794 - val_class_output_sparse_categorical_accuracy: 0.7727\n",
      "Epoch 58/100\n",
      "7/7 [==============================] - 4s 564ms/step - loss: 0.7035 - class_output_loss: 0.7035 - class_output_sparse_categorical_accuracy: 0.9286 - val_loss: 1.0593 - val_class_output_loss: 1.0593 - val_class_output_sparse_categorical_accuracy: 0.7727\n",
      "Epoch 59/100\n",
      "7/7 [==============================] - 4s 563ms/step - loss: 0.6931 - class_output_loss: 0.6931 - class_output_sparse_categorical_accuracy: 0.9524 - val_loss: 1.0389 - val_class_output_loss: 1.0389 - val_class_output_sparse_categorical_accuracy: 0.7727\n",
      "Epoch 60/100\n",
      "7/7 [==============================] - 4s 564ms/step - loss: 0.6223 - class_output_loss: 0.6223 - class_output_sparse_categorical_accuracy: 0.9643 - val_loss: 1.0226 - val_class_output_loss: 1.0226 - val_class_output_sparse_categorical_accuracy: 0.7727\n",
      "Epoch 61/100\n",
      "7/7 [==============================] - 4s 562ms/step - loss: 0.6373 - class_output_loss: 0.6373 - class_output_sparse_categorical_accuracy: 0.9405 - val_loss: 1.0038 - val_class_output_loss: 1.0038 - val_class_output_sparse_categorical_accuracy: 0.7727\n",
      "Epoch 62/100\n",
      "7/7 [==============================] - 4s 562ms/step - loss: 0.6112 - class_output_loss: 0.6112 - class_output_sparse_categorical_accuracy: 0.9524 - val_loss: 0.9868 - val_class_output_loss: 0.9868 - val_class_output_sparse_categorical_accuracy: 0.7727\n",
      "Epoch 63/100\n",
      "7/7 [==============================] - 4s 562ms/step - loss: 0.6264 - class_output_loss: 0.6264 - class_output_sparse_categorical_accuracy: 0.9167 - val_loss: 0.9714 - val_class_output_loss: 0.9714 - val_class_output_sparse_categorical_accuracy: 0.7727\n",
      "Epoch 64/100\n",
      "7/7 [==============================] - 4s 563ms/step - loss: 0.5921 - class_output_loss: 0.5921 - class_output_sparse_categorical_accuracy: 0.9286 - val_loss: 0.9552 - val_class_output_loss: 0.9552 - val_class_output_sparse_categorical_accuracy: 0.7727\n",
      "Epoch 65/100\n",
      "7/7 [==============================] - 4s 562ms/step - loss: 0.5806 - class_output_loss: 0.5806 - class_output_sparse_categorical_accuracy: 0.9643 - val_loss: 0.9407 - val_class_output_loss: 0.9407 - val_class_output_sparse_categorical_accuracy: 0.7727\n",
      "Epoch 66/100\n",
      "7/7 [==============================] - 4s 569ms/step - loss: 0.5555 - class_output_loss: 0.5555 - class_output_sparse_categorical_accuracy: 0.9643 - val_loss: 0.9272 - val_class_output_loss: 0.9272 - val_class_output_sparse_categorical_accuracy: 0.7727\n",
      "Epoch 67/100\n",
      "7/7 [==============================] - 4s 563ms/step - loss: 0.5233 - class_output_loss: 0.5233 - class_output_sparse_categorical_accuracy: 0.9762 - val_loss: 0.9154 - val_class_output_loss: 0.9154 - val_class_output_sparse_categorical_accuracy: 0.7727\n",
      "Epoch 68/100\n",
      "7/7 [==============================] - 4s 562ms/step - loss: 0.5100 - class_output_loss: 0.5100 - class_output_sparse_categorical_accuracy: 0.9405 - val_loss: 0.9022 - val_class_output_loss: 0.9022 - val_class_output_sparse_categorical_accuracy: 0.7727\n",
      "Epoch 69/100\n",
      "7/7 [==============================] - 4s 563ms/step - loss: 0.5107 - class_output_loss: 0.5107 - class_output_sparse_categorical_accuracy: 0.9643 - val_loss: 0.8916 - val_class_output_loss: 0.8916 - val_class_output_sparse_categorical_accuracy: 0.7727\n",
      "Epoch 70/100\n",
      "7/7 [==============================] - 4s 563ms/step - loss: 0.5066 - class_output_loss: 0.5066 - class_output_sparse_categorical_accuracy: 0.9881 - val_loss: 0.8798 - val_class_output_loss: 0.8798 - val_class_output_sparse_categorical_accuracy: 0.7727\n",
      "Epoch 71/100\n",
      "7/7 [==============================] - 4s 562ms/step - loss: 0.4424 - class_output_loss: 0.4424 - class_output_sparse_categorical_accuracy: 1.0000 - val_loss: 0.8674 - val_class_output_loss: 0.8674 - val_class_output_sparse_categorical_accuracy: 0.7727\n",
      "Epoch 72/100\n",
      "7/7 [==============================] - 4s 563ms/step - loss: 0.4486 - class_output_loss: 0.4486 - class_output_sparse_categorical_accuracy: 0.9762 - val_loss: 0.8566 - val_class_output_loss: 0.8566 - val_class_output_sparse_categorical_accuracy: 0.7727\n",
      "Epoch 73/100\n",
      "7/7 [==============================] - 4s 566ms/step - loss: 0.4551 - class_output_loss: 0.4551 - class_output_sparse_categorical_accuracy: 0.9762 - val_loss: 0.8454 - val_class_output_loss: 0.8454 - val_class_output_sparse_categorical_accuracy: 0.7727\n",
      "Epoch 74/100\n",
      "7/7 [==============================] - 4s 562ms/step - loss: 0.3936 - class_output_loss: 0.3936 - class_output_sparse_categorical_accuracy: 0.9881 - val_loss: 0.8318 - val_class_output_loss: 0.8318 - val_class_output_sparse_categorical_accuracy: 0.7727\n",
      "Epoch 75/100\n",
      "7/7 [==============================] - 4s 562ms/step - loss: 0.4017 - class_output_loss: 0.4017 - class_output_sparse_categorical_accuracy: 0.9881 - val_loss: 0.8181 - val_class_output_loss: 0.8181 - val_class_output_sparse_categorical_accuracy: 0.7727\n",
      "Epoch 76/100\n",
      "7/7 [==============================] - 4s 560ms/step - loss: 0.3957 - class_output_loss: 0.3957 - class_output_sparse_categorical_accuracy: 0.9881 - val_loss: 0.8082 - val_class_output_loss: 0.8082 - val_class_output_sparse_categorical_accuracy: 0.7727\n",
      "Epoch 77/100\n",
      "7/7 [==============================] - 4s 561ms/step - loss: 0.3920 - class_output_loss: 0.3920 - class_output_sparse_categorical_accuracy: 0.9881 - val_loss: 0.8015 - val_class_output_loss: 0.8015 - val_class_output_sparse_categorical_accuracy: 0.7727\n",
      "Epoch 78/100\n",
      "7/7 [==============================] - 4s 565ms/step - loss: 0.3918 - class_output_loss: 0.3918 - class_output_sparse_categorical_accuracy: 0.9762 - val_loss: 0.7911 - val_class_output_loss: 0.7911 - val_class_output_sparse_categorical_accuracy: 0.7727\n",
      "Epoch 79/100\n",
      "7/7 [==============================] - 4s 559ms/step - loss: 0.3785 - class_output_loss: 0.3785 - class_output_sparse_categorical_accuracy: 0.9762 - val_loss: 0.7818 - val_class_output_loss: 0.7818 - val_class_output_sparse_categorical_accuracy: 0.7727\n",
      "Epoch 80/100\n",
      "7/7 [==============================] - 4s 563ms/step - loss: 0.3125 - class_output_loss: 0.3125 - class_output_sparse_categorical_accuracy: 1.0000 - val_loss: 0.7748 - val_class_output_loss: 0.7748 - val_class_output_sparse_categorical_accuracy: 0.7727\n",
      "Epoch 81/100\n",
      "7/7 [==============================] - 4s 563ms/step - loss: 0.3307 - class_output_loss: 0.3307 - class_output_sparse_categorical_accuracy: 0.9881 - val_loss: 0.7685 - val_class_output_loss: 0.7685 - val_class_output_sparse_categorical_accuracy: 0.7727\n",
      "Epoch 82/100\n",
      "7/7 [==============================] - 4s 560ms/step - loss: 0.3455 - class_output_loss: 0.3455 - class_output_sparse_categorical_accuracy: 0.9881 - val_loss: 0.7592 - val_class_output_loss: 0.7592 - val_class_output_sparse_categorical_accuracy: 0.7727\n",
      "Epoch 83/100\n",
      "7/7 [==============================] - 4s 565ms/step - loss: 0.3360 - class_output_loss: 0.3360 - class_output_sparse_categorical_accuracy: 0.9881 - val_loss: 0.7501 - val_class_output_loss: 0.7501 - val_class_output_sparse_categorical_accuracy: 0.7727\n",
      "Epoch 84/100\n",
      "7/7 [==============================] - 4s 563ms/step - loss: 0.3181 - class_output_loss: 0.3181 - class_output_sparse_categorical_accuracy: 0.9881 - val_loss: 0.7430 - val_class_output_loss: 0.7430 - val_class_output_sparse_categorical_accuracy: 0.7727\n",
      "Epoch 85/100\n",
      "7/7 [==============================] - 4s 564ms/step - loss: 0.3148 - class_output_loss: 0.3148 - class_output_sparse_categorical_accuracy: 0.9881 - val_loss: 0.7392 - val_class_output_loss: 0.7392 - val_class_output_sparse_categorical_accuracy: 0.7727\n",
      "Epoch 86/100\n",
      "7/7 [==============================] - 4s 561ms/step - loss: 0.3051 - class_output_loss: 0.3051 - class_output_sparse_categorical_accuracy: 0.9762 - val_loss: 0.7343 - val_class_output_loss: 0.7343 - val_class_output_sparse_categorical_accuracy: 0.7727\n",
      "Epoch 87/100\n",
      "7/7 [==============================] - 4s 563ms/step - loss: 0.3058 - class_output_loss: 0.3058 - class_output_sparse_categorical_accuracy: 0.9881 - val_loss: 0.7319 - val_class_output_loss: 0.7319 - val_class_output_sparse_categorical_accuracy: 0.7727\n",
      "Epoch 88/100\n",
      "7/7 [==============================] - 4s 562ms/step - loss: 0.3026 - class_output_loss: 0.3026 - class_output_sparse_categorical_accuracy: 0.9881 - val_loss: 0.7231 - val_class_output_loss: 0.7231 - val_class_output_sparse_categorical_accuracy: 0.7727\n",
      "Epoch 89/100\n",
      "7/7 [==============================] - 4s 562ms/step - loss: 0.2879 - class_output_loss: 0.2879 - class_output_sparse_categorical_accuracy: 0.9881 - val_loss: 0.7126 - val_class_output_loss: 0.7126 - val_class_output_sparse_categorical_accuracy: 0.7727\n",
      "Epoch 90/100\n",
      "7/7 [==============================] - 4s 575ms/step - loss: 0.2677 - class_output_loss: 0.2677 - class_output_sparse_categorical_accuracy: 1.0000 - val_loss: 0.7021 - val_class_output_loss: 0.7021 - val_class_output_sparse_categorical_accuracy: 0.7727\n",
      "Epoch 91/100\n",
      "7/7 [==============================] - 4s 565ms/step - loss: 0.2576 - class_output_loss: 0.2576 - class_output_sparse_categorical_accuracy: 0.9881 - val_loss: 0.6968 - val_class_output_loss: 0.6968 - val_class_output_sparse_categorical_accuracy: 0.7727\n",
      "Epoch 92/100\n",
      "7/7 [==============================] - 4s 563ms/step - loss: 0.2723 - class_output_loss: 0.2723 - class_output_sparse_categorical_accuracy: 0.9762 - val_loss: 0.6928 - val_class_output_loss: 0.6928 - val_class_output_sparse_categorical_accuracy: 0.7727\n",
      "Epoch 93/100\n",
      "7/7 [==============================] - 4s 562ms/step - loss: 0.2909 - class_output_loss: 0.2909 - class_output_sparse_categorical_accuracy: 0.9881 - val_loss: 0.6942 - val_class_output_loss: 0.6942 - val_class_output_sparse_categorical_accuracy: 0.7727\n",
      "Epoch 94/100\n",
      "7/7 [==============================] - 4s 563ms/step - loss: 0.2648 - class_output_loss: 0.2648 - class_output_sparse_categorical_accuracy: 0.9762 - val_loss: 0.6955 - val_class_output_loss: 0.6955 - val_class_output_sparse_categorical_accuracy: 0.7727\n",
      "Epoch 95/100\n",
      "7/7 [==============================] - 4s 565ms/step - loss: 0.2507 - class_output_loss: 0.2507 - class_output_sparse_categorical_accuracy: 0.9881 - val_loss: 0.6955 - val_class_output_loss: 0.6955 - val_class_output_sparse_categorical_accuracy: 0.7727\n",
      "Epoch 96/100\n",
      "7/7 [==============================] - 4s 563ms/step - loss: 0.2445 - class_output_loss: 0.2445 - class_output_sparse_categorical_accuracy: 0.9881 - val_loss: 0.6867 - val_class_output_loss: 0.6867 - val_class_output_sparse_categorical_accuracy: 0.7727\n",
      "Epoch 97/100\n",
      "7/7 [==============================] - 4s 569ms/step - loss: 0.2392 - class_output_loss: 0.2392 - class_output_sparse_categorical_accuracy: 0.9881 - val_loss: 0.6775 - val_class_output_loss: 0.6775 - val_class_output_sparse_categorical_accuracy: 0.7727\n",
      "Epoch 98/100\n",
      "7/7 [==============================] - 6s 932ms/step - loss: 0.2428 - class_output_loss: 0.2428 - class_output_sparse_categorical_accuracy: 0.9881 - val_loss: 0.6724 - val_class_output_loss: 0.6724 - val_class_output_sparse_categorical_accuracy: 0.8182\n",
      "Epoch 99/100\n",
      "7/7 [==============================] - 8s 1s/step - loss: 0.2606 - class_output_loss: 0.2606 - class_output_sparse_categorical_accuracy: 0.9881 - val_loss: 0.6667 - val_class_output_loss: 0.6667 - val_class_output_sparse_categorical_accuracy: 0.8182\n",
      "Epoch 100/100\n",
      "7/7 [==============================] - 8s 1s/step - loss: 0.2547 - class_output_loss: 0.2547 - class_output_sparse_categorical_accuracy: 0.9762 - val_loss: 0.6596 - val_class_output_loss: 0.6596 - val_class_output_sparse_categorical_accuracy: 0.8182\n"
     ]
    }
   ],
   "source": [
    "epochs = 100\n",
    "\n",
    "history = model.fit(\n",
    "    train_dataset,\n",
    "    epochs=epochs,\n",
    "    validation_data=valid_dataset\n",
    ")"
   ]
  },
  {
   "cell_type": "code",
   "execution_count": 62,
   "id": "08af266a-52e6-45e3-b461-086f55c41107",
   "metadata": {
    "jupyter": {
     "source_hidden": true
    },
    "tags": []
   },
   "outputs": [],
   "source": [
    "# def cosine(v1, v2):\n",
    "#     dot_product = np.dot(v1, v2)\n",
    "#     denominator = np.linalg.norm(v1) * np.linalg.norm(v2)\n",
    "#     result = dot_product / denominator\n",
    "#     if result > 1.0:\n",
    "#         return 1.0\n",
    "#     elif result < -1.0:\n",
    "#         return -1.0\n",
    "#     else:\n",
    "#         return result\n",
    "\n",
    "# def TS(v1, v2):\n",
    "#     theta = np.arccos(cosine(v1, v2)) + np.radians(10)\n",
    "#     return np.linalg.norm(v1) * np.linalg.norm(v2) * np.sin(theta) / 2\n",
    "\n",
    "# def SS(v1, v2):\n",
    "#     ED = np.linalg.norm(v1 - v2)\n",
    "#     MD = np.abs(np.linalg.norm(v1) - np.linalg.norm(v2))\n",
    "#     theta = np.arccos(cosine(v1, v2)) + np.radians(10)\n",
    "#     return np.pi * (ED + MD)**2 * theta / 360\n",
    "\n",
    "# def TS_SS(v1, v2):\n",
    "#     return TS(v1, v2) * SS(v1, v2)\n",
    "\n",
    "# def similarity(v1, v2):\n",
    "#     return TS_SS(v1, v2)"
   ]
  },
  {
   "cell_type": "code",
   "execution_count": 63,
   "id": "740124a8-70fe-45ef-8696-9c2269a32eda",
   "metadata": {
    "jupyter": {
     "source_hidden": true
    },
    "tags": []
   },
   "outputs": [],
   "source": [
    "# test_utterances = [\"hello there\", \"Hello\", \"Why are you here\", \"Good evening\"]\n",
    "# idx_to_label = {v: k for k, v in label_to_idx.items()}\n",
    "\n",
    "# class_predict, embeddings = model.predict(test_utterances)\n",
    "# class_predict_idx = np.argmax(class_predict, axis=1)\n",
    "\n",
    "# for utterance, idx in zip(test_utterances, class_predict_idx):\n",
    "#     print(utterance, f\"({idx_to_label[idx]})\")\n",
    "\n",
    "# for utterance1, embedding1 in zip(test_utterances, embeddings):\n",
    "#     for utterance2, embedding2 in zip(test_utterances, embeddings):\n",
    "#         print(f\"{utterance1} <-> {utterance2} ({similarity(embedding1, embedding2)}) (ts: {TS(embedding1, embedding2)}, ss: {SS(embedding1, embedding2)})\")"
   ]
  },
  {
   "cell_type": "code",
   "execution_count": 64,
   "id": "8fdb9507-f6ad-4047-986a-a82377ef528a",
   "metadata": {},
   "outputs": [
    {
     "data": {
      "image/png": "[encoded data removed]",
      "text/plain": [
       "<Figure size 720x432 with 1 Axes>"
      ]
     },
     "metadata": {
      "needs_background": "light"
     },
     "output_type": "display_data"
    }
   ],
   "source": [
    "fig, ax = plt.subplots(figsize=(10, 6), constrained_layout=True)\n",
    "ax.plot(history.history[\"loss\"], label=\"Training loss\")\n",
    "ax.plot(history.history[\"val_loss\"], label=\"Validation loss\")\n",
    "ax.set_xlabel(\"Epcohs\")\n",
    "ax.set_ylabel(\"Loss\")\n",
    "ax.set_xticks(np.arange(0, len(history.history[\"loss\"]) + 1, 10))\n",
    "ax.legend()\n",
    "plt.savefig(\"loss.png\")"
   ]
  },
  {
   "cell_type": "code",
   "execution_count": 65,
   "id": "cc37b96b-8abf-4e46-a615-f74b61f0d833",
   "metadata": {},
   "outputs": [
    {
     "data": {
      "image/png": "[encoded data removed]",
      "text/plain": [
       "<Figure size 720x432 with 1 Axes>"
      ]
     },
     "metadata": {
      "needs_background": "light"
     },
     "output_type": "display_data"
    }
   ],
   "source": [
    "fig, ax = plt.subplots(figsize=(10, 6), constrained_layout=True)\n",
    "ax.plot(history.history[\"class_output_sparse_categorical_accuracy\"], label=\"Training accuracy\")\n",
    "ax.plot(history.history[\"val_class_output_sparse_categorical_accuracy\"], label=\"Validation accuracy\")\n",
    "ax.set_xlabel(\"Epcohs\")\n",
    "ax.set_ylabel(\"Accuracy\")\n",
    "ax.set_xticks(np.arange(0, len(history.history[\"class_output_sparse_categorical_accuracy\"]) + 1, 10))\n",
    "ax.legend()\n",
    "fig.savefig(\"accuracy.png\")"
   ]
  },
  {
   "cell_type": "code",
   "execution_count": 66,
   "id": "c02d94e6-77b2-4f90-8c28-9f18fb0afb94",
   "metadata": {},
   "outputs": [
    {
     "name": "stdout",
     "output_type": "stream",
     "text": [
      "4/4 [==============================] - 1s 255ms/step - loss: 0.2220 - class_output_loss: 0.2220 - class_output_sparse_categorical_accuracy: 0.9623\n",
      "loss    : 0.2220\n",
      "class_output_loss: 0.2220\n",
      "class_output_sparse_categorical_accuracy: 0.9623\n"
     ]
    }
   ],
   "source": [
    "metrics = model.evaluate(\n",
    "    df_combined[\"text\"].to_numpy(),\n",
    "    df_combined[\"label_id\"].to_numpy()\n",
    ")\n",
    "\n",
    "for metric_name, metric in zip(model.metrics_names, metrics):\n",
    "    print(f\"{metric_name:<8s}: {metric:.4f}\")"
   ]
  },
  {
   "cell_type": "code",
   "execution_count": 67,
   "id": "59235fe6-65d9-4537-a0a3-f44ec045fa20",
   "metadata": {},
   "outputs": [
    {
     "name": "stdout",
     "output_type": "stream",
     "text": [
      "4/4 [==============================] - 2s 328ms/step\n",
      "accuracy : 0.9623\n",
      "precision: 0.9643\n",
      "recall   : 0.9643\n",
      "F1       : 0.9529\n"
     ]
    }
   ],
   "source": [
    "predictions_probabilities, embeddings = model.predict(df_combined[\"text\"])\n",
    "predictions = np.argmax(predictions_probabilities, axis=1)\n",
    "\n",
    "y_true = df_combined[\"label_id\"].to_numpy()\n",
    "accuracy = accuracy_score(y_true, predictions)\n",
    "precision = precision_score(y_true, predictions, average=\"macro\")\n",
    "recall = precision_score(y_true, predictions, average=\"macro\")\n",
    "f1score = f1_score(y_true, predictions, average=\"macro\")\n",
    "\n",
    "print(f\"accuracy : {accuracy:.4f}\")\n",
    "print(f\"precision: {precision:.4f}\")\n",
    "print(f\"recall   : {recall:.4f}\")\n",
    "print(f\"F1       : {f1score:.4f}\")"
   ]
  },
  {
   "cell_type": "code",
   "execution_count": 68,
   "id": "bff112a2-4a41-44fc-94b5-08ab717799fc",
   "metadata": {},
   "outputs": [
    {
     "data": {
      "image/png": "[encoded data removed]",
      "text/plain": [
       "<Figure size 720x504 with 2 Axes>"
      ]
     },
     "metadata": {
      "needs_background": "light"
     },
     "output_type": "display_data"
    }
   ],
   "source": [
    "matrix = confusion_matrix(y_true, predictions)\n",
    "index = label_to_idx.keys()\n",
    "df = pd.DataFrame(matrix, index=index, columns=index)\n",
    "plt.figure(figsize=(10, 7))\n",
    "sns.heatmap(df, annot=True, fmt=\"d\")\n",
    "plt.savefig(\"confusion_matrix.png\")"
   ]
  },
  {
   "cell_type": "code",
   "execution_count": 69,
   "id": "c481e53f-a264-4558-8a0c-f799c7eff9e6",
   "metadata": {},
   "outputs": [
    {
     "name": "stderr",
     "output_type": "stream",
     "text": [
      "WARNING:absl:Found untraced functions such as restored_function_body, restored_function_body, restored_function_body, restored_function_body, restored_function_body while saving (showing 5 of 126). These functions will not be directly callable after loading.\n"
     ]
    },
    {
     "name": "stdout",
     "output_type": "stream",
     "text": [
      "INFO:tensorflow:Assets written to: bert_classification\\assets\n"
     ]
    },
    {
     "name": "stderr",
     "output_type": "stream",
     "text": [
      "INFO:tensorflow:Assets written to: bert_classification\\assets\n"
     ]
    }
   ],
   "source": [
    "model.save(\"bert_classification\")"
   ]
  }
 ],
 "metadata": {
  "kernelspec": {
   "display_name": "licenta",
   "language": "python",
   "name": "licenta"
  },
  "language_info": {
   "codemirror_mode": {
    "name": "ipython",
    "version": 3
   },
   "file_extension": ".py",
   "mimetype": "text/x-python",
   "name": "python",
   "nbconvert_exporter": "python",
   "pygments_lexer": "ipython3",
   "version": "3.8.13"
  }
 },
 "nbformat": 4,
 "nbformat_minor": 5
}
