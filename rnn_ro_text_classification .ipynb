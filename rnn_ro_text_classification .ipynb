{
 "cells": [
  {
   "cell_type": "code",
   "execution_count": 1,
   "id": "6ad4a861-4c1b-4671-89f2-73c9e533d838",
   "metadata": {},
   "outputs": [],
   "source": [
    "import tensorflow as tf\n",
    "import numpy as np\n",
    "import pandas as pd\n",
    "import matplotlib.pyplot as plt\n",
    "import json\n",
    "import os\n",
    "from sklearn.metrics import precision_score, accuracy_score, recall_score, f1_score, confusion_matrix\n",
    "import seaborn as sns"
   ]
  },
  {
   "cell_type": "code",
   "execution_count": 2,
   "id": "d7f325fa-5a3e-4ef2-b00f-cf13baa77510",
   "metadata": {},
   "outputs": [
    {
     "data": {
      "text/html": [
       "<div>\n",
       "<style scoped>\n",
       "    .dataframe tbody tr th:only-of-type {\n",
       "        vertical-align: middle;\n",
       "    }\n",
       "\n",
       "    .dataframe tbody tr th {\n",
       "        vertical-align: top;\n",
       "    }\n",
       "\n",
       "    .dataframe thead th {\n",
       "        text-align: right;\n",
       "    }\n",
       "</style>\n",
       "<table border=\"1\" class=\"dataframe\">\n",
       "  <thead>\n",
       "    <tr style=\"text-align: right;\">\n",
       "      <th></th>\n",
       "      <th>text</th>\n",
       "      <th>label</th>\n",
       "    </tr>\n",
       "  </thead>\n",
       "  <tbody>\n",
       "    <tr>\n",
       "      <th>0</th>\n",
       "      <td>A aparut ceva nou in simptomatologia dumneavoa...</td>\n",
       "      <td>symptoms_changes</td>\n",
       "    </tr>\n",
       "    <tr>\n",
       "      <th>1</th>\n",
       "      <td>Alte probleme de sanatate ati avut</td>\n",
       "      <td>diseases_personal</td>\n",
       "    </tr>\n",
       "    <tr>\n",
       "      <th>2</th>\n",
       "      <td>Ati avut frisoane de curand</td>\n",
       "      <td>fever_symptoms</td>\n",
       "    </tr>\n",
       "    <tr>\n",
       "      <th>3</th>\n",
       "      <td>Ati avut o interventie chirurgicala</td>\n",
       "      <td>surgeries</td>\n",
       "    </tr>\n",
       "    <tr>\n",
       "      <th>4</th>\n",
       "      <td>Ati avut tuse cu sputa</td>\n",
       "      <td>cough_symptoms</td>\n",
       "    </tr>\n",
       "  </tbody>\n",
       "</table>\n",
       "</div>"
      ],
      "text/plain": [
       "                                                text              label\n",
       "0  A aparut ceva nou in simptomatologia dumneavoa...   symptoms_changes\n",
       "1                 Alte probleme de sanatate ati avut  diseases_personal\n",
       "2                        Ati avut frisoane de curand     fever_symptoms\n",
       "3                Ati avut o interventie chirurgicala          surgeries\n",
       "4                             Ati avut tuse cu sputa     cough_symptoms"
      ]
     },
     "execution_count": 2,
     "metadata": {},
     "output_type": "execute_result"
    }
   ],
   "source": [
    "dir_path = os.path.join(\"database\", \"text_classification\")\n",
    "\n",
    "with open (os.path.join(dir_path, \"ro.json\")) as f:\n",
    "    data = json.load(f)\n",
    "    df = pd.DataFrame(data)\n",
    "\n",
    "df.head()"
   ]
  },
  {
   "cell_type": "code",
   "execution_count": 3,
   "id": "83d65dcc-e709-409b-8280-94458079a869",
   "metadata": {},
   "outputs": [
    {
     "data": {
      "text/plain": [
       "visit_reason              40\n",
       "symptoms_start            18\n",
       "diseases_parents          18\n",
       "fainting_symptoms         16\n",
       "chronic_treatment         15\n",
       "symptoms_circumstances    13\n",
       "symptoms_changes          12\n",
       "fever_symptoms            12\n",
       "palpitations_symptoms     12\n",
       "diseases_personal         10\n",
       "greetings                  8\n",
       "cough_symptoms             7\n",
       "surgeries                  5\n",
       "chest_pain                 5\n",
       "Name: label, dtype: int64"
      ]
     },
     "execution_count": 3,
     "metadata": {},
     "output_type": "execute_result"
    }
   ],
   "source": [
    "df[\"label\"].value_counts()"
   ]
  },
  {
   "cell_type": "code",
   "execution_count": 4,
   "id": "bb58534b-d17e-4f95-89da-9ddecd46b0c5",
   "metadata": {},
   "outputs": [
    {
     "data": {
      "text/html": [
       "<div>\n",
       "<style scoped>\n",
       "    .dataframe tbody tr th:only-of-type {\n",
       "        vertical-align: middle;\n",
       "    }\n",
       "\n",
       "    .dataframe tbody tr th {\n",
       "        vertical-align: top;\n",
       "    }\n",
       "\n",
       "    .dataframe thead th {\n",
       "        text-align: right;\n",
       "    }\n",
       "</style>\n",
       "<table border=\"1\" class=\"dataframe\">\n",
       "  <thead>\n",
       "    <tr style=\"text-align: right;\">\n",
       "      <th></th>\n",
       "      <th>text</th>\n",
       "      <th>label</th>\n",
       "    </tr>\n",
       "  </thead>\n",
       "  <tbody>\n",
       "    <tr>\n",
       "      <th>0</th>\n",
       "      <td>What is the reason for the presentation at the...</td>\n",
       "      <td>visit_reason</td>\n",
       "    </tr>\n",
       "    <tr>\n",
       "      <th>1</th>\n",
       "      <td>When did the symptoms start?</td>\n",
       "      <td>symptoms_start</td>\n",
       "    </tr>\n",
       "    <tr>\n",
       "      <th>2</th>\n",
       "      <td>What are the circumstances of the onset of sym...</td>\n",
       "      <td>symptoms_circumstances</td>\n",
       "    </tr>\n",
       "    <tr>\n",
       "      <th>3</th>\n",
       "      <td>Were there any changes in symptoms from onset ...</td>\n",
       "      <td>symptoms_changes</td>\n",
       "    </tr>\n",
       "    <tr>\n",
       "      <th>4</th>\n",
       "      <td>Do you know of any illness that your mother or...</td>\n",
       "      <td>diseases_parents</td>\n",
       "    </tr>\n",
       "  </tbody>\n",
       "</table>\n",
       "</div>"
      ],
      "text/plain": [
       "                                                text                   label\n",
       "0  What is the reason for the presentation at the...            visit_reason\n",
       "1                       When did the symptoms start?          symptoms_start\n",
       "2  What are the circumstances of the onset of sym...  symptoms_circumstances\n",
       "3  Were there any changes in symptoms from onset ...        symptoms_changes\n",
       "4  Do you know of any illness that your mother or...        diseases_parents"
      ]
     },
     "execution_count": 4,
     "metadata": {},
     "output_type": "execute_result"
    }
   ],
   "source": [
    "dir_path = os.path.join(\"database\", \"personas\")\n",
    "\n",
    "with open(os.path.join(dir_path, \"en_personas.json\")) as f:\n",
    "    data = json.load(f)\n",
    "    texts = []\n",
    "    labels = []\n",
    "    for persona in data:\n",
    "        for dialog_entity in persona[\"dialog\"]:\n",
    "            if not \"questions\" in dialog_entity:\n",
    "                print(dialog_entity)\n",
    "            \n",
    "            for question in dialog_entity[\"questions\"]:\n",
    "                texts.append(question)\n",
    "                labels.append(dialog_entity[\"label\"])\n",
    "    df_persona = pd.DataFrame(\n",
    "        {\n",
    "            \"text\": texts,\n",
    "            \"label\": labels\n",
    "        }\n",
    "    )\n",
    "df_persona.head()"
   ]
  },
  {
   "cell_type": "code",
   "execution_count": 5,
   "id": "0bf5ba26-e4bd-4121-90f7-2ff5d71c3339",
   "metadata": {},
   "outputs": [
    {
     "data": {
      "text/plain": [
       "greetings                 90\n",
       "diseases_personal         18\n",
       "chronic_treatment         16\n",
       "visit_reason              15\n",
       "symptoms_start            15\n",
       "symptoms_circumstances    15\n",
       "symptoms_changes          15\n",
       "diseases_parents          15\n",
       "surgeries                 15\n",
       "chest_pain                15\n",
       "fainting_symptoms         15\n",
       "palpitations_symptoms     15\n",
       "cough_symptoms            15\n",
       "fever_symptoms            15\n",
       "Name: label, dtype: int64"
      ]
     },
     "execution_count": 5,
     "metadata": {},
     "output_type": "execute_result"
    }
   ],
   "source": [
    "counts = df_persona[\"label\"].value_counts()\n",
    "counts"
   ]
  },
  {
   "cell_type": "code",
   "execution_count": 6,
   "id": "d3e79d7e-63ac-4674-aa57-e66ae5343871",
   "metadata": {},
   "outputs": [
    {
     "data": {
      "text/plain": [
       "visit_reason              41\n",
       "diseases_parents          21\n",
       "symptoms_start            19\n",
       "fainting_symptoms         18\n",
       "chronic_treatment         18\n",
       "diseases_personal         15\n",
       "fever_symptoms            14\n",
       "greetings                 14\n",
       "symptoms_circumstances    14\n",
       "symptoms_changes          13\n",
       "palpitations_symptoms     13\n",
       "cough_symptoms             8\n",
       "surgeries                  7\n",
       "chest_pain                 6\n",
       "Name: label, dtype: int64"
      ]
     },
     "execution_count": 6,
     "metadata": {},
     "output_type": "execute_result"
    }
   ],
   "source": [
    "df_combined = pd.concat([df, df_persona], ignore_index=True)\n",
    "df_combined = df_combined.drop_duplicates([\"text\"])\n",
    "df_combined[\"label\"].value_counts()"
   ]
  },
  {
   "cell_type": "code",
   "execution_count": 7,
   "id": "9b075f34-2b85-4d58-998b-c22e31f11d42",
   "metadata": {},
   "outputs": [
    {
     "data": {
      "text/plain": [
       "{'symptoms_changes': 0,\n",
       " 'diseases_personal': 1,\n",
       " 'fever_symptoms': 2,\n",
       " 'surgeries': 3,\n",
       " 'cough_symptoms': 4,\n",
       " 'fainting_symptoms': 5,\n",
       " 'palpitations_symptoms': 6,\n",
       " 'greetings': 7,\n",
       " 'symptoms_start': 8,\n",
       " 'visit_reason': 9,\n",
       " 'chronic_treatment': 10,\n",
       " 'symptoms_circumstances': 11,\n",
       " 'chest_pain': 12,\n",
       " 'diseases_parents': 13}"
      ]
     },
     "execution_count": 7,
     "metadata": {},
     "output_type": "execute_result"
    }
   ],
   "source": [
    "label_to_idx = {label: idx for idx, label in enumerate(df_combined[\"label\"].unique())}\n",
    "label_to_idx"
   ]
  },
  {
   "cell_type": "code",
   "execution_count": 8,
   "id": "4091664f-3d2f-4667-b133-3a6a2e73abcb",
   "metadata": {},
   "outputs": [
    {
     "data": {
      "text/html": [
       "<div>\n",
       "<style scoped>\n",
       "    .dataframe tbody tr th:only-of-type {\n",
       "        vertical-align: middle;\n",
       "    }\n",
       "\n",
       "    .dataframe tbody tr th {\n",
       "        vertical-align: top;\n",
       "    }\n",
       "\n",
       "    .dataframe thead th {\n",
       "        text-align: right;\n",
       "    }\n",
       "</style>\n",
       "<table border=\"1\" class=\"dataframe\">\n",
       "  <thead>\n",
       "    <tr style=\"text-align: right;\">\n",
       "      <th></th>\n",
       "      <th>text</th>\n",
       "      <th>label</th>\n",
       "      <th>label_id</th>\n",
       "    </tr>\n",
       "  </thead>\n",
       "  <tbody>\n",
       "    <tr>\n",
       "      <th>0</th>\n",
       "      <td>A aparut ceva nou in simptomatologia dumneavoa...</td>\n",
       "      <td>symptoms_changes</td>\n",
       "      <td>0</td>\n",
       "    </tr>\n",
       "    <tr>\n",
       "      <th>1</th>\n",
       "      <td>Alte probleme de sanatate ati avut</td>\n",
       "      <td>diseases_personal</td>\n",
       "      <td>1</td>\n",
       "    </tr>\n",
       "    <tr>\n",
       "      <th>2</th>\n",
       "      <td>Ati avut frisoane de curand</td>\n",
       "      <td>fever_symptoms</td>\n",
       "      <td>2</td>\n",
       "    </tr>\n",
       "    <tr>\n",
       "      <th>3</th>\n",
       "      <td>Ati avut o interventie chirurgicala</td>\n",
       "      <td>surgeries</td>\n",
       "      <td>3</td>\n",
       "    </tr>\n",
       "    <tr>\n",
       "      <th>4</th>\n",
       "      <td>Ati avut tuse cu sputa</td>\n",
       "      <td>cough_symptoms</td>\n",
       "      <td>4</td>\n",
       "    </tr>\n",
       "  </tbody>\n",
       "</table>\n",
       "</div>"
      ],
      "text/plain": [
       "                                                text              label  \\\n",
       "0  A aparut ceva nou in simptomatologia dumneavoa...   symptoms_changes   \n",
       "1                 Alte probleme de sanatate ati avut  diseases_personal   \n",
       "2                        Ati avut frisoane de curand     fever_symptoms   \n",
       "3                Ati avut o interventie chirurgicala          surgeries   \n",
       "4                             Ati avut tuse cu sputa     cough_symptoms   \n",
       "\n",
       "   label_id  \n",
       "0         0  \n",
       "1         1  \n",
       "2         2  \n",
       "3         3  \n",
       "4         4  "
      ]
     },
     "execution_count": 8,
     "metadata": {},
     "output_type": "execute_result"
    }
   ],
   "source": [
    "df_combined[\"label_id\"] = df_combined[\"label\"].apply(lambda s: label_to_idx[s])\n",
    "df_combined.head()"
   ]
  },
  {
   "cell_type": "code",
   "execution_count": 9,
   "id": "dcc9e506-7921-4eb0-bc86-32e10223b2e3",
   "metadata": {},
   "outputs": [],
   "source": [
    "train_df = df_combined.groupby(\"label\").sample(frac=0.8, random_state=42)\n",
    "valid_df = df_combined.drop(train_df.index)"
   ]
  },
  {
   "cell_type": "code",
   "execution_count": 10,
   "id": "be84065f-0a1e-4bcb-8b44-cd57821ab594",
   "metadata": {},
   "outputs": [],
   "source": [
    "batch_size = 12\n",
    "\n",
    "train_dataset = (tf.data.Dataset\n",
    "                 .from_tensor_slices((train_df[\"text\"], train_df[\"label_id\"]))\n",
    "                 .batch(batch_size))\n",
    "\n",
    "valid_dataset = (tf.data.Dataset\n",
    "                 .from_tensor_slices((valid_df[\"text\"], valid_df[\"label_id\"]))\n",
    "                 .batch(batch_size))"
   ]
  },
  {
   "cell_type": "code",
   "execution_count": 11,
   "id": "835ef4c9-5b52-44e3-ba0d-c96e7b233455",
   "metadata": {},
   "outputs": [],
   "source": [
    "VOCAB_SIZE = 10_000\n",
    "encoder = tf.keras.layers.TextVectorization(\n",
    "    max_tokens=VOCAB_SIZE\n",
    ")\n",
    "encoder.adapt(df_combined[\"text\"])"
   ]
  },
  {
   "cell_type": "code",
   "execution_count": 12,
   "id": "a4651934-961c-4c0b-8f64-e63233bb71b7",
   "metadata": {},
   "outputs": [
    {
     "data": {
      "text/plain": [
       "<tf.Tensor: shape=(4, 7), dtype=int64, numpy=\n",
       "array([[ 21,  65,  20, 256,  11,  94,  52],\n",
       "       [ 84,  73,   2, 232,  10,   7,   0],\n",
       "       [ 10,   7,  62,   2, 173,   0,   0],\n",
       "       [ 10,   7,  28, 159, 179,   0,   0]], dtype=int64)>"
      ]
     },
     "execution_count": 12,
     "metadata": {},
     "output_type": "execute_result"
    }
   ],
   "source": [
    "encoder(df_combined.loc[:3, \"text\"])"
   ]
  },
  {
   "cell_type": "code",
   "execution_count": 13,
   "id": "61d7cbf5-1791-4fd6-9e7f-39806462d237",
   "metadata": {},
   "outputs": [
    {
     "name": "stdout",
     "output_type": "stream",
     "text": [
      "Model: \"sequential\"\n",
      "_________________________________________________________________\n",
      " Layer (type)                Output Shape              Param #   \n",
      "=================================================================\n",
      " text_vectorization (TextVec  (None, None)             0         \n",
      " torization)                                                     \n",
      "                                                                 \n",
      " embedding (Embedding)       (None, None, 64)          22272     \n",
      "                                                                 \n",
      " bidirectional (Bidirectiona  (None, None, 128)        66048     \n",
      " l)                                                              \n",
      "                                                                 \n",
      " bidirectional_1 (Bidirectio  (None, 128)              98816     \n",
      " nal)                                                            \n",
      "                                                                 \n",
      " dense (Dense)               (None, 14)                1806      \n",
      "                                                                 \n",
      "=================================================================\n",
      "Total params: 188,942\n",
      "Trainable params: 188,942\n",
      "Non-trainable params: 0\n",
      "_________________________________________________________________\n"
     ]
    }
   ],
   "source": [
    "output_dim = 64\n",
    "units = 64\n",
    "\n",
    "model = tf.keras.Sequential([\n",
    "    tf.keras.layers.Input(shape=(), dtype=tf.string),\n",
    "    encoder,\n",
    "    tf.keras.layers.Embedding(\n",
    "        input_dim=len(encoder.get_vocabulary()),\n",
    "        output_dim=output_dim,\n",
    "        # Use masking to handle the variable sequence lengths\n",
    "        mask_zero=True),\n",
    "    tf.keras.layers.Bidirectional(tf.keras.layers.LSTM(units, return_sequences=True)),\n",
    "    tf.keras.layers.Bidirectional(tf.keras.layers.LSTM(units)),\n",
    "    tf.keras.layers.Dense(len(label_to_idx)),\n",
    "])\n",
    "\n",
    "model.summary()"
   ]
  },
  {
   "cell_type": "code",
   "execution_count": 14,
   "id": "e02c0545-51e3-4b7f-97f9-4499501fca1c",
   "metadata": {},
   "outputs": [
    {
     "name": "stdout",
     "output_type": "stream",
     "text": [
      "[False, True, True, True, True]\n"
     ]
    }
   ],
   "source": [
    "print([layer.supports_masking for layer in model.layers])"
   ]
  },
  {
   "cell_type": "code",
   "execution_count": 15,
   "id": "3cf6bd42-f95a-40e6-899a-375b1e26d3e9",
   "metadata": {},
   "outputs": [],
   "source": [
    "model.compile(\n",
    "    optimizer=tf.keras.optimizers.Adam(1e-4),\n",
    "    loss=tf.keras.losses.SparseCategoricalCrossentropy(from_logits=True),\n",
    "    metrics=[tf.keras.metrics.SparseCategoricalAccuracy()]\n",
    ")"
   ]
  },
  {
   "cell_type": "code",
   "execution_count": null,
   "id": "ccc5512b-8bf8-412b-9ff1-62ec7ffca4c6",
   "metadata": {
    "tags": []
   },
   "outputs": [
    {
     "name": "stdout",
     "output_type": "stream",
     "text": [
      "Epoch 1/100\n",
      "15/15 [==============================] - 59s 765ms/step - loss: 2.6403 - sparse_categorical_accuracy: 0.0343 - val_loss: 2.6382 - val_sparse_categorical_accuracy: 0.0870\n",
      "Epoch 2/100\n",
      "15/15 [==============================] - 6s 395ms/step - loss: 2.6368 - sparse_categorical_accuracy: 0.1543 - val_loss: 2.6363 - val_sparse_categorical_accuracy: 0.1522\n",
      "Epoch 3/100\n",
      "15/15 [==============================] - 6s 393ms/step - loss: 2.6343 - sparse_categorical_accuracy: 0.2457 - val_loss: 2.6340 - val_sparse_categorical_accuracy: 0.2174\n",
      "Epoch 4/100\n",
      "15/15 [==============================] - 6s 401ms/step - loss: 2.6317 - sparse_categorical_accuracy: 0.2800 - val_loss: 2.6317 - val_sparse_categorical_accuracy: 0.2174\n",
      "Epoch 5/100\n",
      "15/15 [==============================] - 6s 395ms/step - loss: 2.6290 - sparse_categorical_accuracy: 0.2800 - val_loss: 2.6292 - val_sparse_categorical_accuracy: 0.2174\n",
      "Epoch 6/100\n",
      "15/15 [==============================] - 6s 389ms/step - loss: 2.6259 - sparse_categorical_accuracy: 0.2914 - val_loss: 2.6275 - val_sparse_categorical_accuracy: 0.2391\n",
      "Epoch 7/100\n",
      "15/15 [==============================] - 6s 395ms/step - loss: 2.6225 - sparse_categorical_accuracy: 0.2629 - val_loss: 2.6238 - val_sparse_categorical_accuracy: 0.2391\n",
      "Epoch 8/100\n",
      "15/15 [==============================] - 6s 396ms/step - loss: 2.6187 - sparse_categorical_accuracy: 0.2629 - val_loss: 2.6198 - val_sparse_categorical_accuracy: 0.2391\n",
      "Epoch 9/100\n",
      "15/15 [==============================] - 5s 385ms/step - loss: 2.6141 - sparse_categorical_accuracy: 0.2571 - val_loss: 2.6161 - val_sparse_categorical_accuracy: 0.2391\n",
      "Epoch 10/100\n",
      "15/15 [==============================] - 6s 399ms/step - loss: 2.6088 - sparse_categorical_accuracy: 0.2571 - val_loss: 2.6114 - val_sparse_categorical_accuracy: 0.2391\n",
      "Epoch 11/100\n",
      "15/15 [==============================] - 6s 403ms/step - loss: 2.6024 - sparse_categorical_accuracy: 0.2571 - val_loss: 2.6043 - val_sparse_categorical_accuracy: 0.2391\n",
      "Epoch 12/100\n",
      "15/15 [==============================] - 1s 64ms/step - loss: 2.5947 - sparse_categorical_accuracy: 0.2571 - val_loss: 2.5969 - val_sparse_categorical_accuracy: 0.2391\n",
      "Epoch 13/100\n",
      "15/15 [==============================] - 6s 64ms/step - loss: 2.5851 - sparse_categorical_accuracy: 0.2571 - val_loss: 2.5889 - val_sparse_categorical_accuracy: 0.2391\n",
      "Epoch 14/100\n",
      "15/15 [==============================] - 6s 410ms/step - loss: 2.5730 - sparse_categorical_accuracy: 0.2571 - val_loss: 2.5781 - val_sparse_categorical_accuracy: 0.2391\n",
      "Epoch 15/100\n",
      "15/15 [==============================] - 6s 395ms/step - loss: 2.5576 - sparse_categorical_accuracy: 0.2571 - val_loss: 2.5636 - val_sparse_categorical_accuracy: 0.2391\n",
      "Epoch 16/100\n",
      "15/15 [==============================] - 6s 416ms/step - loss: 2.5374 - sparse_categorical_accuracy: 0.2571 - val_loss: 2.5419 - val_sparse_categorical_accuracy: 0.2391\n",
      "Epoch 17/100\n",
      "15/15 [==============================] - 6s 405ms/step - loss: 2.5107 - sparse_categorical_accuracy: 0.2571 - val_loss: 2.5196 - val_sparse_categorical_accuracy: 0.2391\n",
      "Epoch 18/100\n",
      "15/15 [==============================] - 6s 411ms/step - loss: 2.4747 - sparse_categorical_accuracy: 0.2571 - val_loss: 2.4872 - val_sparse_categorical_accuracy: 0.2391\n",
      "Epoch 19/100\n",
      "15/15 [==============================] - 5s 366ms/step - loss: 2.4270 - sparse_categorical_accuracy: 0.2629 - val_loss: 2.4358 - val_sparse_categorical_accuracy: 0.2391\n",
      "Epoch 20/100\n",
      "15/15 [==============================] - 5s 361ms/step - loss: 2.3686 - sparse_categorical_accuracy: 0.2686 - val_loss: 2.3792 - val_sparse_categorical_accuracy: 0.2391\n",
      "Epoch 21/100\n",
      "15/15 [==============================] - 5s 363ms/step - loss: 2.3072 - sparse_categorical_accuracy: 0.2743 - val_loss: 2.3107 - val_sparse_categorical_accuracy: 0.2391\n",
      "Epoch 22/100\n",
      "15/15 [==============================] - 5s 361ms/step - loss: 2.2463 - sparse_categorical_accuracy: 0.2914 - val_loss: 2.2419 - val_sparse_categorical_accuracy: 0.2609\n",
      "Epoch 23/100\n",
      "15/15 [==============================] - 5s 359ms/step - loss: 2.1820 - sparse_categorical_accuracy: 0.2971 - val_loss: 2.1823 - val_sparse_categorical_accuracy: 0.2609\n",
      "Epoch 24/100\n",
      "15/15 [==============================] - 5s 357ms/step - loss: 2.1165 - sparse_categorical_accuracy: 0.3371 - val_loss: 2.1281 - val_sparse_categorical_accuracy: 0.3043\n",
      "Epoch 25/100\n",
      "15/15 [==============================] - 5s 359ms/step - loss: 2.0544 - sparse_categorical_accuracy: 0.3486 - val_loss: 2.0794 - val_sparse_categorical_accuracy: 0.3043\n",
      "Epoch 26/100\n",
      "15/15 [==============================] - 5s 360ms/step - loss: 1.9982 - sparse_categorical_accuracy: 0.3486 - val_loss: 2.0534 - val_sparse_categorical_accuracy: 0.3261\n",
      "Epoch 27/100\n",
      "15/15 [==============================] - 5s 360ms/step - loss: 1.9485 - sparse_categorical_accuracy: 0.3657 - val_loss: 2.0347 - val_sparse_categorical_accuracy: 0.3478\n",
      "Epoch 28/100\n",
      "15/15 [==============================] - 5s 358ms/step - loss: 1.9070 - sparse_categorical_accuracy: 0.3714 - val_loss: 2.0235 - val_sparse_categorical_accuracy: 0.3478\n",
      "Epoch 29/100\n",
      "15/15 [==============================] - 5s 357ms/step - loss: 1.8657 - sparse_categorical_accuracy: 0.3943 - val_loss: 2.0093 - val_sparse_categorical_accuracy: 0.3478\n",
      "Epoch 30/100\n",
      "15/15 [==============================] - 1s 55ms/step - loss: 1.8293 - sparse_categorical_accuracy: 0.3943 - val_loss: 2.0013 - val_sparse_categorical_accuracy: 0.3478\n",
      "Epoch 31/100\n",
      "15/15 [==============================] - 5s 63ms/step - loss: 1.7949 - sparse_categorical_accuracy: 0.4057 - val_loss: 1.9924 - val_sparse_categorical_accuracy: 0.3696\n",
      "Epoch 32/100\n",
      "15/15 [==============================] - 5s 360ms/step - loss: 1.7620 - sparse_categorical_accuracy: 0.4286 - val_loss: 1.9856 - val_sparse_categorical_accuracy: 0.3696\n",
      "Epoch 33/100\n",
      "15/15 [==============================] - 5s 369ms/step - loss: 1.7301 - sparse_categorical_accuracy: 0.4457 - val_loss: 1.9805 - val_sparse_categorical_accuracy: 0.3696\n",
      "Epoch 34/100\n",
      "15/15 [==============================] - 5s 372ms/step - loss: 1.6992 - sparse_categorical_accuracy: 0.4571 - val_loss: 1.9819 - val_sparse_categorical_accuracy: 0.3696\n",
      "Epoch 35/100\n",
      "15/15 [==============================] - 5s 364ms/step - loss: 1.6691 - sparse_categorical_accuracy: 0.4629 - val_loss: 1.9816 - val_sparse_categorical_accuracy: 0.3913\n",
      "Epoch 36/100\n",
      "15/15 [==============================] - 5s 359ms/step - loss: 1.6396 - sparse_categorical_accuracy: 0.4800 - val_loss: 1.9686 - val_sparse_categorical_accuracy: 0.3913\n",
      "Epoch 37/100\n",
      "15/15 [==============================] - 5s 373ms/step - loss: 1.6106 - sparse_categorical_accuracy: 0.4800 - val_loss: 1.9670 - val_sparse_categorical_accuracy: 0.3913\n",
      "Epoch 38/100\n",
      "15/15 [==============================] - 6s 428ms/step - loss: 1.5819 - sparse_categorical_accuracy: 0.4914 - val_loss: 1.9620 - val_sparse_categorical_accuracy: 0.3696\n",
      "Epoch 39/100\n",
      "15/15 [==============================] - 5s 382ms/step - loss: 1.5534 - sparse_categorical_accuracy: 0.4914 - val_loss: 1.9557 - val_sparse_categorical_accuracy: 0.3696\n",
      "Epoch 40/100\n",
      "15/15 [==============================] - 7s 499ms/step - loss: 1.5249 - sparse_categorical_accuracy: 0.5086 - val_loss: 1.9479 - val_sparse_categorical_accuracy: 0.3696\n",
      "Epoch 41/100\n",
      "15/15 [==============================] - 5s 389ms/step - loss: 1.4964 - sparse_categorical_accuracy: 0.5200 - val_loss: 1.9517 - val_sparse_categorical_accuracy: 0.3696\n",
      "Epoch 42/100\n",
      "15/15 [==============================] - 6s 410ms/step - loss: 1.4676 - sparse_categorical_accuracy: 0.5257 - val_loss: 1.9400 - val_sparse_categorical_accuracy: 0.3696\n",
      "Epoch 43/100\n",
      "15/15 [==============================] - 6s 432ms/step - loss: 1.4385 - sparse_categorical_accuracy: 0.5371 - val_loss: 1.9186 - val_sparse_categorical_accuracy: 0.3913\n",
      "Epoch 44/100\n",
      "15/15 [==============================] - 6s 405ms/step - loss: 1.4091 - sparse_categorical_accuracy: 0.5543 - val_loss: 1.9080 - val_sparse_categorical_accuracy: 0.3913\n",
      "Epoch 45/100\n",
      "15/15 [==============================] - ETA: 0s - loss: 1.3793 - sparse_categorical_accuracy: 0.5714"
     ]
    }
   ],
   "source": [
    "epochs = 100\n",
    "\n",
    "history = model.fit(\n",
    "    train_dataset,\n",
    "    epochs=epochs,\n",
    "    validation_data=valid_dataset\n",
    ")"
   ]
  },
  {
   "cell_type": "code",
   "execution_count": null,
   "id": "b33b1706-ca8a-4f8f-917c-9eaeab0bea2b",
   "metadata": {},
   "outputs": [],
   "source": [
    "fig, ax = plt.subplots(figsize=(10, 6), constrained_layout=True)\n",
    "ax.plot(history.history[\"loss\"], label=\"Training loss\")\n",
    "ax.plot(history.history[\"val_loss\"], label=\"Validation loss\")\n",
    "ax.set_xlabel(\"Epcohs\")\n",
    "ax.set_ylabel(\"Loss\")\n",
    "ax.set_xticks(np.arange(0, len(history.history[\"loss\"]) + 1, 10))\n",
    "ax.legend()\n",
    "plt.savefig(\"loss.png\")"
   ]
  },
  {
   "cell_type": "code",
   "execution_count": null,
   "id": "e0c04e00-08dd-42a0-9847-89883e1b7b6a",
   "metadata": {},
   "outputs": [],
   "source": [
    "fig, ax = plt.subplots(figsize=(10, 6), constrained_layout=True)\n",
    "ax.plot(history.history[\"sparse_categorical_accuracy\"], label=\"Training accuracy\")\n",
    "ax.plot(history.history[\"val_sparse_categorical_accuracy\"], label=\"Validation accuracy\")\n",
    "ax.set_xlabel(\"Epcohs\")\n",
    "ax.set_ylabel(\"Accuracy\")\n",
    "ax.set_xticks(np.arange(0, len(history.history[\"sparse_categorical_accuracy\"]) + 1, 10))\n",
    "ax.legend()\n",
    "fig.savefig(\"accuracy.png\")"
   ]
  },
  {
   "cell_type": "code",
   "execution_count": null,
   "id": "1758b5a2-f38b-4744-a952-672db5b8adaa",
   "metadata": {},
   "outputs": [],
   "source": [
    "metrics = model.evaluate(\n",
    "    df_combined[\"text\"].to_numpy(),\n",
    "    df_combined[\"label_id\"].to_numpy()\n",
    ")\n",
    "\n",
    "for metric_name, metric in zip(model.metrics_names, metrics):\n",
    "    print(f\"{metric_name:<8s}: {metric:.4f}\")"
   ]
  },
  {
   "cell_type": "code",
   "execution_count": null,
   "id": "88358fcd-45fe-4ec3-b1f3-0da72173d10b",
   "metadata": {},
   "outputs": [],
   "source": [
    "predictions_probabilities = model.predict(df_combined[\"text\"])\n",
    "predictions = np.argmax(predictions_probabilities, axis=1)\n",
    "\n",
    "y_true = df_combined[\"label_id\"].to_numpy()\n",
    "accuracy = accuracy_score(y_true, predictions)\n",
    "precision = precision_score(y_true, predictions, average=\"macro\")\n",
    "recall = precision_score(y_true, predictions, average=\"macro\")\n",
    "f1score = f1_score(y_true, predictions, average=\"macro\")\n",
    "\n",
    "print(f\"accuracy : {accuracy:.4f}\")\n",
    "print(f\"precision: {precision:.4f}\")\n",
    "print(f\"recall   : {recall:.4f}\")\n",
    "print(f\"F1       : {f1score:.4f}\")"
   ]
  },
  {
   "cell_type": "code",
   "execution_count": null,
   "id": "e05e20ae-0c80-4753-8582-06504910c210",
   "metadata": {},
   "outputs": [],
   "source": [
    "matrix = confusion_matrix(y_true, predictions)\n",
    "index = label_to_idx.keys()\n",
    "df = pd.DataFrame(matrix, index=index, columns=index)\n",
    "plt.figure(figsize=(10, 7))\n",
    "sns.heatmap(df, annot=True, fmt=\"d\")\n",
    "plt.savefig(\"confusion_matrix.png\")"
   ]
  },
  {
   "cell_type": "code",
   "execution_count": null,
   "id": "a74df3d0-323d-4c49-96cb-363f6b3cec06",
   "metadata": {},
   "outputs": [],
   "source": [
    "model.save(\"rnn\")"
   ]
  },
  {
   "cell_type": "code",
   "execution_count": null,
   "id": "46c061d0-b80b-4353-9241-e222c09bd2ac",
   "metadata": {},
   "outputs": [],
   "source": [
    "# with open(\"label_to_idx.json\", \"w\", encoding=\"utf-8\") as f:\n",
    "#     json.dump(label_to_idx, f)"
   ]
  }
 ],
 "metadata": {
  "kernelspec": {
   "display_name": "licenta",
   "language": "python",
   "name": "licenta"
  },
  "language_info": {
   "codemirror_mode": {
    "name": "ipython",
    "version": 3
   },
   "file_extension": ".py",
   "mimetype": "text/x-python",
   "name": "python",
   "nbconvert_exporter": "python",
   "pygments_lexer": "ipython3",
   "version": "3.8.13"
  }
 },
 "nbformat": 4,
 "nbformat_minor": 5
}
