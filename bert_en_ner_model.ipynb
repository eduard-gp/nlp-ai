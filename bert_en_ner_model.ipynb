{
 "cells": [
  {
   "cell_type": "code",
   "execution_count": 1,
   "id": "6o60Wcp-aj50",
   "metadata": {
    "id": "6o60Wcp-aj50"
   },
   "outputs": [],
   "source": [
    "# !pip install tensorflow_text==\"2.9.*\""
   ]
  },
  {
   "cell_type": "code",
   "execution_count": 2,
   "id": "deb91735-0006-428f-8bdd-7241b317f384",
   "metadata": {
    "executionInfo": {
     "elapsed": 21,
     "status": "ok",
     "timestamp": 1655560153971,
     "user": {
      "displayName": "Eduard Popescu",
      "userId": "10659994374525234384"
     },
     "user_tz": -180
    },
    "id": "deb91735-0006-428f-8bdd-7241b317f384"
   },
   "outputs": [],
   "source": [
    "import pandas as pd\n",
    "import numpy as np\n",
    "import tensorflow as tf\n",
    "import tensorflow_text as text\n",
    "import tensorflow_hub as hub\n",
    "import os\n",
    "import matplotlib.pyplot as plt\n",
    "from sklearn.metrics import precision_score, accuracy_score, recall_score, f1_score, confusion_matrix\n",
    "import pandas as pd\n",
    "import seaborn as sns\n",
    "\n",
    "import preprocess_utils as pre"
   ]
  },
  {
   "cell_type": "code",
   "execution_count": 37,
   "id": "pWTu-A50bQWE",
   "metadata": {
    "colab": {
     "base_uri": "https://localhost:8080/",
     "height": 35
    },
    "executionInfo": {
     "elapsed": 22,
     "status": "ok",
     "timestamp": 1655560153973,
     "user": {
      "displayName": "Eduard Popescu",
      "userId": "10659994374525234384"
     },
     "user_tz": -180
    },
    "id": "pWTu-A50bQWE",
    "outputId": "a3ea99a8-fb64-4601-f1f7-2bd6c98d4987"
   },
   "outputs": [
    {
     "name": "stdout",
     "output_type": "stream",
     "text": [
      "Tensorflow version:  2.9.1\n",
      "[PhysicalDevice(name='/physical_device:GPU:0', device_type='GPU')]\n"
     ]
    }
   ],
   "source": [
    "print(\"Tensorflow version: \", tf.__version__)\n",
    "print(tf.config.list_physical_devices(\"GPU\"))"
   ]
  },
  {
   "cell_type": "code",
   "execution_count": 4,
   "id": "m2cfiTZQZ8lu",
   "metadata": {
    "colab": {
     "base_uri": "https://localhost:8080/"
    },
    "executionInfo": {
     "elapsed": 38888,
     "status": "ok",
     "timestamp": 1655560192841,
     "user": {
      "displayName": "Eduard Popescu",
      "userId": "10659994374525234384"
     },
     "user_tz": -180
    },
    "id": "m2cfiTZQZ8lu",
    "outputId": "fc2ac6be-26ca-4c07-ff0b-54cec2c6feba"
   },
   "outputs": [],
   "source": [
    "# from google.colab import drive\n",
    "# drive.mount('/content/drive')"
   ]
  },
  {
   "cell_type": "code",
   "execution_count": 5,
   "id": "yi4PiWmDaNvf",
   "metadata": {
    "executionInfo": {
     "elapsed": 14,
     "status": "ok",
     "timestamp": 1655560192842,
     "user": {
      "displayName": "Eduard Popescu",
      "userId": "10659994374525234384"
     },
     "user_tz": -180
    },
    "id": "yi4PiWmDaNvf"
   },
   "outputs": [],
   "source": [
    "should_uncase = True\n",
    "\n",
    "def preprocess_uncased(text):\n",
    "    prep_text = []\n",
    "    for sentence in text:\n",
    "        prep_sentence = []\n",
    "        for word in sentence:\n",
    "            prep_sentence.append(word.lower())\n",
    "        prep_text.append(prep_sentence)\n",
    "    return prep_text\n",
    "\n",
    "dir_path = \"\""
   ]
  },
  {
   "cell_type": "code",
   "execution_count": 6,
   "id": "e7e7ff4f-44d7-4dcb-b0ce-581869e9810a",
   "metadata": {
    "colab": {
     "base_uri": "https://localhost:8080/"
    },
    "executionInfo": {
     "elapsed": 3537,
     "status": "ok",
     "timestamp": 1655560196368,
     "user": {
      "displayName": "Eduard Popescu",
      "userId": "10659994374525234384"
     },
     "user_tz": -180
    },
    "id": "e7e7ff4f-44d7-4dcb-b0ce-581869e9810a",
    "outputId": "c856bd61-a618-4e85-a59f-008dde10ceeb"
   },
   "outputs": [
    {
     "name": "stdout",
     "output_type": "stream",
     "text": [
      "Conll2003 dataset features: {'chunk_tags', 'entity_tags', 'tokens', 'pos_tags'}\n"
     ]
    }
   ],
   "source": [
    "data = pre.read_iob_file(os.path.join(dir_path, \"datasets\", \"conll2003\", \"train.txt\"))\n",
    "print(f\"Conll2003 dataset features: {set(data.keys())}\")"
   ]
  },
  {
   "cell_type": "code",
   "execution_count": 7,
   "id": "05f40594-26b0-44c2-822b-5ef714b61719",
   "metadata": {
    "colab": {
     "base_uri": "https://localhost:8080/"
    },
    "executionInfo": {
     "elapsed": 16,
     "status": "ok",
     "timestamp": 1655560196370,
     "user": {
      "displayName": "Eduard Popescu",
      "userId": "10659994374525234384"
     },
     "user_tz": -180
    },
    "id": "05f40594-26b0-44c2-822b-5ef714b61719",
    "outputId": "c2737686-3039-452f-b0a7-005470ad0889"
   },
   "outputs": [
    {
     "name": "stdout",
     "output_type": "stream",
     "text": [
      "Train dataset: 14041\n"
     ]
    }
   ],
   "source": [
    "train_text = data[\"tokens\"]\n",
    "if should_uncase:\n",
    "    train_text = preprocess_uncased(train_text)\n",
    "train_labels = data[\"entity_tags\"]\n",
    "print(f\"Train dataset: {len(train_text)}\")"
   ]
  },
  {
   "cell_type": "code",
   "execution_count": 8,
   "id": "bce992f8-8fdb-4285-b18a-696d2ea55617",
   "metadata": {
    "colab": {
     "base_uri": "https://localhost:8080/"
    },
    "executionInfo": {
     "elapsed": 416,
     "status": "ok",
     "timestamp": 1655560196778,
     "user": {
      "displayName": "Eduard Popescu",
      "userId": "10659994374525234384"
     },
     "user_tz": -180
    },
    "id": "bce992f8-8fdb-4285-b18a-696d2ea55617",
    "outputId": "98e3f500-2754-4af5-92c7-95823ff8b5e8"
   },
   "outputs": [
    {
     "name": "stdout",
     "output_type": "stream",
     "text": [
      "Validation dataset: 3250\n"
     ]
    }
   ],
   "source": [
    "data = pre.read_iob_file(os.path.join(dir_path, \"datasets\", \"conll2003\", \"valid.txt\"))\n",
    "valid_text = data[\"tokens\"]\n",
    "if should_uncase:\n",
    "    valid_text = preprocess_uncased(valid_text)\n",
    "valid_labels = data[\"entity_tags\"]\n",
    "print(f\"Validation dataset: {len(valid_text)}\")"
   ]
  },
  {
   "cell_type": "code",
   "execution_count": 9,
   "id": "13dcf43d-1d6a-4bea-9ff2-a6ef284a4ae6",
   "metadata": {
    "colab": {
     "base_uri": "https://localhost:8080/"
    },
    "executionInfo": {
     "elapsed": 2000,
     "status": "ok",
     "timestamp": 1655560198774,
     "user": {
      "displayName": "Eduard Popescu",
      "userId": "10659994374525234384"
     },
     "user_tz": -180
    },
    "id": "13dcf43d-1d6a-4bea-9ff2-a6ef284a4ae6",
    "outputId": "a2ff0471-2335-4862-bcea-3ae2b68b3a8b"
   },
   "outputs": [
    {
     "name": "stdout",
     "output_type": "stream",
     "text": [
      "Test dataset: 3453\n"
     ]
    }
   ],
   "source": [
    "data = pre.read_iob_file(os.path.join(dir_path, \"datasets\", \"conll2003\", \"test.txt\"))\n",
    "test_text = data[\"tokens\"]\n",
    "if should_uncase:\n",
    "    test_text = preprocess_uncased(test_text)\n",
    "test_labels = data[\"entity_tags\"]\n",
    "print(f\"Test dataset: {len(test_text)}\")"
   ]
  },
  {
   "cell_type": "code",
   "execution_count": 10,
   "id": "4b9b9a64-7785-441d-b479-233308d2e9a1",
   "metadata": {
    "colab": {
     "base_uri": "https://localhost:8080/"
    },
    "executionInfo": {
     "elapsed": 17,
     "status": "ok",
     "timestamp": 1655560198775,
     "user": {
      "displayName": "Eduard Popescu",
      "userId": "10659994374525234384"
     },
     "user_tz": -180
    },
    "id": "4b9b9a64-7785-441d-b479-233308d2e9a1",
    "outputId": "1fc83b29-bb60-4da0-e7e4-9699cfa6995a"
   },
   "outputs": [
    {
     "name": "stdout",
     "output_type": "stream",
     "text": [
      "Sentence: ['eu', 'rejects', 'german', 'call', 'to', 'boycott', 'british', 'lamb', '.']\n",
      "Labels:   ['B-ORG', 'O', 'B-MISC', 'O', 'O', 'O', 'B-MISC', 'O', 'O']\n"
     ]
    }
   ],
   "source": [
    "print(f\"Sentence: {train_text[0]}\")\n",
    "print(f\"Labels:   {train_labels[0]}\")"
   ]
  },
  {
   "cell_type": "code",
   "execution_count": 35,
   "id": "9cc2de9c-6c80-4c3f-bbd3-cb1c843b3c4b",
   "metadata": {
    "colab": {
     "base_uri": "https://localhost:8080/"
    },
    "executionInfo": {
     "elapsed": 16,
     "status": "ok",
     "timestamp": 1655560198777,
     "user": {
      "displayName": "Eduard Popescu",
      "userId": "10659994374525234384"
     },
     "user_tz": -180
    },
    "id": "9cc2de9c-6c80-4c3f-bbd3-cb1c843b3c4b",
    "outputId": "8e795ba4-9c24-46aa-8c9d-52e89694be8e"
   },
   "outputs": [
    {
     "data": {
      "text/plain": [
       "{'B-LOC': 1,\n",
       " 'B-MISC': 2,\n",
       " 'B-ORG': 3,\n",
       " 'B-PER': 4,\n",
       " 'I-LOC': 5,\n",
       " 'I-MISC': 6,\n",
       " 'I-ORG': 7,\n",
       " 'I-PER': 8,\n",
       " 'O': 9}"
      ]
     },
     "execution_count": 35,
     "metadata": {},
     "output_type": "execute_result"
    }
   ],
   "source": [
    "def get_unique_labels(labels):\n",
    "    unique_labels = set()\n",
    "    for sentence_labels in labels:\n",
    "        unique_labels.update(sentence_labels)\n",
    "    return unique_labels\n",
    "\n",
    "unique_labels = sorted(get_unique_labels(train_labels))\n",
    "label_to_idx = {label: idx+1 for idx, label in enumerate(unique_labels)}\n",
    "idx_to_label = {idx+1: label for idx, label in enumerate(unique_labels)}\n",
    "\n",
    "# these tags are important to convert\n",
    "# the prediction of the model to a string label\n",
    "label_to_idx"
   ]
  },
  {
   "cell_type": "code",
   "execution_count": 12,
   "id": "bef981e1-9301-4267-b80f-b0ad2f905a03",
   "metadata": {
    "executionInfo": {
     "elapsed": 10292,
     "status": "ok",
     "timestamp": 1655560209060,
     "user": {
      "displayName": "Eduard Popescu",
      "userId": "10659994374525234384"
     },
     "user_tz": -180
    },
    "id": "bef981e1-9301-4267-b80f-b0ad2f905a03"
   },
   "outputs": [],
   "source": [
    "MAX_SEQ_LENGTH = 30\n",
    "# tokenizer for small bert\n",
    "preprocessor = hub.load(\"https://tfhub.dev/tensorflow/bert_en_uncased_preprocess/3\")\n",
    "tokenizer = hub.KerasLayer(preprocessor.tokenize)\n",
    "packer = hub.KerasLayer(\n",
    "    preprocessor.bert_pack_inputs,\n",
    "    arguments=dict(seq_length=MAX_SEQ_LENGTH)\n",
    ")\n",
    "\n",
    "# tokenizer for multi bert\n",
    "# preprocessor = hub.load(\"https://tfhub.dev/tensorflow/bert_multi_cased_preprocess/3\")\n",
    "# tokenizer = hub.KerasLayer(preprocessor.tokenize)\n",
    "# packer = hub.KerasLayer(\n",
    "#     preprocessor.bert_pack_inputs,\n",
    "#     arguments=dict(seq_length=MAX_SEQ_LENGTH)\n",
    "# )"
   ]
  },
  {
   "cell_type": "code",
   "execution_count": 13,
   "id": "7358e5cc-be5c-4953-8141-e1b25a35f469",
   "metadata": {
    "colab": {
     "base_uri": "https://localhost:8080/"
    },
    "executionInfo": {
     "elapsed": 14,
     "status": "ok",
     "timestamp": 1655560209061,
     "user": {
      "displayName": "Eduard Popescu",
      "userId": "10659994374525234384"
     },
     "user_tz": -180
    },
    "id": "7358e5cc-be5c-4953-8141-e1b25a35f469",
    "outputId": "d89f8235-f884-46e2-df63-abce061bc80f"
   },
   "outputs": [
    {
     "name": "stdout",
     "output_type": "stream",
     "text": [
      "Special tokens:\n",
      "    end_of_segment_id   : 102\n",
      "    start_of_sequence_id: 101\n",
      "    mask_id             : 103\n",
      "    padding_id          : 0\n",
      "    vocab_size          : 30522\n"
     ]
    }
   ],
   "source": [
    "special_tokens = preprocessor.tokenize.get_special_tokens_dict()\n",
    "print(\"Special tokens:\")\n",
    "for key, value in special_tokens.items():\n",
    "    print(f\"    {key:20}: {value}\")"
   ]
  },
  {
   "cell_type": "code",
   "execution_count": 14,
   "id": "c063eb1a-4714-43a5-a4aa-ef6926f5bcd9",
   "metadata": {
    "executionInfo": {
     "elapsed": 11,
     "status": "ok",
     "timestamp": 1655560209063,
     "user": {
      "displayName": "Eduard Popescu",
      "userId": "10659994374525234384"
     },
     "user_tz": -180
    },
    "id": "c063eb1a-4714-43a5-a4aa-ef6926f5bcd9"
   },
   "outputs": [],
   "source": [
    "TOKEN_START = special_tokens[\"start_of_sequence_id\"]\n",
    "TOKEN_END = special_tokens[\"end_of_segment_id\"]\n",
    "TOKEN_PAD = special_tokens[\"padding_id\"]\n",
    "\n",
    "batch_size = 32"
   ]
  },
  {
   "cell_type": "code",
   "execution_count": 34,
   "id": "bb08e75f-eca4-4b89-bd2a-dd40605878c3",
   "metadata": {
    "executionInfo": {
     "elapsed": 9,
     "status": "ok",
     "timestamp": 1655560209063,
     "user": {
      "displayName": "Eduard Popescu",
      "userId": "10659994374525234384"
     },
     "user_tz": -180
    },
    "id": "bb08e75f-eca4-4b89-bd2a-dd40605878c3"
   },
   "outputs": [],
   "source": [
    "# Merge the last two dimensions of the tokens and\n",
    "# compute in how many subtoken a word was divided\n",
    "def merge_dims_and_get_tokens_length(tokens):\n",
    "    tokens = tokens.merge_dims(-2, -1)\n",
    "    num_subtokens_per_token = tf.map_fn(lambda token: tf.size(token), tokens, fn_output_signature=tf.int32)\n",
    "    return tokens, num_subtokens_per_token\n",
    "\n",
    "# Build a lookup table for labels\n",
    "init = tf.lookup.KeyValueTensorInitializer(\n",
    "    keys=unique_labels,\n",
    "    values=tf.range(1, len(unique_labels) + 1, dtype=tf.int64)\n",
    ")\n",
    "table = tf.lookup.StaticVocabularyTable(init, num_oov_buckets=1)\n",
    "\n",
    "def preprocess_dataset(tokens_info, labels):\n",
    "    tokens, num_subtokens_per_token = tokens_info\n",
    "    \n",
    "    # Bert packer works on batches so a new dimension is necessary\n",
    "    tokens = tf.expand_dims(tokens, axis=0)\n",
    "    packed_tokens = packer([tokens])\n",
    "    # The bert packer already has the output as a batch. This is necessary because\n",
    "    # we are preprocessing a list of string words (a sentence) instead of a list of\n",
    "    # string sentences. Thus if we want to batch this sentences we have to reshape.\n",
    "    packed_tokens[\"input_word_ids\"] = tf.reshape(packed_tokens[\"input_word_ids\"], (-1,))\n",
    "    packed_tokens[\"input_type_ids\"] = tf.reshape(packed_tokens[\"input_type_ids\"], (-1,))\n",
    "    packed_tokens[\"input_mask\"] = tf.reshape(packed_tokens[\"input_mask\"], (-1,))\n",
    "    \n",
    "    # Convert labels to ids and aligne them to the number of subtokens\n",
    "    labels_ids = table.lookup(labels)\n",
    "    aligned_labels_ids = tf.repeat(labels_ids, num_subtokens_per_token)\n",
    "    # The first token in packed tokens is TOKEN_START and the last is TOKEN_END\n",
    "    # Also the packed tokens are padded to MAX_SEQUENCE_LENGTH\n",
    "    logical_pos = tf.logical_and(\n",
    "        tf.not_equal(packed_tokens[\"input_word_ids\"], TOKEN_START),\n",
    "        tf.not_equal(packed_tokens[\"input_word_ids\"], TOKEN_END)\n",
    "    )\n",
    "    logical_pos = tf.logical_and(\n",
    "        logical_pos,\n",
    "        tf.not_equal(packed_tokens[\"input_word_ids\"], TOKEN_PAD)\n",
    "    )\n",
    "    \n",
    "    shape = packed_tokens[\"input_word_ids\"].shape\n",
    "    # When the labels are of length MAX_SEMAX_SEQ_LENGTH ingnore the last\n",
    "    # two labels because they are also discarded by the bert packer in favor\n",
    "    # of the START_TOKEN and END_TOKEN\n",
    "    labels_end_index = MAX_SEQ_LENGTH - 2\n",
    "    aligned_labels_ids = tf.scatter_nd(\n",
    "        tf.where(logical_pos),\n",
    "        aligned_labels_ids[:labels_end_index],\n",
    "        shape\n",
    "    )\n",
    "    return packed_tokens, aligned_labels_ids\n"
   ]
  },
  {
   "cell_type": "code",
   "execution_count": 16,
   "id": "7cb54e42-24ae-44a5-9f91-659354360afd",
   "metadata": {
    "executionInfo": {
     "elapsed": 6671,
     "status": "ok",
     "timestamp": 1655560215726,
     "user": {
      "displayName": "Eduard Popescu",
      "userId": "10659994374525234384"
     },
     "user_tz": -180
    },
    "id": "7cb54e42-24ae-44a5-9f91-659354360afd",
    "tags": []
   },
   "outputs": [],
   "source": [
    "# Train dataset\n",
    "train_text_ragged_tensors = tf.ragged.constant(train_text)\n",
    "train_labels_ragged_tensors = tf.ragged.constant(train_labels)\n",
    "\n",
    "train_text_dataset = (tf.data.Dataset.from_tensor_slices(train_text_ragged_tensors)\n",
    "                .map(lambda text: tokenizer(text))\n",
    "                .map(merge_dims_and_get_tokens_length)\n",
    "               )\n",
    "\n",
    "train_labels_dataset = tf.data.Dataset.from_tensor_slices(train_labels_ragged_tensors)\n",
    "\n",
    "train_dataset = (tf.data.Dataset.zip((train_text_dataset, train_labels_dataset))\n",
    "                 .map(preprocess_dataset)\n",
    "                 .batch(batch_size)\n",
    "                 .cache()\n",
    "                )\n",
    "\n",
    "# Validation dataset\n",
    "valid_text_ragged_tensors = tf.ragged.constant(valid_text)\n",
    "valid_labels_ragged_tensors = tf.ragged.constant(valid_labels)\n",
    "\n",
    "valid_text_dataset = (tf.data.Dataset.from_tensor_slices(valid_text_ragged_tensors)\n",
    "                .map(lambda text: tokenizer(text))\n",
    "                .map(merge_dims_and_get_tokens_length)\n",
    "               )\n",
    "\n",
    "valid_labels_dataset = tf.data.Dataset.from_tensor_slices(valid_labels_ragged_tensors)\n",
    "\n",
    "valid_dataset = (tf.data.Dataset.zip((valid_text_dataset, valid_labels_dataset))\n",
    "                 .map(preprocess_dataset)\n",
    "                 .batch(batch_size)\n",
    "                 .cache()\n",
    "                )\n",
    "\n",
    "# Test dataset\n",
    "test_text_ragged_tensors = tf.ragged.constant(test_text)\n",
    "test_labels_ragged_tensors = tf.ragged.constant(test_labels)\n",
    "\n",
    "test_text_dataset = (tf.data.Dataset.from_tensor_slices(test_text_ragged_tensors)\n",
    "                .map(lambda text: tokenizer(text))\n",
    "                .map(merge_dims_and_get_tokens_length)\n",
    "               )\n",
    "\n",
    "test_labels_dataset = tf.data.Dataset.from_tensor_slices(test_labels_ragged_tensors)\n",
    "\n",
    "test_dataset = (tf.data.Dataset.zip((test_text_dataset, test_labels_dataset))\n",
    "                 .map(preprocess_dataset)\n",
    "                 .batch(batch_size)\n",
    "                 .cache()\n",
    "                )"
   ]
  },
  {
   "cell_type": "code",
   "execution_count": 17,
   "id": "ab2ed3ec-0b17-491f-8681-e108a20057a7",
   "metadata": {
    "executionInfo": {
     "elapsed": 10,
     "status": "ok",
     "timestamp": 1655560215727,
     "user": {
      "displayName": "Eduard Popescu",
      "userId": "10659994374525234384"
     },
     "user_tz": -180
    },
    "id": "ab2ed3ec-0b17-491f-8681-e108a20057a7"
   },
   "outputs": [],
   "source": [
    "class IgnorePaddingSparseCategoricalCrossentropy(tf.keras.losses.Loss):\n",
    "    def __init__(self, from_logits=False, **kwargs):\n",
    "        super(IgnorePaddingSparseCategoricalCrossentropyLoss, self).__init__(**kwargs)\n",
    "        self.from_logits = from_logits\n",
    "        self.loss_fn = tf.keras.losses.SparseCategoricalCrossentropy(\n",
    "            from_logits=self.from_logits,\n",
    "            reduction=tf.keras.losses.Reduction.NONE\n",
    "        )\n",
    "    \n",
    "    def call(self, y_true, y_pred):\n",
    "        loss = self.loss_fn(y_true, y_pred)\n",
    "        mask = tf.cast(tf.not_equal(y_true,  0), dtype=tf.dtypes.float32)\n",
    "        loss = loss * mask\n",
    "        return tf.reduce_sum(loss) / tf.reduce_sum(mask)\n",
    "    \n",
    "    def get_config(self):\n",
    "        config = super().get_config()\n",
    "        config.update({\n",
    "            \"from_logits\": self.from_logits\n",
    "        })\n",
    "        return config"
   ]
  },
  {
   "cell_type": "code",
   "execution_count": 18,
   "id": "ZxN8epC8lISU",
   "metadata": {
    "executionInfo": {
     "elapsed": 9,
     "status": "ok",
     "timestamp": 1655560215728,
     "user": {
      "displayName": "Eduard Popescu",
      "userId": "10659994374525234384"
     },
     "user_tz": -180
    },
    "id": "ZxN8epC8lISU"
   },
   "outputs": [],
   "source": [
    "class IgnorePaddingSparseCategoricalAccuracy(tf.keras.metrics.Metric):\n",
    "    def __init__(self, name=\"accuracy\", **kwargs):\n",
    "        super(IgnorePaddingSparseCategoricalAccuracy, self).__init__(name=name, **kwargs)\n",
    "        self.total = self.add_weight(name=\"total\", initializer=\"zeros\")\n",
    "        self.count = self.add_weight(name=\"count\", initializer=\"zeros\")\n",
    "\n",
    "    def update_state(self, y_true, y_pred, sample_weight=None):\n",
    "        labels = tf.math.argmax(y_pred, axis=2)\n",
    "        mask = tf.not_equal(y_true, 0)\n",
    "        correct_predictions = tf.equal(y_true, labels)\n",
    "        correct_predictions = tf.cast(tf.logical_and(mask, correct_predictions),\n",
    "                                      dtype=tf.dtypes.float32)\n",
    "        total_labels = tf.cast(mask, dtype=tf.dtypes.float32)\n",
    "        self.count.assign_add(tf.reduce_sum(correct_predictions))\n",
    "        self.total.assign_add(tf.reduce_sum(total_labels))\n",
    "    \n",
    "    def result(self):\n",
    "        return self.count / self.total\n",
    "    \n",
    "    def reset_state(self):\n",
    "        self.total.assign(0.0)\n",
    "        self.count.assign(0.0)\n",
    "    \n",
    "    def get_config(self):\n",
    "        config = super().get_config()\n",
    "        return config"
   ]
  },
  {
   "cell_type": "code",
   "execution_count": 19,
   "id": "9aef9e7d-81a9-4784-8259-e77ca54549da",
   "metadata": {
    "executionInfo": {
     "elapsed": 50768,
     "status": "ok",
     "timestamp": 1655560266488,
     "user": {
      "displayName": "Eduard Popescu",
      "userId": "10659994374525234384"
     },
     "user_tz": -180
    },
    "id": "9aef9e7d-81a9-4784-8259-e77ca54549da"
   },
   "outputs": [],
   "source": [
    "encoder = hub.KerasLayer(\n",
    "    \"https://tfhub.dev/tensorflow/small_bert/bert_en_uncased_L-4_H-256_A-4/2\",\n",
    "    trainable=True\n",
    ")\n",
    "\n",
    "# encoder = hub.KerasLayer(\n",
    "#     \"https://tfhub.dev/tensorflow/small_bert/bert_en_uncased_L-6_H-256_A-4/2\",\n",
    "#     trainable=True\n",
    "# )\n",
    "\n",
    "# encoder = hub.KerasLayer(\n",
    "#     \"https://tfhub.dev/tensorflow/small_bert/bert_en_uncased_L-8_H-512_A-8/2\",\n",
    "#     trainable=True\n",
    "# )\n",
    "\n",
    "# encoder = hub.KerasLayer(\n",
    "#     \"https://tfhub.dev/tensorflow/small_bert/bert_en_uncased_L-10_H-512_A-8/2\",\n",
    "#     trainable=True\n",
    "# )\n",
    "\n",
    "# encoder = hub.KerasLayer(\n",
    "#     \"https://tfhub.dev/tensorflow/small_bert/bert_en_uncased_L-12_H-768_A-12/2\",\n",
    "#     trainable=True\n",
    "# )\n",
    "\n",
    "# encoder = hub.KerasLayer(\n",
    "#     \"https://tfhub.dev/tensorflow/bert_multi_cased_L-12_H-768_A-12/4\",\n",
    "#     trainable=True\n",
    "# )"
   ]
  },
  {
   "cell_type": "code",
   "execution_count": 20,
   "id": "6aa59c80-838a-459d-99d3-d16d544982f6",
   "metadata": {
    "executionInfo": {
     "elapsed": 1841,
     "status": "ok",
     "timestamp": 1655560268323,
     "user": {
      "displayName": "Eduard Popescu",
      "userId": "10659994374525234384"
     },
     "user_tz": -180
    },
    "id": "6aa59c80-838a-459d-99d3-d16d544982f6"
   },
   "outputs": [],
   "source": [
    "encoder_inputs = dict(\n",
    "    input_word_ids=tf.keras.layers.Input(shape=(MAX_SEQ_LENGTH,), dtype=tf.int32),\n",
    "    input_mask=tf.keras.layers.Input(shape=(MAX_SEQ_LENGTH,), dtype=tf.int32),\n",
    "    input_type_ids=tf.keras.layers.Input(shape=(MAX_SEQ_LENGTH,), dtype=tf.int32),\n",
    ")\n",
    "encoder_outputs = encoder(encoder_inputs)\n",
    "outputs = tf.keras.layers.TimeDistributed(tf.keras.layers.Dense(len(unique_labels) + 1))(encoder_outputs[\"sequence_output\"])\n",
    "\n",
    "model = tf.keras.Model(inputs=encoder_inputs, outputs=outputs)"
   ]
  },
  {
   "cell_type": "code",
   "execution_count": 21,
   "id": "c631027a-d60b-4ba9-ab82-2ffa40ed9917",
   "metadata": {
    "colab": {
     "base_uri": "https://localhost:8080/"
    },
    "executionInfo": {
     "elapsed": 23,
     "status": "ok",
     "timestamp": 1655560268324,
     "user": {
      "displayName": "Eduard Popescu",
      "userId": "10659994374525234384"
     },
     "user_tz": -180
    },
    "id": "c631027a-d60b-4ba9-ab82-2ffa40ed9917",
    "outputId": "ef2610dc-7904-49c8-bbc1-a40358188ad1"
   },
   "outputs": [
    {
     "name": "stdout",
     "output_type": "stream",
     "text": [
      "Model: \"model\"\n",
      "__________________________________________________________________________________________________\n",
      " Layer (type)                   Output Shape         Param #     Connected to                     \n",
      "==================================================================================================\n",
      " input_2 (InputLayer)           [(None, 30)]         0           []                               \n",
      "                                                                                                  \n",
      " input_3 (InputLayer)           [(None, 30)]         0           []                               \n",
      "                                                                                                  \n",
      " input_1 (InputLayer)           [(None, 30)]         0           []                               \n",
      "                                                                                                  \n",
      " keras_layer_2 (KerasLayer)     {'sequence_output':  11170561    ['input_2[0][0]',                \n",
      "                                 (None, 30, 256),                 'input_3[0][0]',                \n",
      "                                 'default': (None,                'input_1[0][0]']                \n",
      "                                256),                                                             \n",
      "                                 'pooled_output': (                                               \n",
      "                                None, 256),                                                       \n",
      "                                 'encoder_outputs':                                               \n",
      "                                 [(None, 30, 256),                                                \n",
      "                                 (None, 30, 256),                                                 \n",
      "                                 (None, 30, 256),                                                 \n",
      "                                 (None, 30, 256)]}                                                \n",
      "                                                                                                  \n",
      " time_distributed (TimeDistribu  (None, 30, 10)      2570        ['keras_layer_2[0][6]']          \n",
      " ted)                                                                                             \n",
      "                                                                                                  \n",
      "==================================================================================================\n",
      "Total params: 11,173,131\n",
      "Trainable params: 11,173,130\n",
      "Non-trainable params: 1\n",
      "__________________________________________________________________________________________________\n"
     ]
    }
   ],
   "source": [
    "model.summary()"
   ]
  },
  {
   "cell_type": "code",
   "execution_count": 22,
   "id": "d6e3e627-02f8-4cd5-ad48-6d7535f1ced7",
   "metadata": {
    "executionInfo": {
     "elapsed": 10,
     "status": "ok",
     "timestamp": 1655560268326,
     "user": {
      "displayName": "Eduard Popescu",
      "userId": "10659994374525234384"
     },
     "user_tz": -180
    },
    "id": "d6e3e627-02f8-4cd5-ad48-6d7535f1ced7"
   },
   "outputs": [],
   "source": [
    "epochs = 50\n",
    "train_data_size = len(train_text)\n",
    "steps_per_epoch = int(train_data_size / batch_size)\n",
    "num_train_steps = steps_per_epoch * epochs\n",
    "initial_learning_rate = 2e-5\n",
    "end_learning_rate = 1e-9\n",
    "\n",
    "linear_decay = tf.keras.optimizers.schedules.PolynomialDecay(\n",
    "    initial_learning_rate=initial_learning_rate,\n",
    "    end_learning_rate=end_learning_rate,\n",
    "    decay_steps=num_train_steps\n",
    ")\n",
    "\n",
    "model.compile(\n",
    "    optimizer=tf.keras.optimizers.Adam(linear_decay),\n",
    "    loss=IgnorePaddingSparseCategoricalCrossentropyLoss(from_logits=True),\n",
    "    metrics=[IgnorePaddingSparseCategoricalAccuracy()]\n",
    ")"
   ]
  },
  {
   "cell_type": "code",
   "execution_count": 23,
   "id": "4f0e52fc-0c7d-447b-b104-597d0e89282f",
   "metadata": {
    "colab": {
     "base_uri": "https://localhost:8080/"
    },
    "executionInfo": {
     "elapsed": 1556297,
     "status": "ok",
     "timestamp": 1655561824614,
     "user": {
      "displayName": "Eduard Popescu",
      "userId": "10659994374525234384"
     },
     "user_tz": -180
    },
    "id": "4f0e52fc-0c7d-447b-b104-597d0e89282f",
    "outputId": "373da3bb-cf95-42f5-9e8a-58c5b0aa2059"
   },
   "outputs": [
    {
     "name": "stdout",
     "output_type": "stream",
     "text": [
      "Epoch 1/50\n",
      "439/439 [==============================] - 90s 192ms/step - loss: 0.5466 - accuracy: 0.8436 - val_loss: 0.2497 - val_accuracy: 0.9236\n",
      "Epoch 2/50\n",
      "439/439 [==============================] - 144s 329ms/step - loss: 0.2427 - accuracy: 0.9251 - val_loss: 0.1638 - val_accuracy: 0.9487\n",
      "Epoch 3/50\n",
      "439/439 [==============================] - 167s 381ms/step - loss: 0.1764 - accuracy: 0.9436 - val_loss: 0.1354 - val_accuracy: 0.9564\n",
      "Epoch 4/50\n",
      "439/439 [==============================] - 171s 389ms/step - loss: 0.1434 - accuracy: 0.9534 - val_loss: 0.1204 - val_accuracy: 0.9612\n",
      "Epoch 5/50\n",
      "439/439 [==============================] - 185s 421ms/step - loss: 0.1182 - accuracy: 0.9609 - val_loss: 0.1114 - val_accuracy: 0.9641\n",
      "Epoch 6/50\n",
      "439/439 [==============================] - 208s 474ms/step - loss: 0.1020 - accuracy: 0.9661 - val_loss: 0.1064 - val_accuracy: 0.9654\n",
      "Epoch 7/50\n",
      "439/439 [==============================] - 198s 450ms/step - loss: 0.0887 - accuracy: 0.9701 - val_loss: 0.1014 - val_accuracy: 0.9676\n",
      "Epoch 8/50\n",
      "439/439 [==============================] - 185s 422ms/step - loss: 0.0752 - accuracy: 0.9745 - val_loss: 0.0997 - val_accuracy: 0.9685\n",
      "Epoch 9/50\n",
      "439/439 [==============================] - 198s 451ms/step - loss: 0.0676 - accuracy: 0.9770 - val_loss: 0.0990 - val_accuracy: 0.9696\n",
      "Epoch 10/50\n",
      "439/439 [==============================] - 201s 458ms/step - loss: 0.0600 - accuracy: 0.9795 - val_loss: 0.0989 - val_accuracy: 0.9699\n",
      "Epoch 11/50\n",
      "439/439 [==============================] - 209s 475ms/step - loss: 0.0528 - accuracy: 0.9819 - val_loss: 0.0996 - val_accuracy: 0.9704\n",
      "Epoch 12/50\n",
      "439/439 [==============================] - 259s 590ms/step - loss: 0.0471 - accuracy: 0.9838 - val_loss: 0.1007 - val_accuracy: 0.9712\n",
      "Epoch 13/50\n",
      "439/439 [==============================] - 243s 554ms/step - loss: 0.0425 - accuracy: 0.9853 - val_loss: 0.1014 - val_accuracy: 0.9717\n",
      "Epoch 14/50\n",
      "439/439 [==============================] - 236s 538ms/step - loss: 0.0377 - accuracy: 0.9869 - val_loss: 0.1037 - val_accuracy: 0.9718\n",
      "Epoch 15/50\n",
      "439/439 [==============================] - 218s 496ms/step - loss: 0.0345 - accuracy: 0.9877 - val_loss: 0.1055 - val_accuracy: 0.9719\n",
      "Epoch 16/50\n",
      "439/439 [==============================] - 212s 482ms/step - loss: 0.0308 - accuracy: 0.9893 - val_loss: 0.1073 - val_accuracy: 0.9713\n"
     ]
    }
   ],
   "source": [
    "history = model.fit(\n",
    "    train_dataset,\n",
    "    epochs=epochs,\n",
    "    validation_data=valid_dataset,\n",
    "    callbacks=[tf.keras.callbacks.EarlyStopping(\n",
    "        monitor=\"val_loss\",\n",
    "        patience=10,\n",
    "        min_delta=0.01\n",
    "    )]\n",
    ")"
   ]
  },
  {
   "cell_type": "code",
   "execution_count": 24,
   "id": "f7c7a98d-ee0d-4c8d-9b78-70991241935e",
   "metadata": {
    "colab": {
     "base_uri": "https://localhost:8080/",
     "height": 457
    },
    "executionInfo": {
     "elapsed": 758,
     "status": "ok",
     "timestamp": 1655561825354,
     "user": {
      "displayName": "Eduard Popescu",
      "userId": "10659994374525234384"
     },
     "user_tz": -180
    },
    "id": "f7c7a98d-ee0d-4c8d-9b78-70991241935e",
    "outputId": "3dcd5e13-15ef-4d3d-ee75-fc1c4e35ec0b"
   },
   "outputs": [
    {
     "data": {
      "image/png": "[encoded data removed]",
      "text/plain": [
       "<Figure size 720x432 with 1 Axes>"
      ]
     },
     "metadata": {
      "needs_background": "light"
     },
     "output_type": "display_data"
    }
   ],
   "source": [
    "fig, ax = plt.subplots(figsize=(10, 6), constrained_layout=True)\n",
    "\n",
    "ax.plot(history.history[\"loss\"], label=\"Training loss\")\n",
    "ax.plot(history.history[\"val_loss\"], label=\"Validation loss\")\n",
    "# index_min_val_loss = np.argmin(history.history[\"val_loss\"])\n",
    "# min_val_loss = history.history[\"val_loss\"][index_min_val_loss]\n",
    "# ax.plot([index_min_val_loss], [min_val_loss], marker=\"o\", color=\"C1\")\n",
    "ax.set_xlabel(\"Epochs\")\n",
    "ax.set_ylabel(\"Loss\")\n",
    "ax.set_xticks(np.arange(len(history.history[\"loss\"])))\n",
    "ax.legend()\n",
    "plt.savefig(\"loss.png\")"
   ]
  },
  {
   "cell_type": "code",
   "execution_count": 25,
   "id": "97cb27e1-f932-40d4-b591-22b77d3ca646",
   "metadata": {
    "colab": {
     "base_uri": "https://localhost:8080/",
     "height": 457
    },
    "executionInfo": {
     "elapsed": 1565,
     "status": "ok",
     "timestamp": 1655561826908,
     "user": {
      "displayName": "Eduard Popescu",
      "userId": "10659994374525234384"
     },
     "user_tz": -180
    },
    "id": "97cb27e1-f932-40d4-b591-22b77d3ca646",
    "outputId": "13347721-4d94-4821-8def-149868696678"
   },
   "outputs": [
    {
     "data": {
      "image/png": "[encoded data removed]",
      "text/plain": [
       "<Figure size 720x432 with 1 Axes>"
      ]
     },
     "metadata": {
      "needs_background": "light"
     },
     "output_type": "display_data"
    }
   ],
   "source": [
    "fig, ax = plt.subplots(figsize=(10, 6), constrained_layout=True)\n",
    "\n",
    "ax.plot(history.history[\"accuracy\"], label=\"Training accuracy\")\n",
    "ax.plot(history.history[\"val_accuracy\"], label=\"Validation accuracy\")\n",
    "# index_max_val_accuracy = np.argmax(history.history[\"val_accuracy\"])\n",
    "# max_val_accuracy = history.history[\"val_accuracy\"][index_min_val_loss]\n",
    "# ax.plot([index_max_val_accuracy], [max_val_accuracy], marker=\"o\", color=\"C1\")\n",
    "ax.set_xlabel(\"Epochs\")\n",
    "ax.set_ylabel(\"Accuracy\")\n",
    "ax.set_xticks(np.arange(len(history.history[\"accuracy\"])))\n",
    "ax.legend()\n",
    "plt.savefig(\"accuracy.png\")"
   ]
  },
  {
   "cell_type": "code",
   "execution_count": 26,
   "id": "TC_P8QQN0w3E",
   "metadata": {
    "colab": {
     "base_uri": "https://localhost:8080/"
    },
    "executionInfo": {
     "elapsed": 9754,
     "status": "ok",
     "timestamp": 1655561836650,
     "user": {
      "displayName": "Eduard Popescu",
      "userId": "10659994374525234384"
     },
     "user_tz": -180
    },
    "id": "TC_P8QQN0w3E",
    "outputId": "6aeb24f4-0ca8-43a4-daae-4f4c43e7bac3"
   },
   "outputs": [
    {
     "name": "stdout",
     "output_type": "stream",
     "text": [
      "108/108 [==============================] - 9s 73ms/step - loss: 0.1826 - accuracy: 0.9604\n",
      "loss    : 0.1826\n",
      "accuracy: 0.9604\n"
     ]
    }
   ],
   "source": [
    "metrics = model.evaluate(test_dataset)\n",
    "\n",
    "for metric_name, metric in zip(model.metrics_names, metrics):\n",
    "    print(f\"{metric_name:<8s}: {metric:.4f}\")"
   ]
  },
  {
   "cell_type": "code",
   "execution_count": 27,
   "id": "UXoINi867zCg",
   "metadata": {
    "colab": {
     "base_uri": "https://localhost:8080/"
    },
    "executionInfo": {
     "elapsed": 8421,
     "status": "ok",
     "timestamp": 1655561845064,
     "user": {
      "displayName": "Eduard Popescu",
      "userId": "10659994374525234384"
     },
     "user_tz": -180
    },
    "id": "UXoINi867zCg",
    "outputId": "5b9a9256-6370-4db7-c143-6d699e29bcf5"
   },
   "outputs": [
    {
     "name": "stdout",
     "output_type": "stream",
     "text": [
      "108/108 [==============================] - 15s 132ms/step\n",
      "accuracy : 0.9604\n",
      "precision: 0.8098\n",
      "recall   : 0.8347\n",
      "F1       : 0.8211\n"
     ]
    }
   ],
   "source": [
    "y_true = []\n",
    "for tokens, labels in test_dataset:\n",
    "    y_true.append(labels.numpy())\n",
    "y_true = np.concatenate(y_true, axis=0)\n",
    "\n",
    "predictions = model.predict(test_dataset)\n",
    "y_pred = np.argmax(predictions, axis=2)\n",
    "\n",
    "y_pred_raveled = y_pred[y_true != 0]\n",
    "y_true_raveled = y_true[y_true != 0]\n",
    "\n",
    "accuracy = accuracy_score(y_true_raveled, y_pred_raveled)\n",
    "precision = precision_score(y_true_raveled, y_pred_raveled, average=\"macro\")\n",
    "recall = recall_score(y_true_raveled, y_pred_raveled, average=\"macro\")\n",
    "f1score = f1_score(y_true_raveled, y_pred_raveled, average=\"macro\")\n",
    "print(f\"accuracy : {accuracy:.4f}\")\n",
    "print(f\"precision: {precision:.4f}\")\n",
    "print(f\"recall   : {recall:.4f}\")\n",
    "print(f\"F1       : {f1score:.4f}\")"
   ]
  },
  {
   "cell_type": "code",
   "execution_count": 28,
   "id": "aiDCj-5tXQVv",
   "metadata": {
    "colab": {
     "base_uri": "https://localhost:8080/",
     "height": 428
    },
    "executionInfo": {
     "elapsed": 802,
     "status": "ok",
     "timestamp": 1655561845857,
     "user": {
      "displayName": "Eduard Popescu",
      "userId": "10659994374525234384"
     },
     "user_tz": -180
    },
    "id": "aiDCj-5tXQVv",
    "outputId": "49450e74-e2eb-49f9-c48f-06fecb8adee3"
   },
   "outputs": [
    {
     "data": {
      "image/png": "[encoded data removed]",
      "text/plain": [
       "<Figure size 720x504 with 2 Axes>"
      ]
     },
     "metadata": {
      "needs_background": "light"
     },
     "output_type": "display_data"
    }
   ],
   "source": [
    "matrix = confusion_matrix(y_true_raveled, y_pred_raveled)\n",
    "df = pd.DataFrame(matrix, index=unique_labels, columns=unique_labels)\n",
    "plt.figure(figsize=(10, 7))\n",
    "sns.heatmap(df, annot=True, fmt=\"d\")\n",
    "plt.savefig(\"confusion_matrix.png\")"
   ]
  },
  {
   "cell_type": "code",
   "execution_count": 29,
   "id": "LZdgSNCAaznh",
   "metadata": {
    "executionInfo": {
     "elapsed": 12,
     "status": "ok",
     "timestamp": 1655561845860,
     "user": {
      "displayName": "Eduard Popescu",
      "userId": "10659994374525234384"
     },
     "user_tz": -180
    },
    "id": "LZdgSNCAaznh"
   },
   "outputs": [],
   "source": [
    "class SentencePreprocesser(tf.keras.layers.Layer):\n",
    "    def __init__(self, tokenizer, packer):\n",
    "        super(SentencePreprocesser, self).__init__()\n",
    "        self.tokenizer = tokenizer\n",
    "        self.packer = packer\n",
    "    \n",
    "    def call(self, inputs):\n",
    "        tokens = self.tokenizer(inputs)\n",
    "        tokens = tokens.merge_dims(-2, -1)\n",
    "        tokens = tf.expand_dims(tokens, axis=0)\n",
    "        tokens = packer([tokens])\n",
    "        return tokens\n",
    "    \n",
    "    def get_config(self):\n",
    "        config = super().get_config()\n",
    "        config.update({\n",
    "            \"tokenizer\": self.tokenizer,\n",
    "            \"packer\": self.packer\n",
    "        })\n",
    "        return config"
   ]
  },
  {
   "cell_type": "code",
   "execution_count": 30,
   "id": "V7shpWiPb-g2",
   "metadata": {
    "colab": {
     "base_uri": "https://localhost:8080/"
    },
    "executionInfo": {
     "elapsed": 1292,
     "status": "ok",
     "timestamp": 1655561847142,
     "user": {
      "displayName": "Eduard Popescu",
      "userId": "10659994374525234384"
     },
     "user_tz": -180
    },
    "id": "V7shpWiPb-g2",
    "outputId": "5e7fe9de-0269-4adf-f10f-e90aa72ba892"
   },
   "outputs": [
    {
     "name": "stdout",
     "output_type": "stream",
     "text": [
      "Model: \"model_1\"\n",
      "__________________________________________________________________________________________________\n",
      " Layer (type)                   Output Shape         Param #     Connected to                     \n",
      "==================================================================================================\n",
      " input_4 (InputLayer)           [(None,)]            0           []                               \n",
      "                                                                                                  \n",
      " sentence_preprocesser (Sentenc  {'input_word_ids':   0          ['input_4[0][0]']                \n",
      " ePreprocesser)                 (1, 30),                                                          \n",
      "                                 'input_type_ids':                                                \n",
      "                                (1, 30),                                                          \n",
      "                                 'input_mask': (1,                                                \n",
      "                                30)}                                                              \n",
      "                                                                                                  \n",
      " model (Functional)             (None, 30, 10)       11173131    ['sentence_preprocesser[0][0]',  \n",
      "                                                                  'sentence_preprocesser[0][1]',  \n",
      "                                                                  'sentence_preprocesser[0][2]']  \n",
      "                                                                                                  \n",
      "==================================================================================================\n",
      "Total params: 11,173,131\n",
      "Trainable params: 11,173,130\n",
      "Non-trainable params: 1\n",
      "__________________________________________________________________________________________________\n"
     ]
    }
   ],
   "source": [
    "model.compile()\n",
    "\n",
    "inputs = tf.keras.layers.Input(shape=(), dtype=tf.string)\n",
    "x = SentencePreprocesser(tokenizer, packer)(inputs)\n",
    "outputs = model(x)\n",
    "ner_model = tf.keras.Model(inputs=inputs, outputs=outputs)\n",
    "ner_model.summary()"
   ]
  },
  {
   "cell_type": "code",
   "execution_count": 31,
   "id": "OVKbVgafguFU",
   "metadata": {
    "colab": {
     "base_uri": "https://localhost:8080/"
    },
    "executionInfo": {
     "elapsed": 26401,
     "status": "ok",
     "timestamp": 1655561873536,
     "user": {
      "displayName": "Eduard Popescu",
      "userId": "10659994374525234384"
     },
     "user_tz": -180
    },
    "id": "OVKbVgafguFU",
    "outputId": "896611b7-5aea-454f-fe05-b84328054950"
   },
   "outputs": [
    {
     "name": "stderr",
     "output_type": "stream",
     "text": [
      "WARNING:absl:Found untraced functions such as keras_layer_layer_call_fn, keras_layer_layer_call_and_return_conditional_losses, keras_layer_1_layer_call_fn, keras_layer_1_layer_call_and_return_conditional_losses, restored_function_body while saving (showing 5 of 130). These functions will not be directly callable after loading.\n"
     ]
    },
    {
     "name": "stdout",
     "output_type": "stream",
     "text": [
      "INFO:tensorflow:Assets written to: ner_model\\assets\n"
     ]
    },
    {
     "name": "stderr",
     "output_type": "stream",
     "text": [
      "INFO:tensorflow:Assets written to: ner_model\\assets\n"
     ]
    }
   ],
   "source": [
    "ner_model.compile()\n",
    "ner_model.save(\"ner_model\")"
   ]
  },
  {
   "cell_type": "code",
   "execution_count": 32,
   "id": "6QEByOqvuu99",
   "metadata": {
    "colab": {
     "base_uri": "https://localhost:8080/"
    },
    "executionInfo": {
     "elapsed": 81554,
     "status": "ok",
     "timestamp": 1655561955077,
     "user": {
      "displayName": "Eduard Popescu",
      "userId": "10659994374525234384"
     },
     "user_tz": -180
    },
    "id": "6QEByOqvuu99",
    "outputId": "40ccda56-5982-4559-e77d-9f5f566809f1"
   },
   "outputs": [],
   "source": [
    "# !zip -r ner_model.zip ner_model/"
   ]
  },
  {
   "cell_type": "code",
   "execution_count": 33,
   "id": "VD4iGpO2sfGJ",
   "metadata": {
    "colab": {
     "base_uri": "https://localhost:8080/",
     "height": 34
    },
    "executionInfo": {
     "elapsed": 28,
     "status": "ok",
     "timestamp": 1655561955079,
     "user": {
      "displayName": "Eduard Popescu",
      "userId": "10659994374525234384"
     },
     "user_tz": -180
    },
    "id": "VD4iGpO2sfGJ",
    "outputId": "a6a365bf-ab82-442d-b99f-7fb147a9f1b6"
   },
   "outputs": [],
   "source": [
    "# from google.colab import files\n",
    "# files.download(\"ner_model.zip\")\n",
    "# files.download(\"loss.png\")\n",
    "# files.download(\"accuracy.png\")\n",
    "# files.download(\"confusion_matrix.png\")"
   ]
  }
 ],
 "metadata": {
  "accelerator": "GPU",
  "colab": {
   "collapsed_sections": [],
   "name": "bert_en_ner_model.ipynb",
   "provenance": []
  },
  "kernelspec": {
   "display_name": "licenta",
   "language": "python",
   "name": "licenta"
  },
  "language_info": {
   "codemirror_mode": {
    "name": "ipython",
    "version": 3
   },
   "file_extension": ".py",
   "mimetype": "text/x-python",
   "name": "python",
   "nbconvert_exporter": "python",
   "pygments_lexer": "ipython3",
   "version": "3.8.13"
  }
 },
 "nbformat": 4,
 "nbformat_minor": 5
}
