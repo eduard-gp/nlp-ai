{
 "cells": [
  {
   "cell_type": "code",
   "execution_count": 1,
   "id": "2c189b6e-d811-4689-a6ed-ea16ee4b1bd2",
   "metadata": {},
   "outputs": [],
   "source": [
    "import pandas as pd\n",
    "import numpy as np\n",
    "import matplotlib.pyplot as plt\n",
    "import os\n",
    "import json"
   ]
  },
  {
   "cell_type": "code",
   "execution_count": 2,
   "id": "a016cf18-ff47-4334-a7ce-18a635b4a197",
   "metadata": {},
   "outputs": [
    {
     "data": {
      "text/html": [
       "<div>\n",
       "<style scoped>\n",
       "    .dataframe tbody tr th:only-of-type {\n",
       "        vertical-align: middle;\n",
       "    }\n",
       "\n",
       "    .dataframe tbody tr th {\n",
       "        vertical-align: top;\n",
       "    }\n",
       "\n",
       "    .dataframe thead th {\n",
       "        text-align: right;\n",
       "    }\n",
       "</style>\n",
       "<table border=\"1\" class=\"dataframe\">\n",
       "  <thead>\n",
       "    <tr style=\"text-align: right;\">\n",
       "      <th></th>\n",
       "      <th>tokens</th>\n",
       "      <th>entity_tags</th>\n",
       "    </tr>\n",
       "  </thead>\n",
       "  <tbody>\n",
       "    <tr>\n",
       "      <th>0</th>\n",
       "      <td>[-, Iohannis, ,, Klaus, Vacanță, Iohannis, -, ...</td>\n",
       "      <td>[O, B-PERSON, I-PERSON, I-PERSON, O, B-PERSON,...</td>\n",
       "    </tr>\n",
       "    <tr>\n",
       "      <th>1</th>\n",
       "      <td>[Vechiul, oraș, Visoki, a, fost, un, faimos, c...</td>\n",
       "      <td>[O, O, B-GPE, O, O, O, O, O, O, O, O, O, B-DAT...</td>\n",
       "    </tr>\n",
       "    <tr>\n",
       "      <th>2</th>\n",
       "      <td>[Comisia, națională, pentru, informatică, și, ...</td>\n",
       "      <td>[B-ORG, I-ORG, I-ORG, I-ORG, I-ORG, I-ORG, I-O...</td>\n",
       "    </tr>\n",
       "    <tr>\n",
       "      <th>3</th>\n",
       "      <td>[Editura, Cartea, Românească, îi, invită, pe, ...</td>\n",
       "      <td>[B-ORG, I-ORG, I-ORG, O, O, O, O, B-PERSON, O,...</td>\n",
       "    </tr>\n",
       "    <tr>\n",
       "      <th>4</th>\n",
       "      <td>[Între, 1996-2000, ,, în, mandatul, Emil, Cons...</td>\n",
       "      <td>[B-PERIOD, I-PERIOD, O, O, O, B-PERSON, I-PERS...</td>\n",
       "    </tr>\n",
       "  </tbody>\n",
       "</table>\n",
       "</div>"
      ],
      "text/plain": [
       "                                              tokens  \\\n",
       "0  [-, Iohannis, ,, Klaus, Vacanță, Iohannis, -, ...   \n",
       "1  [Vechiul, oraș, Visoki, a, fost, un, faimos, c...   \n",
       "2  [Comisia, națională, pentru, informatică, și, ...   \n",
       "3  [Editura, Cartea, Românească, îi, invită, pe, ...   \n",
       "4  [Între, 1996-2000, ,, în, mandatul, Emil, Cons...   \n",
       "\n",
       "                                         entity_tags  \n",
       "0  [O, B-PERSON, I-PERSON, I-PERSON, O, B-PERSON,...  \n",
       "1  [O, O, B-GPE, O, O, O, O, O, O, O, O, O, B-DAT...  \n",
       "2  [B-ORG, I-ORG, I-ORG, I-ORG, I-ORG, I-ORG, I-O...  \n",
       "3  [B-ORG, I-ORG, I-ORG, O, O, O, O, B-PERSON, O,...  \n",
       "4  [B-PERIOD, I-PERIOD, O, O, O, B-PERSON, I-PERS...  "
      ]
     },
     "execution_count": 2,
     "metadata": {},
     "output_type": "execute_result"
    }
   ],
   "source": [
    "dir_path = os.path.join(\"datasets\", \"ronec\")\n",
    "\n",
    "tokens = []\n",
    "entity_tags = []\n",
    "\n",
    "with open(os.path.join(dir_path, \"train.json\"), encoding=\"utf-8\") as f:\n",
    "    data = json.load(f)\n",
    "\n",
    "    for element in data:\n",
    "        tokens.append(element[\"tokens\"])\n",
    "        entity_tags.append(element[\"ner_tags\"])\n",
    "\n",
    "df = pd.DataFrame({\n",
    "    \"tokens\": tokens,\n",
    "    \"entity_tags\": entity_tags\n",
    "})\n",
    "df.head()"
   ]
  },
  {
   "cell_type": "code",
   "execution_count": 3,
   "id": "b3f5e895-1d71-405c-a999-84ae32ca5056",
   "metadata": {},
   "outputs": [
    {
     "name": "stdout",
     "output_type": "stream",
     "text": [
      "Number of sentences: 9000\n"
     ]
    }
   ],
   "source": [
    "print(f\"Number of sentences: {df.shape[0]}\")"
   ]
  },
  {
   "cell_type": "code",
   "execution_count": 4,
   "id": "e25b8371-9cbf-42b9-8314-d22dc43d5ccd",
   "metadata": {},
   "outputs": [
    {
     "name": "stdout",
     "output_type": "stream",
     "text": [
      "count    9000.000000\n",
      "mean       45.072111\n",
      "std        29.136234\n",
      "min         4.000000\n",
      "25%        28.000000\n",
      "50%        39.000000\n",
      "75%        54.000000\n",
      "max       561.000000\n",
      "Name: tokens, dtype: float64\n"
     ]
    },
    {
     "data": {
      "image/png": "[encoded data removed]",
      "text/plain": [
       "<Figure size 864x432 with 1 Axes>"
      ]
     },
     "metadata": {
      "needs_background": "light"
     },
     "output_type": "display_data"
    }
   ],
   "source": [
    "sentence_length = df[\"tokens\"].apply(lambda sentence: len(sentence))\n",
    "print(sentence_length.describe())\n",
    "\n",
    "fig, ax = plt.subplots(figsize=(12, 6), layout=\"constrained\")\n",
    "ax.hist(sentence_length, bins=np.arange(0, 550, 5), edgecolor=\"white\")\n",
    "ax.set_xlabel(\"Sentence length\")\n",
    "ax.set_ylabel(\"Number of sentences\")\n",
    "ax.set_title(\"RONEC sentence length\")\n",
    "ax.set_xticks(np.arange(0, 580, 20))\n",
    "plt.show()"
   ]
  },
  {
   "cell_type": "code",
   "execution_count": 5,
   "id": "f3b320f7-e681-4b81-98d7-274c8868c695",
   "metadata": {},
   "outputs": [
    {
     "name": "stdout",
     "output_type": "stream",
     "text": [
      "Mean sentence length: 45.07\n"
     ]
    }
   ],
   "source": [
    "print(f\"Mean sentence length: {sentence_length.mean():.2f}\")"
   ]
  },
  {
   "cell_type": "code",
   "execution_count": 6,
   "id": "272771d6-eb7e-4dc6-8dcf-c0870ca22eee",
   "metadata": {},
   "outputs": [
    {
     "name": "stdout",
     "output_type": "stream",
     "text": [
      "Unique entity tags:\n",
      "  -> B-DATETIME\n",
      "  -> B-EVENT\n",
      "  -> B-FACILITY\n",
      "  -> B-GPE\n",
      "  -> B-LANGUAGE\n",
      "  -> B-LOC\n",
      "  -> B-MONEY\n",
      "  -> B-NAT_REL_POL\n",
      "  -> B-NUMERIC\n",
      "  -> B-ORDINAL\n",
      "  -> B-ORG\n",
      "  -> B-PERIOD\n",
      "  -> B-PERSON\n",
      "  -> B-QUANTITY\n",
      "  -> B-WORK_OF_ART\n",
      "  -> I-DATETIME\n",
      "  -> I-EVENT\n",
      "  -> I-FACILITY\n",
      "  -> I-GPE\n",
      "  -> I-LANGUAGE\n",
      "  -> I-LOC\n",
      "  -> I-MONEY\n",
      "  -> I-NAT_REL_POL\n",
      "  -> I-NUMERIC\n",
      "  -> I-ORDINAL\n",
      "  -> I-ORG\n",
      "  -> I-PERIOD\n",
      "  -> I-PERSON\n",
      "  -> I-QUANTITY\n",
      "  -> I-WORK_OF_ART\n",
      "  -> O\n"
     ]
    }
   ],
   "source": [
    "unique_entities = df[\"entity_tags\"].explode().unique()\n",
    "print(\"Unique entity tags:\")\n",
    "for tag in sorted(unique_entities):\n",
    "    print(f\"  -> {tag}\")"
   ]
  },
  {
   "cell_type": "code",
   "execution_count": 7,
   "id": "6049b6f9-5c1a-4310-9aaf-f9d402cc3962",
   "metadata": {},
   "outputs": [],
   "source": [
    "entity_tags = set(unique_entities)\n",
    "entity_tags.difference_update(\"O\")"
   ]
  },
  {
   "cell_type": "code",
   "execution_count": 8,
   "id": "859e7b0e-11f1-494c-916a-13442799520e",
   "metadata": {},
   "outputs": [
    {
     "data": {
      "image/png": "[encoded data removed]",
      "text/plain": [
       "<Figure size 864x432 with 1 Axes>"
      ]
     },
     "metadata": {
      "needs_background": "light"
     },
     "output_type": "display_data"
    }
   ],
   "source": [
    "def count_entity_tags_per_sentence(sentence_entity_tags):\n",
    "    def is_valid(entity_tag):\n",
    "        return entity_tag in entity_tags\n",
    "    \n",
    "    valid_entity_tags = list(filter(is_valid, sentence_entity_tags))\n",
    "    return len(valid_entity_tags)\n",
    "\n",
    "num_entity_tags_per_sentence = df[\"entity_tags\"].map(count_entity_tags_per_sentence)\n",
    "avg_entity_tags_per_sentence_length = pd.DataFrame(\n",
    "    {\n",
    "        \"sentence_length\": sentence_length,\n",
    "        \"num_entity_tags\": num_entity_tags_per_sentence\n",
    "    }\n",
    ").groupby(\"sentence_length\").mean()\n",
    "\n",
    "fig, ax = plt.subplots(figsize=(12, 6), layout=\"constrained\")\n",
    "ax.bar(\n",
    "    avg_entity_tags_per_sentence_length.index,\n",
    "    avg_entity_tags_per_sentence_length[\"num_entity_tags\"]\n",
    ")\n",
    "ax.set_xticks(np.arange(0, 580, 20))\n",
    "ax.set_yticks(np.arange(0, 100, 10))\n",
    "ax.set_xlabel(\"Sentence length\")\n",
    "ax.set_ylabel(\"Number of entity tags\")\n",
    "ax.set_title(\"Average number of entity tags per sentence\")\n",
    "plt.show()"
   ]
  },
  {
   "cell_type": "code",
   "execution_count": 9,
   "id": "d120f0a8-f241-4479-bc27-bd2f93cc0040",
   "metadata": {},
   "outputs": [
    {
     "name": "stdout",
     "output_type": "stream",
     "text": [
      "B-PERSON         19167\n",
      "I-PERSON          9476\n",
      "I-ORG             8903\n",
      "I-DATETIME        8542\n",
      "B-GPE             8193\n",
      "B-DATETIME        6960\n",
      "B-NUMERIC         5734\n",
      "B-ORG             5688\n",
      "I-WORK_OF_ART     4033\n",
      "B-NAT_REL_POL     3673\n",
      "I-LOC             2176\n",
      "I-MONEY           1977\n",
      "I-EVENT           1859\n",
      "I-PERIOD          1842\n",
      "B-LOC             1824\n",
      "I-FACILITY        1713\n",
      "B-ORDINAL         1377\n",
      "I-GPE             1243\n",
      "B-QUANTITY        1161\n",
      "B-WORK_OF_ART     1157\n",
      "B-MONEY           1041\n",
      "I-ORDINAL          877\n",
      "B-PERIOD           862\n",
      "B-FACILITY         840\n",
      "B-EVENT            826\n",
      "I-QUANTITY         790\n",
      "B-LANGUAGE         342\n",
      "I-NUMERIC          214\n",
      "I-LANGUAGE         147\n",
      "I-NAT_REL_POL       60\n",
      "Name: entity_tags, dtype: int64\n"
     ]
    }
   ],
   "source": [
    "flatten_entity_tags = df[\"entity_tags\"].explode()\n",
    "valid_entity_tags = flatten_entity_tags[flatten_entity_tags.isin(entity_tags)]\n",
    "count_entity_tags = valid_entity_tags.value_counts()\n",
    "print(count_entity_tags)"
   ]
  },
  {
   "cell_type": "code",
   "execution_count": 10,
   "id": "7cb9332a-6d50-4c45-b862-dccc4bf92138",
   "metadata": {},
   "outputs": [
    {
     "data": {
      "image/png": "[encoded data removed]",
      "text/plain": [
       "<Figure size 864x432 with 1 Axes>"
      ]
     },
     "metadata": {
      "needs_background": "light"
     },
     "output_type": "display_data"
    }
   ],
   "source": [
    "fig, ax = plt.subplots(figsize=(12, 6), layout=\"constrained\")\n",
    "xticks = np.arange(len(count_entity_tags))\n",
    "ax.bar(\n",
    "    xticks,\n",
    "    count_entity_tags\n",
    ")\n",
    "ax.set_xticks(xticks, count_entity_tags.index, rotation=90)\n",
    "ax.set_yticks(np.arange(0, 22_000, 2000))\n",
    "ax.set_xlabel(\"Entity tags\")\n",
    "ax.set_ylabel(\"Count\")\n",
    "ax.set_title(\"Count of entity tags\")\n",
    "plt.show()"
   ]
  }
 ],
 "metadata": {
  "kernelspec": {
   "display_name": "licenta",
   "language": "python",
   "name": "licenta"
  },
  "language_info": {
   "codemirror_mode": {
    "name": "ipython",
    "version": 3
   },
   "file_extension": ".py",
   "mimetype": "text/x-python",
   "name": "python",
   "nbconvert_exporter": "python",
   "pygments_lexer": "ipython3",
   "version": "3.8.6"
  }
 },
 "nbformat": 4,
 "nbformat_minor": 5
}
