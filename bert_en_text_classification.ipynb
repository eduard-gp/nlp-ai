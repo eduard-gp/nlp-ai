{
 "cells": [
  {
   "cell_type": "code",
   "execution_count": 27,
   "id": "bc655c6a-04db-4518-beae-2834666330ce",
   "metadata": {},
   "outputs": [],
   "source": [
    "import tensorflow as tf\n",
    "import tensorflow_hub as hub\n",
    "import tensorflow_text as text\n",
    "import numpy as np\n",
    "import pandas as pd\n",
    "import matplotlib.pyplot as plt\n",
    "import json\n",
    "import os\n",
    "from sklearn.metrics import precision_score, accuracy_score, recall_score, f1_score, confusion_matrix\n",
    "import seaborn as sns"
   ]
  },
  {
   "cell_type": "code",
   "execution_count": 25,
   "id": "adadda7b-f501-4580-bf08-ec53f1a7d960",
   "metadata": {},
   "outputs": [
    {
     "name": "stdout",
     "output_type": "stream",
     "text": [
      "Tensorflow version:  2.9.1\n",
      "[PhysicalDevice(name='/physical_device:GPU:0', device_type='GPU')]\n"
     ]
    }
   ],
   "source": [
    "print(\"Tensorflow version: \", tf.__version__)\n",
    "print(tf.config.list_physical_devices(\"GPU\"))"
   ]
  },
  {
   "cell_type": "code",
   "execution_count": 16,
   "id": "d9378bca-5a2b-4ef4-a9f6-119bdc627dc6",
   "metadata": {},
   "outputs": [
    {
     "data": {
      "text/html": [
       "<div>\n",
       "<style scoped>\n",
       "    .dataframe tbody tr th:only-of-type {\n",
       "        vertical-align: middle;\n",
       "    }\n",
       "\n",
       "    .dataframe tbody tr th {\n",
       "        vertical-align: top;\n",
       "    }\n",
       "\n",
       "    .dataframe thead th {\n",
       "        text-align: right;\n",
       "    }\n",
       "</style>\n",
       "<table border=\"1\" class=\"dataframe\">\n",
       "  <thead>\n",
       "    <tr style=\"text-align: right;\">\n",
       "      <th></th>\n",
       "      <th>text</th>\n",
       "      <th>label</th>\n",
       "    </tr>\n",
       "  </thead>\n",
       "  <tbody>\n",
       "    <tr>\n",
       "      <th>0</th>\n",
       "      <td>Did a pain in the center of the chest ever occ...</td>\n",
       "      <td>chest_pain</td>\n",
       "    </tr>\n",
       "    <tr>\n",
       "      <th>1</th>\n",
       "      <td>Did those symptoms changes?</td>\n",
       "      <td>symptoms_changes</td>\n",
       "    </tr>\n",
       "    <tr>\n",
       "      <th>2</th>\n",
       "      <td>Did you experienced fainting?</td>\n",
       "      <td>fainting_symptoms</td>\n",
       "    </tr>\n",
       "    <tr>\n",
       "      <th>3</th>\n",
       "      <td>Did you faint?</td>\n",
       "      <td>fainting_symptoms</td>\n",
       "    </tr>\n",
       "    <tr>\n",
       "      <th>4</th>\n",
       "      <td>Did you had a cough with sputum?</td>\n",
       "      <td>cough_symptoms</td>\n",
       "    </tr>\n",
       "    <tr>\n",
       "      <th>...</th>\n",
       "      <td>...</td>\n",
       "      <td>...</td>\n",
       "    </tr>\n",
       "    <tr>\n",
       "      <th>71</th>\n",
       "      <td>visit reason</td>\n",
       "      <td>visit_reason</td>\n",
       "    </tr>\n",
       "    <tr>\n",
       "      <th>72</th>\n",
       "      <td>visit reason?</td>\n",
       "      <td>visit_reason</td>\n",
       "    </tr>\n",
       "    <tr>\n",
       "      <th>73</th>\n",
       "      <td>when did the symptoms start</td>\n",
       "      <td>symptoms_start</td>\n",
       "    </tr>\n",
       "    <tr>\n",
       "      <th>74</th>\n",
       "      <td>why are you in the hospital?</td>\n",
       "      <td>visit_reason</td>\n",
       "    </tr>\n",
       "    <tr>\n",
       "      <th>75</th>\n",
       "      <td>why are you visiting us?</td>\n",
       "      <td>visit_reason</td>\n",
       "    </tr>\n",
       "  </tbody>\n",
       "</table>\n",
       "<p>76 rows × 2 columns</p>\n",
       "</div>"
      ],
      "text/plain": [
       "                                                 text              label\n",
       "0   Did a pain in the center of the chest ever occ...         chest_pain\n",
       "1                         Did those symptoms changes?   symptoms_changes\n",
       "2                       Did you experienced fainting?  fainting_symptoms\n",
       "3                                      Did you faint?  fainting_symptoms\n",
       "4                    Did you had a cough with sputum?     cough_symptoms\n",
       "..                                                ...                ...\n",
       "71                                       visit reason       visit_reason\n",
       "72                                      visit reason?       visit_reason\n",
       "73                        when did the symptoms start     symptoms_start\n",
       "74                       why are you in the hospital?       visit_reason\n",
       "75                           why are you visiting us?       visit_reason\n",
       "\n",
       "[76 rows x 2 columns]"
      ]
     },
     "execution_count": 16,
     "metadata": {},
     "output_type": "execute_result"
    }
   ],
   "source": [
    "dir_path = os.path.join(\"database\", \"text_classification\")\n",
    "\n",
    "with open (os.path.join(dir_path, \"en.json\")) as f:\n",
    "    data = json.load(f)\n",
    "    df = pd.DataFrame(data)\n",
    "\n",
    "df"
   ]
  },
  {
   "cell_type": "code",
   "execution_count": 14,
   "id": "0f755ece-5987-446e-a953-b1230e3be5cb",
   "metadata": {},
   "outputs": [
    {
     "data": {
      "text/html": [
       "<div>\n",
       "<style scoped>\n",
       "    .dataframe tbody tr th:only-of-type {\n",
       "        vertical-align: middle;\n",
       "    }\n",
       "\n",
       "    .dataframe tbody tr th {\n",
       "        vertical-align: top;\n",
       "    }\n",
       "\n",
       "    .dataframe thead th {\n",
       "        text-align: right;\n",
       "    }\n",
       "</style>\n",
       "<table border=\"1\" class=\"dataframe\">\n",
       "  <thead>\n",
       "    <tr style=\"text-align: right;\">\n",
       "      <th></th>\n",
       "      <th>text</th>\n",
       "      <th>label</th>\n",
       "    </tr>\n",
       "  </thead>\n",
       "  <tbody>\n",
       "    <tr>\n",
       "      <th>0</th>\n",
       "      <td>Did a pain in the center of the chest ever occ...</td>\n",
       "      <td>chest_pain</td>\n",
       "    </tr>\n",
       "    <tr>\n",
       "      <th>1</th>\n",
       "      <td>Did those symptoms changes?</td>\n",
       "      <td>symptoms_changes</td>\n",
       "    </tr>\n",
       "    <tr>\n",
       "      <th>2</th>\n",
       "      <td>Did you experienced fainting?</td>\n",
       "      <td>fainting_symptoms</td>\n",
       "    </tr>\n",
       "    <tr>\n",
       "      <th>3</th>\n",
       "      <td>Did you faint?</td>\n",
       "      <td>fainting_symptoms</td>\n",
       "    </tr>\n",
       "    <tr>\n",
       "      <th>4</th>\n",
       "      <td>Did you had a cough with sputum?</td>\n",
       "      <td>cough_symptoms</td>\n",
       "    </tr>\n",
       "    <tr>\n",
       "      <th>...</th>\n",
       "      <td>...</td>\n",
       "      <td>...</td>\n",
       "    </tr>\n",
       "    <tr>\n",
       "      <th>71</th>\n",
       "      <td>visit reason</td>\n",
       "      <td>visit_reason</td>\n",
       "    </tr>\n",
       "    <tr>\n",
       "      <th>72</th>\n",
       "      <td>visit reason?</td>\n",
       "      <td>visit_reason</td>\n",
       "    </tr>\n",
       "    <tr>\n",
       "      <th>73</th>\n",
       "      <td>when did the symptoms start</td>\n",
       "      <td>symptoms_start</td>\n",
       "    </tr>\n",
       "    <tr>\n",
       "      <th>74</th>\n",
       "      <td>why are you in the hospital?</td>\n",
       "      <td>visit_reason</td>\n",
       "    </tr>\n",
       "    <tr>\n",
       "      <th>75</th>\n",
       "      <td>why are you visiting us?</td>\n",
       "      <td>visit_reason</td>\n",
       "    </tr>\n",
       "  </tbody>\n",
       "</table>\n",
       "<p>76 rows × 2 columns</p>\n",
       "</div>"
      ],
      "text/plain": [
       "                                                 text              label\n",
       "0   Did a pain in the center of the chest ever occ...         chest_pain\n",
       "1                         Did those symptoms changes?   symptoms_changes\n",
       "2                       Did you experienced fainting?  fainting_symptoms\n",
       "3                                      Did you faint?  fainting_symptoms\n",
       "4                    Did you had a cough with sputum?     cough_symptoms\n",
       "..                                                ...                ...\n",
       "71                                       visit reason       visit_reason\n",
       "72                                      visit reason?       visit_reason\n",
       "73                        when did the symptoms start     symptoms_start\n",
       "74                       why are you in the hospital?       visit_reason\n",
       "75                           why are you visiting us?       visit_reason\n",
       "\n",
       "[76 rows x 2 columns]"
      ]
     },
     "execution_count": 14,
     "metadata": {},
     "output_type": "execute_result"
    }
   ],
   "source": [
    "df.drop_duplicates([\"text\"], ignore_index=True)"
   ]
  },
  {
   "cell_type": "code",
   "execution_count": 3,
   "id": "3b3e28c6-c04e-491f-81ee-e3f33ae0fb81",
   "metadata": {},
   "outputs": [
    {
     "data": {
      "text/plain": [
       "visit_reason              12\n",
       "symptoms_start             9\n",
       "greetings                  8\n",
       "fever_symptoms             6\n",
       "diseases_parents           6\n",
       "surgeries                  5\n",
       "symptoms_circumstances     5\n",
       "chest_pain                 4\n",
       "symptoms_changes           4\n",
       "fainting_symptoms          4\n",
       "diseases_personal          4\n",
       "cough_symptoms             3\n",
       "palpitations_symptoms      3\n",
       "chronic_treatment          3\n",
       "Name: label, dtype: int64"
      ]
     },
     "execution_count": 3,
     "metadata": {},
     "output_type": "execute_result"
    }
   ],
   "source": [
    "df[\"label\"].value_counts()"
   ]
  },
  {
   "cell_type": "code",
   "execution_count": 4,
   "id": "5a7a72d5-cc1f-4767-ae24-035d7f24a48d",
   "metadata": {},
   "outputs": [
    {
     "data": {
      "text/html": [
       "<div>\n",
       "<style scoped>\n",
       "    .dataframe tbody tr th:only-of-type {\n",
       "        vertical-align: middle;\n",
       "    }\n",
       "\n",
       "    .dataframe tbody tr th {\n",
       "        vertical-align: top;\n",
       "    }\n",
       "\n",
       "    .dataframe thead th {\n",
       "        text-align: right;\n",
       "    }\n",
       "</style>\n",
       "<table border=\"1\" class=\"dataframe\">\n",
       "  <thead>\n",
       "    <tr style=\"text-align: right;\">\n",
       "      <th></th>\n",
       "      <th>text</th>\n",
       "      <th>label</th>\n",
       "    </tr>\n",
       "  </thead>\n",
       "  <tbody>\n",
       "    <tr>\n",
       "      <th>0</th>\n",
       "      <td>What is the reason for the presentation at the...</td>\n",
       "      <td>visit_reason</td>\n",
       "    </tr>\n",
       "    <tr>\n",
       "      <th>1</th>\n",
       "      <td>When did the symptoms start?</td>\n",
       "      <td>symptoms_start</td>\n",
       "    </tr>\n",
       "    <tr>\n",
       "      <th>2</th>\n",
       "      <td>What are the circumstances of the onset of sym...</td>\n",
       "      <td>symptoms_circumstances</td>\n",
       "    </tr>\n",
       "    <tr>\n",
       "      <th>3</th>\n",
       "      <td>Were there any changes in symptoms from onset ...</td>\n",
       "      <td>symptoms_changes</td>\n",
       "    </tr>\n",
       "    <tr>\n",
       "      <th>4</th>\n",
       "      <td>Do you know of any illness that your mother or...</td>\n",
       "      <td>diseases_parents</td>\n",
       "    </tr>\n",
       "  </tbody>\n",
       "</table>\n",
       "</div>"
      ],
      "text/plain": [
       "                                                text                   label\n",
       "0  What is the reason for the presentation at the...            visit_reason\n",
       "1                       When did the symptoms start?          symptoms_start\n",
       "2  What are the circumstances of the onset of sym...  symptoms_circumstances\n",
       "3  Were there any changes in symptoms from onset ...        symptoms_changes\n",
       "4  Do you know of any illness that your mother or...        diseases_parents"
      ]
     },
     "execution_count": 4,
     "metadata": {},
     "output_type": "execute_result"
    }
   ],
   "source": [
    "dir_path = os.path.join(\"database\", \"personas\")\n",
    "\n",
    "with open(os.path.join(dir_path, \"en_personas.json\")) as f:\n",
    "    data = json.load(f)\n",
    "    texts = []\n",
    "    labels = []\n",
    "    for persona in data:\n",
    "        for dialog_entity in persona[\"dialog\"]:\n",
    "            if not \"questions\" in dialog_entity:\n",
    "                print(dialog_entity)\n",
    "            \n",
    "            for question in dialog_entity[\"questions\"]:\n",
    "                texts.append(question)\n",
    "                labels.append(dialog_entity[\"label\"])\n",
    "    df_persona = pd.DataFrame(\n",
    "        {\n",
    "            \"text\": texts,\n",
    "            \"label\": labels\n",
    "        }\n",
    "    )\n",
    "df_persona.head()"
   ]
  },
  {
   "cell_type": "code",
   "execution_count": 19,
   "id": "544df4ed-cda3-4de9-8795-03596d4316c1",
   "metadata": {},
   "outputs": [],
   "source": [
    "df_persona = df_persona.drop_duplicates([\"text\"], ignore_index=True)"
   ]
  },
  {
   "cell_type": "code",
   "execution_count": 20,
   "id": "8748fbf2-6928-49af-9801-bb8f12ccdbcf",
   "metadata": {},
   "outputs": [
    {
     "data": {
      "text/plain": [
       "{'chest_pain': 0,\n",
       " 'symptoms_changes': 1,\n",
       " 'fainting_symptoms': 2,\n",
       " 'cough_symptoms': 3,\n",
       " 'surgeries': 4,\n",
       " 'fever_symptoms': 5,\n",
       " 'palpitations_symptoms': 6,\n",
       " 'chronic_treatment': 7,\n",
       " 'diseases_parents': 8,\n",
       " 'diseases_personal': 9,\n",
       " 'greetings': 10,\n",
       " 'symptoms_start': 11,\n",
       " 'symptoms_circumstances': 12,\n",
       " 'visit_reason': 13}"
      ]
     },
     "execution_count": 20,
     "metadata": {},
     "output_type": "execute_result"
    }
   ],
   "source": [
    "df_combined = pd.concat([df, df_persona], ignore_index=True)\n",
    "label_to_idx = {label: idx for idx, label in enumerate(df_combined[\"label\"].unique())}\n",
    "label_to_idx"
   ]
  },
  {
   "cell_type": "code",
   "execution_count": 32,
   "id": "3cc6c9a5-3678-4d82-8379-81b4f5c36a90",
   "metadata": {},
   "outputs": [
    {
     "data": {
      "text/html": [
       "<div>\n",
       "<style scoped>\n",
       "    .dataframe tbody tr th:only-of-type {\n",
       "        vertical-align: middle;\n",
       "    }\n",
       "\n",
       "    .dataframe tbody tr th {\n",
       "        vertical-align: top;\n",
       "    }\n",
       "\n",
       "    .dataframe thead th {\n",
       "        text-align: right;\n",
       "    }\n",
       "</style>\n",
       "<table border=\"1\" class=\"dataframe\">\n",
       "  <thead>\n",
       "    <tr style=\"text-align: right;\">\n",
       "      <th></th>\n",
       "      <th>text</th>\n",
       "      <th>label</th>\n",
       "      <th>label_id</th>\n",
       "    </tr>\n",
       "  </thead>\n",
       "  <tbody>\n",
       "    <tr>\n",
       "      <th>0</th>\n",
       "      <td>Did a pain in the center of the chest ever occ...</td>\n",
       "      <td>chest_pain</td>\n",
       "      <td>0</td>\n",
       "    </tr>\n",
       "    <tr>\n",
       "      <th>1</th>\n",
       "      <td>Did those symptoms changes?</td>\n",
       "      <td>symptoms_changes</td>\n",
       "      <td>1</td>\n",
       "    </tr>\n",
       "    <tr>\n",
       "      <th>2</th>\n",
       "      <td>Did you experienced fainting?</td>\n",
       "      <td>fainting_symptoms</td>\n",
       "      <td>2</td>\n",
       "    </tr>\n",
       "    <tr>\n",
       "      <th>3</th>\n",
       "      <td>Did you faint?</td>\n",
       "      <td>fainting_symptoms</td>\n",
       "      <td>2</td>\n",
       "    </tr>\n",
       "    <tr>\n",
       "      <th>4</th>\n",
       "      <td>Did you had a cough with sputum?</td>\n",
       "      <td>cough_symptoms</td>\n",
       "      <td>3</td>\n",
       "    </tr>\n",
       "  </tbody>\n",
       "</table>\n",
       "</div>"
      ],
      "text/plain": [
       "                                                text              label  \\\n",
       "0  Did a pain in the center of the chest ever occ...         chest_pain   \n",
       "1                        Did those symptoms changes?   symptoms_changes   \n",
       "2                      Did you experienced fainting?  fainting_symptoms   \n",
       "3                                     Did you faint?  fainting_symptoms   \n",
       "4                   Did you had a cough with sputum?     cough_symptoms   \n",
       "\n",
       "   label_id  \n",
       "0         0  \n",
       "1         1  \n",
       "2         2  \n",
       "3         2  \n",
       "4         3  "
      ]
     },
     "execution_count": 32,
     "metadata": {},
     "output_type": "execute_result"
    }
   ],
   "source": [
    "df_combined[\"label_id\"] = df_combined[\"label\"].apply(lambda s: label_to_idx[s])\n",
    "df_combined.head()"
   ]
  },
  {
   "cell_type": "code",
   "execution_count": 33,
   "id": "82e11398-c5c0-43a7-8ef7-243a6fd642e8",
   "metadata": {},
   "outputs": [],
   "source": [
    "train_df = df_combined.groupby(\"label\").sample(frac=0.8, random_state=42)\n",
    "valid_df = df_combined.drop(train_df.index)"
   ]
  },
  {
   "cell_type": "code",
   "execution_count": 34,
   "id": "c63caaf6-93e0-4cd0-be8c-3bb8bcffe38f",
   "metadata": {},
   "outputs": [],
   "source": [
    "batch_size = 12\n",
    "\n",
    "train_dataset = (tf.data.Dataset\n",
    "                 .from_tensor_slices((train_df[\"text\"], train_df[\"label_id\"]))\n",
    "                 .batch(batch_size))\n",
    "\n",
    "valid_dataset = (tf.data.Dataset\n",
    "                 .from_tensor_slices((valid_df[\"text\"], valid_df[\"label_id\"]))\n",
    "                 .batch(batch_size))"
   ]
  },
  {
   "cell_type": "code",
   "execution_count": 53,
   "id": "b84676e4-f7f5-4ca6-9839-0f64b09a7e1e",
   "metadata": {},
   "outputs": [
    {
     "name": "stdout",
     "output_type": "stream",
     "text": [
      "Model: \"model_3\"\n",
      "__________________________________________________________________________________________________\n",
      " Layer (type)                   Output Shape         Param #     Connected to                     \n",
      "==================================================================================================\n",
      " input_7 (InputLayer)           [(None,)]            0           []                               \n",
      "                                                                                                  \n",
      " keras_layer_8 (KerasLayer)     {'input_type_ids':   0           ['input_7[0][0]']                \n",
      "                                (None, 128),                                                      \n",
      "                                 'input_mask': (Non                                               \n",
      "                                e, 128),                                                          \n",
      "                                 'input_word_ids':                                                \n",
      "                                (None, 128)}                                                      \n",
      "                                                                                                  \n",
      " keras_layer_9 (KerasLayer)     {'sequence_output':  11170561    ['keras_layer_8[0][0]',          \n",
      "                                 (None, 128, 256),                'keras_layer_8[0][1]',          \n",
      "                                 'encoder_outputs':               'keras_layer_8[0][2]']          \n",
      "                                 [(None, 128, 256),                                               \n",
      "                                 (None, 128, 256),                                                \n",
      "                                 (None, 128, 256),                                                \n",
      "                                 (None, 128, 256)],                                               \n",
      "                                 'pooled_output': (                                               \n",
      "                                None, 256),                                                       \n",
      "                                 'default': (None,                                                \n",
      "                                256)}                                                             \n",
      "                                                                                                  \n",
      " dense_4 (Dense)                (None, 14)           3598        ['keras_layer_9[0][5]']          \n",
      "                                                                                                  \n",
      "==================================================================================================\n",
      "Total params: 11,174,159\n",
      "Trainable params: 11,174,158\n",
      "Non-trainable params: 1\n",
      "__________________________________________________________________________________________________\n"
     ]
    }
   ],
   "source": [
    "text_input = tf.keras.layers.Input(shape=(), dtype=tf.string)\n",
    "preprocessor = hub.KerasLayer(\n",
    "    \"https://tfhub.dev/tensorflow/bert_en_uncased_preprocess/3\")\n",
    "encoder_inputs = preprocessor(text_input)\n",
    "encoder = hub.KerasLayer(\n",
    "    \"https://tfhub.dev/tensorflow/small_bert/bert_en_uncased_L-4_H-256_A-4/2\",\n",
    "    trainable=True)\n",
    "encoder_outputs = encoder(encoder_inputs)\n",
    "outputs = tf.keras.layers.Dense(len(label_to_idx))(encoder_outputs[\"pooled_output\"])\n",
    "\n",
    "model = tf.keras.Model(inputs=text_input, outputs=outputs)\n",
    "model.summary()"
   ]
  },
  {
   "cell_type": "code",
   "execution_count": 54,
   "id": "0996683b-7740-42ac-9907-dad13dc406ad",
   "metadata": {},
   "outputs": [],
   "source": [
    "model.compile(\n",
    "    optimizer=tf.keras.optimizers.Adam(1e-5),\n",
    "    loss=tf.keras.losses.SparseCategoricalCrossentropy(from_logits=True),\n",
    "    metrics=[tf.keras.metrics.SparseCategoricalAccuracy()]\n",
    ")"
   ]
  },
  {
   "cell_type": "code",
   "execution_count": 55,
   "id": "dc72c6e5-a00f-45d1-9b64-e76adf5bcf06",
   "metadata": {},
   "outputs": [
    {
     "name": "stdout",
     "output_type": "stream",
     "text": [
      "Epoch 1/100\n",
      "7/7 [==============================] - 7s 384ms/step - loss: 2.9115 - sparse_categorical_accuracy: 0.0952 - val_loss: 2.8254 - val_sparse_categorical_accuracy: 0.0909\n",
      "Epoch 2/100\n",
      "7/7 [==============================] - 2s 292ms/step - loss: 2.7421 - sparse_categorical_accuracy: 0.1071 - val_loss: 2.7273 - val_sparse_categorical_accuracy: 0.1818\n",
      "Epoch 3/100\n",
      "7/7 [==============================] - 2s 293ms/step - loss: 2.6305 - sparse_categorical_accuracy: 0.1786 - val_loss: 2.6522 - val_sparse_categorical_accuracy: 0.2273\n",
      "Epoch 4/100\n",
      "7/7 [==============================] - 2s 305ms/step - loss: 2.5770 - sparse_categorical_accuracy: 0.1548 - val_loss: 2.5927 - val_sparse_categorical_accuracy: 0.2273\n",
      "Epoch 5/100\n",
      "7/7 [==============================] - 2s 320ms/step - loss: 2.4955 - sparse_categorical_accuracy: 0.2143 - val_loss: 2.5431 - val_sparse_categorical_accuracy: 0.2273\n",
      "Epoch 6/100\n",
      "7/7 [==============================] - 2s 299ms/step - loss: 2.4489 - sparse_categorical_accuracy: 0.2619 - val_loss: 2.4975 - val_sparse_categorical_accuracy: 0.2727\n",
      "Epoch 7/100\n",
      "7/7 [==============================] - 2s 303ms/step - loss: 2.4223 - sparse_categorical_accuracy: 0.2381 - val_loss: 2.4571 - val_sparse_categorical_accuracy: 0.2727\n",
      "Epoch 8/100\n",
      "7/7 [==============================] - 2s 310ms/step - loss: 2.3681 - sparse_categorical_accuracy: 0.2619 - val_loss: 2.4195 - val_sparse_categorical_accuracy: 0.2727\n",
      "Epoch 9/100\n",
      "7/7 [==============================] - 2s 301ms/step - loss: 2.3137 - sparse_categorical_accuracy: 0.2976 - val_loss: 2.3836 - val_sparse_categorical_accuracy: 0.3636\n",
      "Epoch 10/100\n",
      "7/7 [==============================] - 2s 297ms/step - loss: 2.2965 - sparse_categorical_accuracy: 0.3214 - val_loss: 2.3494 - val_sparse_categorical_accuracy: 0.4545\n",
      "Epoch 11/100\n",
      "7/7 [==============================] - 2s 307ms/step - loss: 2.1907 - sparse_categorical_accuracy: 0.3810 - val_loss: 2.3181 - val_sparse_categorical_accuracy: 0.4545\n",
      "Epoch 12/100\n",
      "7/7 [==============================] - 2s 303ms/step - loss: 2.2190 - sparse_categorical_accuracy: 0.3452 - val_loss: 2.2855 - val_sparse_categorical_accuracy: 0.4545\n",
      "Epoch 13/100\n",
      "7/7 [==============================] - 2s 297ms/step - loss: 2.1171 - sparse_categorical_accuracy: 0.4167 - val_loss: 2.2545 - val_sparse_categorical_accuracy: 0.4545\n",
      "Epoch 14/100\n",
      "7/7 [==============================] - 2s 289ms/step - loss: 2.1141 - sparse_categorical_accuracy: 0.4524 - val_loss: 2.2220 - val_sparse_categorical_accuracy: 0.4545\n",
      "Epoch 15/100\n",
      "7/7 [==============================] - 2s 284ms/step - loss: 2.0758 - sparse_categorical_accuracy: 0.4048 - val_loss: 2.1843 - val_sparse_categorical_accuracy: 0.4545\n",
      "Epoch 16/100\n",
      "7/7 [==============================] - 2s 289ms/step - loss: 2.0063 - sparse_categorical_accuracy: 0.4881 - val_loss: 2.1436 - val_sparse_categorical_accuracy: 0.4545\n",
      "Epoch 17/100\n",
      "7/7 [==============================] - 2s 290ms/step - loss: 1.9809 - sparse_categorical_accuracy: 0.4881 - val_loss: 2.1086 - val_sparse_categorical_accuracy: 0.4091\n",
      "Epoch 18/100\n",
      "7/7 [==============================] - 2s 294ms/step - loss: 1.9355 - sparse_categorical_accuracy: 0.5238 - val_loss: 2.0734 - val_sparse_categorical_accuracy: 0.4545\n",
      "Epoch 19/100\n",
      "7/7 [==============================] - 2s 300ms/step - loss: 1.8462 - sparse_categorical_accuracy: 0.5595 - val_loss: 2.0439 - val_sparse_categorical_accuracy: 0.4545\n",
      "Epoch 20/100\n",
      "7/7 [==============================] - 2s 301ms/step - loss: 1.8701 - sparse_categorical_accuracy: 0.5119 - val_loss: 2.0257 - val_sparse_categorical_accuracy: 0.4545\n",
      "Epoch 21/100\n",
      "7/7 [==============================] - 2s 301ms/step - loss: 1.7630 - sparse_categorical_accuracy: 0.5952 - val_loss: 2.0099 - val_sparse_categorical_accuracy: 0.4545\n",
      "Epoch 22/100\n",
      "7/7 [==============================] - 3s 477ms/step - loss: 1.6940 - sparse_categorical_accuracy: 0.6429 - val_loss: 1.9821 - val_sparse_categorical_accuracy: 0.4545\n",
      "Epoch 23/100\n",
      "7/7 [==============================] - 4s 558ms/step - loss: 1.6764 - sparse_categorical_accuracy: 0.6190 - val_loss: 1.9488 - val_sparse_categorical_accuracy: 0.4545\n",
      "Epoch 24/100\n",
      "7/7 [==============================] - 4s 558ms/step - loss: 1.6717 - sparse_categorical_accuracy: 0.5833 - val_loss: 1.9128 - val_sparse_categorical_accuracy: 0.4545\n",
      "Epoch 25/100\n",
      "7/7 [==============================] - 4s 559ms/step - loss: 1.6017 - sparse_categorical_accuracy: 0.6310 - val_loss: 1.8830 - val_sparse_categorical_accuracy: 0.5000\n",
      "Epoch 26/100\n",
      "7/7 [==============================] - 4s 558ms/step - loss: 1.5483 - sparse_categorical_accuracy: 0.7024 - val_loss: 1.8611 - val_sparse_categorical_accuracy: 0.5000\n",
      "Epoch 27/100\n",
      "7/7 [==============================] - 2s 313ms/step - loss: 1.5413 - sparse_categorical_accuracy: 0.7024 - val_loss: 1.8333 - val_sparse_categorical_accuracy: 0.5455\n",
      "Epoch 28/100\n",
      "7/7 [==============================] - 2s 304ms/step - loss: 1.4581 - sparse_categorical_accuracy: 0.7143 - val_loss: 1.8092 - val_sparse_categorical_accuracy: 0.5455\n",
      "Epoch 29/100\n",
      "7/7 [==============================] - 2s 337ms/step - loss: 1.3592 - sparse_categorical_accuracy: 0.7500 - val_loss: 1.8002 - val_sparse_categorical_accuracy: 0.5000\n",
      "Epoch 30/100\n",
      "7/7 [==============================] - 2s 317ms/step - loss: 1.4072 - sparse_categorical_accuracy: 0.7024 - val_loss: 1.7791 - val_sparse_categorical_accuracy: 0.5455\n",
      "Epoch 31/100\n",
      "7/7 [==============================] - 2s 305ms/step - loss: 1.3346 - sparse_categorical_accuracy: 0.7738 - val_loss: 1.7555 - val_sparse_categorical_accuracy: 0.5909\n",
      "Epoch 32/100\n",
      "7/7 [==============================] - 2s 303ms/step - loss: 1.3572 - sparse_categorical_accuracy: 0.7381 - val_loss: 1.7369 - val_sparse_categorical_accuracy: 0.5909\n",
      "Epoch 33/100\n",
      "7/7 [==============================] - 2s 301ms/step - loss: 1.2720 - sparse_categorical_accuracy: 0.8214 - val_loss: 1.7157 - val_sparse_categorical_accuracy: 0.5455\n",
      "Epoch 34/100\n",
      "7/7 [==============================] - 2s 307ms/step - loss: 1.2046 - sparse_categorical_accuracy: 0.8452 - val_loss: 1.6829 - val_sparse_categorical_accuracy: 0.5455\n",
      "Epoch 35/100\n",
      "7/7 [==============================] - 2s 302ms/step - loss: 1.1698 - sparse_categorical_accuracy: 0.8452 - val_loss: 1.6593 - val_sparse_categorical_accuracy: 0.5455\n",
      "Epoch 36/100\n",
      "7/7 [==============================] - 2s 302ms/step - loss: 1.1138 - sparse_categorical_accuracy: 0.8810 - val_loss: 1.6415 - val_sparse_categorical_accuracy: 0.5455\n",
      "Epoch 37/100\n",
      "7/7 [==============================] - 2s 302ms/step - loss: 1.1429 - sparse_categorical_accuracy: 0.7976 - val_loss: 1.6247 - val_sparse_categorical_accuracy: 0.5000\n",
      "Epoch 38/100\n",
      "7/7 [==============================] - 2s 304ms/step - loss: 1.0734 - sparse_categorical_accuracy: 0.8214 - val_loss: 1.6078 - val_sparse_categorical_accuracy: 0.5909\n",
      "Epoch 39/100\n",
      "7/7 [==============================] - 2s 303ms/step - loss: 0.9917 - sparse_categorical_accuracy: 0.8690 - val_loss: 1.5856 - val_sparse_categorical_accuracy: 0.5909\n",
      "Epoch 40/100\n",
      "7/7 [==============================] - 2s 303ms/step - loss: 1.1131 - sparse_categorical_accuracy: 0.8095 - val_loss: 1.5633 - val_sparse_categorical_accuracy: 0.5909\n",
      "Epoch 41/100\n",
      "7/7 [==============================] - 2s 303ms/step - loss: 1.0515 - sparse_categorical_accuracy: 0.7857 - val_loss: 1.5330 - val_sparse_categorical_accuracy: 0.5909\n",
      "Epoch 42/100\n",
      "7/7 [==============================] - 2s 304ms/step - loss: 0.9747 - sparse_categorical_accuracy: 0.8571 - val_loss: 1.5040 - val_sparse_categorical_accuracy: 0.5909\n",
      "Epoch 43/100\n",
      "7/7 [==============================] - 2s 303ms/step - loss: 0.9018 - sparse_categorical_accuracy: 0.8929 - val_loss: 1.4717 - val_sparse_categorical_accuracy: 0.5909\n",
      "Epoch 44/100\n",
      "7/7 [==============================] - 2s 304ms/step - loss: 0.9034 - sparse_categorical_accuracy: 0.8690 - val_loss: 1.4526 - val_sparse_categorical_accuracy: 0.5909\n",
      "Epoch 45/100\n",
      "7/7 [==============================] - 2s 307ms/step - loss: 0.8446 - sparse_categorical_accuracy: 0.9286 - val_loss: 1.4361 - val_sparse_categorical_accuracy: 0.5909\n",
      "Epoch 46/100\n",
      "7/7 [==============================] - 2s 304ms/step - loss: 0.7781 - sparse_categorical_accuracy: 0.9167 - val_loss: 1.4067 - val_sparse_categorical_accuracy: 0.5909\n",
      "Epoch 47/100\n",
      "7/7 [==============================] - 3s 379ms/step - loss: 0.8172 - sparse_categorical_accuracy: 0.9286 - val_loss: 1.3855 - val_sparse_categorical_accuracy: 0.5909\n",
      "Epoch 48/100\n",
      "7/7 [==============================] - 4s 557ms/step - loss: 0.7983 - sparse_categorical_accuracy: 0.9286 - val_loss: 1.3677 - val_sparse_categorical_accuracy: 0.5909\n",
      "Epoch 49/100\n",
      "7/7 [==============================] - 4s 560ms/step - loss: 0.7558 - sparse_categorical_accuracy: 0.9167 - val_loss: 1.3727 - val_sparse_categorical_accuracy: 0.5909\n",
      "Epoch 50/100\n",
      "7/7 [==============================] - 4s 559ms/step - loss: 0.7101 - sparse_categorical_accuracy: 0.9286 - val_loss: 1.3542 - val_sparse_categorical_accuracy: 0.5909\n",
      "Epoch 51/100\n",
      "7/7 [==============================] - 4s 560ms/step - loss: 0.7027 - sparse_categorical_accuracy: 0.9167 - val_loss: 1.3035 - val_sparse_categorical_accuracy: 0.5909\n",
      "Epoch 52/100\n",
      "7/7 [==============================] - 4s 558ms/step - loss: 0.6421 - sparse_categorical_accuracy: 0.9643 - val_loss: 1.2557 - val_sparse_categorical_accuracy: 0.6818\n",
      "Epoch 53/100\n",
      "7/7 [==============================] - 4s 559ms/step - loss: 0.6700 - sparse_categorical_accuracy: 0.9405 - val_loss: 1.2406 - val_sparse_categorical_accuracy: 0.6818\n",
      "Epoch 54/100\n",
      "7/7 [==============================] - 4s 559ms/step - loss: 0.6734 - sparse_categorical_accuracy: 0.9524 - val_loss: 1.2483 - val_sparse_categorical_accuracy: 0.6818\n",
      "Epoch 55/100\n",
      "7/7 [==============================] - 4s 556ms/step - loss: 0.6027 - sparse_categorical_accuracy: 0.9405 - val_loss: 1.2625 - val_sparse_categorical_accuracy: 0.6818\n",
      "Epoch 56/100\n",
      "7/7 [==============================] - 4s 559ms/step - loss: 0.6109 - sparse_categorical_accuracy: 0.9286 - val_loss: 1.2643 - val_sparse_categorical_accuracy: 0.6818\n",
      "Epoch 57/100\n",
      "7/7 [==============================] - 4s 560ms/step - loss: 0.5775 - sparse_categorical_accuracy: 0.9643 - val_loss: 1.2240 - val_sparse_categorical_accuracy: 0.6818\n",
      "Epoch 58/100\n",
      "7/7 [==============================] - 4s 558ms/step - loss: 0.5609 - sparse_categorical_accuracy: 0.9524 - val_loss: 1.1589 - val_sparse_categorical_accuracy: 0.7273\n",
      "Epoch 59/100\n",
      "7/7 [==============================] - 4s 558ms/step - loss: 0.5535 - sparse_categorical_accuracy: 0.9405 - val_loss: 1.1259 - val_sparse_categorical_accuracy: 0.7273\n",
      "Epoch 60/100\n",
      "7/7 [==============================] - 4s 558ms/step - loss: 0.5216 - sparse_categorical_accuracy: 0.9881 - val_loss: 1.1257 - val_sparse_categorical_accuracy: 0.7273\n",
      "Epoch 61/100\n",
      "7/7 [==============================] - 4s 556ms/step - loss: 0.4973 - sparse_categorical_accuracy: 0.9643 - val_loss: 1.1119 - val_sparse_categorical_accuracy: 0.7727\n",
      "Epoch 62/100\n",
      "7/7 [==============================] - 4s 554ms/step - loss: 0.5086 - sparse_categorical_accuracy: 0.9524 - val_loss: 1.1009 - val_sparse_categorical_accuracy: 0.7727\n",
      "Epoch 63/100\n",
      "7/7 [==============================] - 4s 559ms/step - loss: 0.4568 - sparse_categorical_accuracy: 0.9762 - val_loss: 1.1008 - val_sparse_categorical_accuracy: 0.7727\n",
      "Epoch 64/100\n",
      "7/7 [==============================] - 4s 558ms/step - loss: 0.4643 - sparse_categorical_accuracy: 0.9881 - val_loss: 1.0976 - val_sparse_categorical_accuracy: 0.7727\n",
      "Epoch 65/100\n",
      "7/7 [==============================] - 4s 558ms/step - loss: 0.4329 - sparse_categorical_accuracy: 0.9643 - val_loss: 1.0969 - val_sparse_categorical_accuracy: 0.7727\n",
      "Epoch 66/100\n",
      "7/7 [==============================] - 4s 563ms/step - loss: 0.4239 - sparse_categorical_accuracy: 1.0000 - val_loss: 1.0826 - val_sparse_categorical_accuracy: 0.7727\n",
      "Epoch 67/100\n",
      "7/7 [==============================] - 4s 571ms/step - loss: 0.4257 - sparse_categorical_accuracy: 0.9881 - val_loss: 1.0497 - val_sparse_categorical_accuracy: 0.7727\n",
      "Epoch 68/100\n",
      "7/7 [==============================] - 4s 560ms/step - loss: 0.3957 - sparse_categorical_accuracy: 0.9405 - val_loss: 1.0380 - val_sparse_categorical_accuracy: 0.7727\n",
      "Epoch 69/100\n",
      "7/7 [==============================] - 4s 559ms/step - loss: 0.3675 - sparse_categorical_accuracy: 1.0000 - val_loss: 1.0481 - val_sparse_categorical_accuracy: 0.7727\n",
      "Epoch 70/100\n",
      "7/7 [==============================] - 4s 559ms/step - loss: 0.3627 - sparse_categorical_accuracy: 0.9643 - val_loss: 1.0623 - val_sparse_categorical_accuracy: 0.7727\n",
      "Epoch 71/100\n",
      "7/7 [==============================] - 4s 561ms/step - loss: 0.3727 - sparse_categorical_accuracy: 0.9881 - val_loss: 1.0536 - val_sparse_categorical_accuracy: 0.7727\n",
      "Epoch 72/100\n",
      "7/7 [==============================] - 4s 559ms/step - loss: 0.3970 - sparse_categorical_accuracy: 0.9881 - val_loss: 1.0260 - val_sparse_categorical_accuracy: 0.7727\n",
      "Epoch 73/100\n",
      "7/7 [==============================] - 4s 558ms/step - loss: 0.3396 - sparse_categorical_accuracy: 1.0000 - val_loss: 0.9898 - val_sparse_categorical_accuracy: 0.7273\n",
      "Epoch 74/100\n",
      "7/7 [==============================] - 4s 558ms/step - loss: 0.3509 - sparse_categorical_accuracy: 0.9762 - val_loss: 0.9679 - val_sparse_categorical_accuracy: 0.7273\n",
      "Epoch 75/100\n",
      "7/7 [==============================] - 4s 560ms/step - loss: 0.3378 - sparse_categorical_accuracy: 0.9762 - val_loss: 0.9639 - val_sparse_categorical_accuracy: 0.7727\n",
      "Epoch 76/100\n",
      "7/7 [==============================] - 4s 558ms/step - loss: 0.3085 - sparse_categorical_accuracy: 0.9881 - val_loss: 0.9491 - val_sparse_categorical_accuracy: 0.7727\n",
      "Epoch 77/100\n",
      "7/7 [==============================] - 4s 561ms/step - loss: 0.3061 - sparse_categorical_accuracy: 0.9762 - val_loss: 0.9359 - val_sparse_categorical_accuracy: 0.7727\n",
      "Epoch 78/100\n",
      "7/7 [==============================] - 4s 559ms/step - loss: 0.2948 - sparse_categorical_accuracy: 0.9881 - val_loss: 0.9446 - val_sparse_categorical_accuracy: 0.7727\n",
      "Epoch 79/100\n",
      "7/7 [==============================] - 4s 564ms/step - loss: 0.2784 - sparse_categorical_accuracy: 0.9881 - val_loss: 0.9411 - val_sparse_categorical_accuracy: 0.7727\n",
      "Epoch 80/100\n",
      "7/7 [==============================] - 4s 575ms/step - loss: 0.3132 - sparse_categorical_accuracy: 0.9881 - val_loss: 0.9234 - val_sparse_categorical_accuracy: 0.7727\n",
      "Epoch 81/100\n",
      "7/7 [==============================] - 4s 575ms/step - loss: 0.2556 - sparse_categorical_accuracy: 0.9881 - val_loss: 0.9095 - val_sparse_categorical_accuracy: 0.7273\n",
      "Epoch 82/100\n",
      "7/7 [==============================] - 4s 562ms/step - loss: 0.2788 - sparse_categorical_accuracy: 0.9881 - val_loss: 0.9097 - val_sparse_categorical_accuracy: 0.7273\n",
      "Epoch 83/100\n",
      "7/7 [==============================] - 4s 561ms/step - loss: 0.2906 - sparse_categorical_accuracy: 0.9762 - val_loss: 0.9126 - val_sparse_categorical_accuracy: 0.7727\n",
      "Epoch 84/100\n",
      "7/7 [==============================] - 4s 559ms/step - loss: 0.2593 - sparse_categorical_accuracy: 1.0000 - val_loss: 0.9062 - val_sparse_categorical_accuracy: 0.7727\n",
      "Epoch 85/100\n",
      "7/7 [==============================] - 4s 559ms/step - loss: 0.2368 - sparse_categorical_accuracy: 1.0000 - val_loss: 0.9040 - val_sparse_categorical_accuracy: 0.7727\n",
      "Epoch 86/100\n",
      "7/7 [==============================] - 4s 557ms/step - loss: 0.2540 - sparse_categorical_accuracy: 0.9762 - val_loss: 0.8997 - val_sparse_categorical_accuracy: 0.7727\n",
      "Epoch 87/100\n",
      "7/7 [==============================] - 4s 558ms/step - loss: 0.2248 - sparse_categorical_accuracy: 1.0000 - val_loss: 0.9025 - val_sparse_categorical_accuracy: 0.7727\n",
      "Epoch 88/100\n",
      "7/7 [==============================] - 4s 558ms/step - loss: 0.2352 - sparse_categorical_accuracy: 0.9881 - val_loss: 0.9144 - val_sparse_categorical_accuracy: 0.7727\n",
      "Epoch 89/100\n",
      "7/7 [==============================] - 4s 558ms/step - loss: 0.2360 - sparse_categorical_accuracy: 0.9881 - val_loss: 0.9113 - val_sparse_categorical_accuracy: 0.7727\n",
      "Epoch 90/100\n",
      "7/7 [==============================] - 4s 559ms/step - loss: 0.2323 - sparse_categorical_accuracy: 0.9881 - val_loss: 0.8997 - val_sparse_categorical_accuracy: 0.7727\n",
      "Epoch 91/100\n",
      "7/7 [==============================] - 4s 559ms/step - loss: 0.2192 - sparse_categorical_accuracy: 1.0000 - val_loss: 0.8835 - val_sparse_categorical_accuracy: 0.7727\n",
      "Epoch 92/100\n",
      "7/7 [==============================] - 4s 559ms/step - loss: 0.2312 - sparse_categorical_accuracy: 0.9881 - val_loss: 0.8628 - val_sparse_categorical_accuracy: 0.7273\n",
      "Epoch 93/100\n",
      "7/7 [==============================] - 4s 557ms/step - loss: 0.2062 - sparse_categorical_accuracy: 1.0000 - val_loss: 0.8498 - val_sparse_categorical_accuracy: 0.7273\n",
      "Epoch 94/100\n",
      "7/7 [==============================] - 4s 564ms/step - loss: 0.2160 - sparse_categorical_accuracy: 0.9881 - val_loss: 0.8499 - val_sparse_categorical_accuracy: 0.7727\n",
      "Epoch 95/100\n",
      "7/7 [==============================] - 4s 560ms/step - loss: 0.2164 - sparse_categorical_accuracy: 1.0000 - val_loss: 0.8502 - val_sparse_categorical_accuracy: 0.7727\n",
      "Epoch 96/100\n",
      "7/7 [==============================] - 4s 561ms/step - loss: 0.2035 - sparse_categorical_accuracy: 0.9762 - val_loss: 0.8487 - val_sparse_categorical_accuracy: 0.7727\n",
      "Epoch 97/100\n",
      "7/7 [==============================] - 4s 561ms/step - loss: 0.1991 - sparse_categorical_accuracy: 0.9881 - val_loss: 0.8514 - val_sparse_categorical_accuracy: 0.7727\n",
      "Epoch 98/100\n",
      "7/7 [==============================] - 4s 559ms/step - loss: 0.2024 - sparse_categorical_accuracy: 0.9881 - val_loss: 0.8626 - val_sparse_categorical_accuracy: 0.7727\n",
      "Epoch 99/100\n",
      "7/7 [==============================] - 4s 572ms/step - loss: 0.1705 - sparse_categorical_accuracy: 1.0000 - val_loss: 0.8711 - val_sparse_categorical_accuracy: 0.7727\n",
      "Epoch 100/100\n",
      "7/7 [==============================] - 4s 559ms/step - loss: 0.1721 - sparse_categorical_accuracy: 0.9881 - val_loss: 0.8747 - val_sparse_categorical_accuracy: 0.7727\n"
     ]
    }
   ],
   "source": [
    "epochs = 100\n",
    "\n",
    "history = model.fit(\n",
    "    train_dataset,\n",
    "    epochs=epochs,\n",
    "    validation_data=valid_dataset\n",
    ")"
   ]
  },
  {
   "cell_type": "code",
   "execution_count": 56,
   "id": "8fdb9507-f6ad-4047-986a-a82377ef528a",
   "metadata": {},
   "outputs": [
    {
     "data": {
      "text/plain": [
       "<matplotlib.legend.Legend at 0x2432244af70>"
      ]
     },
     "execution_count": 56,
     "metadata": {},
     "output_type": "execute_result"
    },
    {
     "data": {
      "image/png": "[encoded data removed]",
      "text/plain": [
       "<Figure size 720x432 with 1 Axes>"
      ]
     },
     "metadata": {
      "needs_background": "light"
     },
     "output_type": "display_data"
    }
   ],
   "source": [
    "fig, ax = plt.subplots(figsize=(10, 6), constrained_layout=True)\n",
    "ax.plot(history.history[\"loss\"], label=\"Training loss\")\n",
    "ax.plot(history.history[\"val_loss\"], label=\"Validation loss\")\n",
    "ax.set_xlabel(\"Epcohs\")\n",
    "ax.set_ylabel(\"Loss\")\n",
    "ax.set_xticks(np.arange(0, len(history.history[\"loss\"]) + 1, 10))\n",
    "ax.legend()\n",
    "# plt.savefig(\"loss.png\")"
   ]
  },
  {
   "cell_type": "code",
   "execution_count": 57,
   "id": "cc37b96b-8abf-4e46-a615-f74b61f0d833",
   "metadata": {},
   "outputs": [
    {
     "data": {
      "text/plain": [
       "<matplotlib.legend.Legend at 0x243224cd070>"
      ]
     },
     "execution_count": 57,
     "metadata": {},
     "output_type": "execute_result"
    },
    {
     "data": {
      "image/png": "[encoded data removed]",
      "text/plain": [
       "<Figure size 720x432 with 1 Axes>"
      ]
     },
     "metadata": {
      "needs_background": "light"
     },
     "output_type": "display_data"
    }
   ],
   "source": [
    "fig, ax = plt.subplots(figsize=(10, 6), constrained_layout=True)\n",
    "ax.plot(history.history[\"sparse_categorical_accuracy\"], label=\"Training accuracy\")\n",
    "ax.plot(history.history[\"val_sparse_categorical_accuracy\"], label=\"Validation accuracy\")\n",
    "ax.set_xlabel(\"Epcohs\")\n",
    "ax.set_ylabel(\"Accuracy\")\n",
    "ax.set_xticks(np.arange(0, len(history.history[\"sparse_categorical_accuracy\"]) + 1, 10))\n",
    "ax.legend()\n",
    "fig.savefig(\"accuracy.png\")"
   ]
  },
  {
   "cell_type": "code",
   "execution_count": 58,
   "id": "c02d94e6-77b2-4f90-8c28-9f18fb0afb94",
   "metadata": {},
   "outputs": [
    {
     "name": "stdout",
     "output_type": "stream",
     "text": [
      "4/4 [==============================] - 2s 380ms/step - loss: 0.2462 - sparse_categorical_accuracy: 0.9528\n",
      "loss    : 0.2462\n",
      "sparse_categorical_accuracy: 0.9528\n"
     ]
    }
   ],
   "source": [
    "metrics = model.evaluate(\n",
    "    df_combined[\"text\"].to_numpy(),\n",
    "    df_combined[\"label_id\"].to_numpy()\n",
    ")\n",
    "\n",
    "for metric_name, metric in zip(model.metrics_names, metrics):\n",
    "    print(f\"{metric_name:<8s}: {metric:.4f}\")"
   ]
  },
  {
   "cell_type": "code",
   "execution_count": 59,
   "id": "59235fe6-65d9-4537-a0a3-f44ec045fa20",
   "metadata": {},
   "outputs": [
    {
     "name": "stdout",
     "output_type": "stream",
     "text": [
      "4/4 [==============================] - 2s 479ms/step\n",
      "accuracy : 0.9528\n",
      "precision: 0.9588\n",
      "recall   : 0.9588\n",
      "F1       : 0.9434\n"
     ]
    }
   ],
   "source": [
    "predictions_probabilities = model.predict(df_combined[\"text\"])\n",
    "predictions = np.argmax(predictions_probabilities, axis=1)\n",
    "\n",
    "y_true = df_combined[\"label_id\"].to_numpy()\n",
    "accuracy = accuracy_score(y_true, predictions)\n",
    "precision = precision_score(y_true, predictions, average=\"macro\")\n",
    "recall = precision_score(y_true, predictions, average=\"macro\")\n",
    "f1score = f1_score(y_true, predictions, average=\"macro\")\n",
    "\n",
    "print(f\"accuracy : {accuracy:.4f}\")\n",
    "print(f\"precision: {precision:.4f}\")\n",
    "print(f\"recall   : {recall:.4f}\")\n",
    "print(f\"F1       : {f1score:.4f}\")"
   ]
  },
  {
   "cell_type": "code",
   "execution_count": 60,
   "id": "bff112a2-4a41-44fc-94b5-08ab717799fc",
   "metadata": {},
   "outputs": [
    {
     "data": {
      "text/plain": [
       "<AxesSubplot:>"
      ]
     },
     "execution_count": 60,
     "metadata": {},
     "output_type": "execute_result"
    },
    {
     "data": {
      "image/png": "[encoded data removed]",
      "text/plain": [
       "<Figure size 720x504 with 2 Axes>"
      ]
     },
     "metadata": {
      "needs_background": "light"
     },
     "output_type": "display_data"
    }
   ],
   "source": [
    "matrix = confusion_matrix(y_true, predictions)\n",
    "index = label_to_idx.keys()\n",
    "df = pd.DataFrame(matrix, index=index, columns=index)\n",
    "plt.figure(figsize=(10, 7))\n",
    "sns.heatmap(df, annot=True, fmt=\"d\")\n",
    "plt.savefig(\"confusion_matrix.png\")"
   ]
  }
 ],
 "metadata": {
  "kernelspec": {
   "display_name": "licenta",
   "language": "python",
   "name": "licenta"
  },
  "language_info": {
   "codemirror_mode": {
    "name": "ipython",
    "version": 3
   },
   "file_extension": ".py",
   "mimetype": "text/x-python",
   "name": "python",
   "nbconvert_exporter": "python",
   "pygments_lexer": "ipython3",
   "version": "3.8.13"
  }
 },
 "nbformat": 4,
 "nbformat_minor": 5
}
