{
 "cells": [
  {
   "cell_type": "code",
   "execution_count": 1,
   "id": "039f1329-9946-45f7-a381-f9e37998d287",
   "metadata": {},
   "outputs": [],
   "source": [
    "import matplotlib.pyplot as plt\n",
    "import pandas as pd\n",
    "import numpy as np\n",
    "import os\n",
    "import preprocess_utils as prep"
   ]
  },
  {
   "cell_type": "code",
   "execution_count": 2,
   "id": "0abe43e3-eae1-42c3-a1ff-3ab7b6cdcc03",
   "metadata": {},
   "outputs": [
    {
     "data": {
      "text/plain": [
       "dict_keys(['tokens', 'pos_tags', 'chunk_tags', 'entity_tags'])"
      ]
     },
     "execution_count": 2,
     "metadata": {},
     "output_type": "execute_result"
    }
   ],
   "source": [
    "data = prep.read_iob_file(os.path.join(\"datasets\", \"conll2003\", \"train.txt\"))\n",
    "data.keys()"
   ]
  },
  {
   "cell_type": "code",
   "execution_count": 3,
   "id": "bf521697-0342-4ce5-8613-e8e90441048d",
   "metadata": {},
   "outputs": [
    {
     "data": {
      "text/html": [
       "<div>\n",
       "<style scoped>\n",
       "    .dataframe tbody tr th:only-of-type {\n",
       "        vertical-align: middle;\n",
       "    }\n",
       "\n",
       "    .dataframe tbody tr th {\n",
       "        vertical-align: top;\n",
       "    }\n",
       "\n",
       "    .dataframe thead th {\n",
       "        text-align: right;\n",
       "    }\n",
       "</style>\n",
       "<table border=\"1\" class=\"dataframe\">\n",
       "  <thead>\n",
       "    <tr style=\"text-align: right;\">\n",
       "      <th></th>\n",
       "      <th>tokens</th>\n",
       "      <th>entity_tags</th>\n",
       "    </tr>\n",
       "  </thead>\n",
       "  <tbody>\n",
       "    <tr>\n",
       "      <th>0</th>\n",
       "      <td>[EU, rejects, German, call, to, boycott, Briti...</td>\n",
       "      <td>[B-ORG, O, B-MISC, O, O, O, B-MISC, O]</td>\n",
       "    </tr>\n",
       "    <tr>\n",
       "      <th>1</th>\n",
       "      <td>[Peter, Blackburn]</td>\n",
       "      <td>[B-PER, I-PER]</td>\n",
       "    </tr>\n",
       "    <tr>\n",
       "      <th>2</th>\n",
       "      <td>[BRUSSELS, 1996-08-22]</td>\n",
       "      <td>[B-LOC, O]</td>\n",
       "    </tr>\n",
       "    <tr>\n",
       "      <th>3</th>\n",
       "      <td>[The, European, Commission, said, on, Thursday...</td>\n",
       "      <td>[O, B-ORG, I-ORG, O, O, O, O, O, O, B-MISC, O,...</td>\n",
       "    </tr>\n",
       "    <tr>\n",
       "      <th>4</th>\n",
       "      <td>[Germany, 's, representative, to, the, Europea...</td>\n",
       "      <td>[B-LOC, O, O, O, O, B-ORG, I-ORG, O, O, O, B-P...</td>\n",
       "    </tr>\n",
       "  </tbody>\n",
       "</table>\n",
       "</div>"
      ],
      "text/plain": [
       "                                              tokens  \\\n",
       "0  [EU, rejects, German, call, to, boycott, Briti...   \n",
       "1                                 [Peter, Blackburn]   \n",
       "2                             [BRUSSELS, 1996-08-22]   \n",
       "3  [The, European, Commission, said, on, Thursday...   \n",
       "4  [Germany, 's, representative, to, the, Europea...   \n",
       "\n",
       "                                         entity_tags  \n",
       "0             [B-ORG, O, B-MISC, O, O, O, B-MISC, O]  \n",
       "1                                     [B-PER, I-PER]  \n",
       "2                                         [B-LOC, O]  \n",
       "3  [O, B-ORG, I-ORG, O, O, O, O, O, O, B-MISC, O,...  \n",
       "4  [B-LOC, O, O, O, O, B-ORG, I-ORG, O, O, O, B-P...  "
      ]
     },
     "execution_count": 3,
     "metadata": {},
     "output_type": "execute_result"
    }
   ],
   "source": [
    "df = pd.DataFrame(data, columns=[\"tokens\", \"entity_tags\"])\n",
    "df.head()"
   ]
  },
  {
   "cell_type": "code",
   "execution_count": 4,
   "id": "8b6e56fc-ffe9-4fca-8dac-3753c3241fd0",
   "metadata": {},
   "outputs": [
    {
     "name": "stdout",
     "output_type": "stream",
     "text": [
      "Number of sentences: 14018\n"
     ]
    }
   ],
   "source": [
    "print(f\"Number of sentences: {df.shape[0]}\")"
   ]
  },
  {
   "cell_type": "code",
   "execution_count": 5,
   "id": "88ad6f1d-85ae-4901-9a08-79a9ebc19d15",
   "metadata": {},
   "outputs": [
    {
     "name": "stdout",
     "output_type": "stream",
     "text": [
      "0         8\n",
      "1         2\n",
      "2         2\n",
      "3        29\n",
      "4        30\n",
      "         ..\n",
      "14013     2\n",
      "14014     2\n",
      "14015     4\n",
      "14016     2\n",
      "14017     4\n",
      "Name: tokens, Length: 14018, dtype: int64\n"
     ]
    },
    {
     "data": {
      "image/png": "[encoded data removed]",
      "text/plain": [
       "<Figure size 864x432 with 1 Axes>"
      ]
     },
     "metadata": {
      "needs_background": "light"
     },
     "output_type": "display_data"
    }
   ],
   "source": [
    "sentence_length = df[\"tokens\"].map(lambda sentence: len(sentence))\n",
    "print(sentence_length)\n",
    "\n",
    "fig, ax = plt.subplots(figsize=(12, 6), layout=\"constrained\")\n",
    "ax.hist(sentence_length, bins=np.arange(90), edgecolor=\"white\")\n",
    "ax.set_xlabel(\"Sentence length\")\n",
    "ax.set_ylabel(\"Number of sentences\")\n",
    "ax.set_title(\"Conll2003 sentence length\")\n",
    "ax.set_xticks(np.arange(0, 95, 5))\n",
    "plt.show()"
   ]
  },
  {
   "cell_type": "code",
   "execution_count": 6,
   "id": "cb71e8cc-1850-4304-aa56-2ce945432c33",
   "metadata": {},
   "outputs": [
    {
     "name": "stdout",
     "output_type": "stream",
     "text": [
      "Mean sentence length: 12.71\n"
     ]
    }
   ],
   "source": [
    "print(f\"Mean sentence length: {sentence_length.mean():.2f}\")"
   ]
  },
  {
   "cell_type": "code",
   "execution_count": 7,
   "id": "7a93b6ea-36c6-4b17-9a88-983f06f8f90d",
   "metadata": {},
   "outputs": [
    {
     "name": "stdout",
     "output_type": "stream",
     "text": [
      "Unique entity tags:\n",
      "  -> B-LOC\n",
      "  -> B-MISC\n",
      "  -> B-ORG\n",
      "  -> B-PER\n",
      "  -> I-LOC\n",
      "  -> I-MISC\n",
      "  -> I-ORG\n",
      "  -> I-PER\n",
      "  -> O\n"
     ]
    }
   ],
   "source": [
    "unique_entity_tags = df[\"entity_tags\"].explode().unique()\n",
    "print(\"Unique entity tags:\")\n",
    "for tag in sorted(unique_entity_tags):\n",
    "    print(f\"  -> {tag}\")"
   ]
  },
  {
   "cell_type": "code",
   "execution_count": 8,
   "id": "3b60fe38-5aab-433e-aa62-c5b7d491f0b6",
   "metadata": {},
   "outputs": [
    {
     "data": {
      "text/plain": [
       "{'B-LOC', 'B-MISC', 'B-ORG', 'B-PER', 'I-LOC', 'I-MISC', 'I-ORG', 'I-PER'}"
      ]
     },
     "execution_count": 8,
     "metadata": {},
     "output_type": "execute_result"
    }
   ],
   "source": [
    "entity_tags = set(unique_entity_tags)\n",
    "entity_tags.difference_update(\"O\")\n",
    "entity_tags"
   ]
  },
  {
   "cell_type": "code",
   "execution_count": 9,
   "id": "07b833d0-4c33-47b1-9c10-09921e8b0f1c",
   "metadata": {},
   "outputs": [
    {
     "data": {
      "image/png": "[encoded data removed]",
      "text/plain": [
       "<Figure size 864x432 with 1 Axes>"
      ]
     },
     "metadata": {
      "needs_background": "light"
     },
     "output_type": "display_data"
    }
   ],
   "source": [
    "def count_entity_tags_per_sentence(sentence_entity_tags):\n",
    "    def is_valid(entity_tag):\n",
    "        return entity_tag in entity_tags\n",
    "    \n",
    "    valid_entity_tags = list(filter(is_valid, sentence_entity_tags))\n",
    "    return len(valid_entity_tags)\n",
    "\n",
    "num_entity_tags_per_sentence = df[\"entity_tags\"].map(count_entity_tags_per_sentence)\n",
    "avg_entity_tags_per_sentence_length = pd.DataFrame(\n",
    "    {\n",
    "        \"sentence_length\": sentence_length,\n",
    "        \"num_entity_tags\": num_entity_tags_per_sentence\n",
    "    }\n",
    ").groupby(\"sentence_length\").mean()\n",
    "\n",
    "fig, ax = plt.subplots(figsize=(12, 6), layout=\"constrained\")\n",
    "ax.bar(\n",
    "    avg_entity_tags_per_sentence_length.index,\n",
    "    avg_entity_tags_per_sentence_length[\"num_entity_tags\"]\n",
    ")\n",
    "ax.set_xticks(np.arange(0, 95, 5))\n",
    "ax.set_yticks(np.arange(0, 13))\n",
    "ax.set_xlabel(\"Sentence length\")\n",
    "ax.set_ylabel(\"Number of entity tagas\")\n",
    "ax.set_title(\"Average number of entity tags per sentence length\")\n",
    "plt.show()"
   ]
  },
  {
   "cell_type": "code",
   "execution_count": 10,
   "id": "e15e1df8-cb74-4cae-a372-4332aa6efb6a",
   "metadata": {},
   "outputs": [
    {
     "name": "stdout",
     "output_type": "stream",
     "text": [
      "B-LOC     7140\n",
      "B-PER     6600\n",
      "B-ORG     6320\n",
      "I-PER     4524\n",
      "I-ORG     3624\n",
      "B-MISC    3438\n",
      "I-LOC     1147\n",
      "I-MISC    1135\n",
      "Name: entity_tags, dtype: int64\n"
     ]
    },
    {
     "data": {
      "image/png": "[encoded data removed]",
      "text/plain": [
       "<Figure size 864x432 with 1 Axes>"
      ]
     },
     "metadata": {
      "needs_background": "light"
     },
     "output_type": "display_data"
    }
   ],
   "source": [
    "flatten_entity_tags = df[\"entity_tags\"].explode()\n",
    "valid_entity_tags = flatten_entity_tags[flatten_entity_tags.isin(entity_tags)]\n",
    "count_entity_tags = valid_entity_tags.value_counts()\n",
    "print(count_entity_tags)\n",
    "\n",
    "fig, ax = plt.subplots(figsize=(12, 6), layout=\"constrained\")\n",
    "xticks = np.arange(len(count_entity_tags.index))\n",
    "ax.bar(\n",
    "    xticks,\n",
    "    count_entity_tags\n",
    ")\n",
    "ax.set_xticks(xticks, count_entity_tags.index)\n",
    "ax.set_yticks(np.arange(0, 7500, 500))\n",
    "ax.set_xlabel(\"Entity Tags\")\n",
    "ax.set_ylabel(\"Count\")\n",
    "ax.set_title(\"Count of entity tags\")\n",
    "plt.show()"
   ]
  }
 ],
 "metadata": {
  "kernelspec": {
   "display_name": "licenta",
   "language": "python",
   "name": "licenta"
  },
  "language_info": {
   "codemirror_mode": {
    "name": "ipython",
    "version": 3
   },
   "file_extension": ".py",
   "mimetype": "text/x-python",
   "name": "python",
   "nbconvert_exporter": "python",
   "pygments_lexer": "ipython3",
   "version": "3.8.6"
  }
 },
 "nbformat": 4,
 "nbformat_minor": 5
}
